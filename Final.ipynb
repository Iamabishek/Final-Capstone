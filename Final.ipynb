{
 "cells": [
  {
   "cell_type": "code",
   "execution_count": 1,
   "metadata": {},
   "outputs": [],
   "source": [
    "import numpy as np\n",
    "import pandas as pd\n",
    "import seaborn as sns\n",
    "import matplotlib.pyplot as plt\n",
    "from sklearn.preprocessing import StandardScaler\n",
    "from sklearn.model_selection import KFold\n",
    "from sklearn.model_selection import cross_val_score\n",
    "from sklearn.model_selection import GridSearchCV\n",
    "from sklearn.pipeline import Pipeline\n",
    "from sklearn.ensemble import AdaBoostClassifier\n",
    "from sklearn.ensemble import BaggingClassifier\n",
    "from sklearn.ensemble import GradientBoostingClassifier\n",
    "from sklearn.metrics import mean_squared_error\n",
    "from sklearn.linear_model import LogisticRegression\n",
    "from sklearn.linear_model import LinearRegression\n",
    "from sklearn import metrics\n",
    "from sklearn.neighbors import KNeighborsClassifier\n",
    "from sklearn.neighbors import KNeighborsRegressor\n",
    "from sklearn.naive_bayes import GaussianNB\n",
    "from sklearn.tree import DecisionTreeClassifier\n",
    "from sklearn.tree import DecisionTreeRegressor\n",
    "from sklearn.ensemble import RandomForestClassifier\n",
    "from sklearn.discriminant_analysis import LinearDiscriminantAnalysis\n",
    "from sklearn.model_selection import train_test_split\n",
    "from sklearn import model_selection\n",
    "from sklearn import metrics\n",
    "from imblearn.over_sampling import SMOTE\n",
    "%matplotlib inline\n",
    "import warnings\n",
    "warnings.filterwarnings('ignore')"
   ]
  },
  {
   "cell_type": "code",
   "execution_count": 2,
   "metadata": {},
   "outputs": [],
   "source": [
    "pd.options.display.max_rows = 200"
   ]
  },
  {
   "cell_type": "code",
   "execution_count": 3,
   "metadata": {},
   "outputs": [],
   "source": [
    "data = pd.read_csv('risk_factors_cervical_cancer.csv' , usecols=['Age', 'Number of sexual partners', 'First sexual intercourse',\n",
    "                          'Num of pregnancies',  'Smokes',  'Smokes (years)',  'Smokes (packs/year)',  'Hormonal Contraceptives',\n",
    "                          'Hormonal Contraceptives (years)',  'IUD', 'IUD (years)', 'STDs', 'STDs (number)', 'STDs:condylomatosis',\n",
    "                          'STDs:cervical condylomatosis', 'STDs:vaginal condylomatosis', 'STDs:vulvo-perineal condylomatosis',\n",
    "                          'STDs:syphilis', 'STDs:pelvic inflammatory disease', 'STDs:genital herpes', 'STDs:molluscum contagiosum',\n",
    "                          'STDs:AIDS', 'STDs:HIV', 'STDs:Hepatitis B', 'STDs:HPV', 'STDs: Number of diagnosis', 'STDs: Time since first diagnosis',\n",
    "                          'STDs: Time since last diagnosis', 'Dx:Cancer', 'Dx:CIN', 'Dx:HPV', 'Dx', 'Biopsy'])\n",
    "data = data.replace('?' , np.nan)"
   ]
  },
  {
   "cell_type": "code",
   "execution_count": 4,
   "metadata": {},
   "outputs": [
    {
     "data": {
      "text/html": [
       "<div>\n",
       "<style scoped>\n",
       "    .dataframe tbody tr th:only-of-type {\n",
       "        vertical-align: middle;\n",
       "    }\n",
       "\n",
       "    .dataframe tbody tr th {\n",
       "        vertical-align: top;\n",
       "    }\n",
       "\n",
       "    .dataframe thead th {\n",
       "        text-align: right;\n",
       "    }\n",
       "</style>\n",
       "<table border=\"1\" class=\"dataframe\">\n",
       "  <thead>\n",
       "    <tr style=\"text-align: right;\">\n",
       "      <th></th>\n",
       "      <th>Age</th>\n",
       "      <th>Number of sexual partners</th>\n",
       "      <th>First sexual intercourse</th>\n",
       "      <th>Num of pregnancies</th>\n",
       "      <th>Smokes</th>\n",
       "      <th>Smokes (years)</th>\n",
       "      <th>Smokes (packs/year)</th>\n",
       "      <th>Hormonal Contraceptives</th>\n",
       "      <th>Hormonal Contraceptives (years)</th>\n",
       "      <th>IUD</th>\n",
       "      <th>...</th>\n",
       "      <th>STDs:Hepatitis B</th>\n",
       "      <th>STDs:HPV</th>\n",
       "      <th>STDs: Number of diagnosis</th>\n",
       "      <th>STDs: Time since first diagnosis</th>\n",
       "      <th>STDs: Time since last diagnosis</th>\n",
       "      <th>Dx:Cancer</th>\n",
       "      <th>Dx:CIN</th>\n",
       "      <th>Dx:HPV</th>\n",
       "      <th>Dx</th>\n",
       "      <th>Biopsy</th>\n",
       "    </tr>\n",
       "  </thead>\n",
       "  <tbody>\n",
       "    <tr>\n",
       "      <th>0</th>\n",
       "      <td>18</td>\n",
       "      <td>4</td>\n",
       "      <td>15</td>\n",
       "      <td>1</td>\n",
       "      <td>0</td>\n",
       "      <td>0</td>\n",
       "      <td>0</td>\n",
       "      <td>0</td>\n",
       "      <td>0</td>\n",
       "      <td>0</td>\n",
       "      <td>...</td>\n",
       "      <td>0</td>\n",
       "      <td>0</td>\n",
       "      <td>0</td>\n",
       "      <td>NaN</td>\n",
       "      <td>NaN</td>\n",
       "      <td>0</td>\n",
       "      <td>0</td>\n",
       "      <td>0</td>\n",
       "      <td>0</td>\n",
       "      <td>0</td>\n",
       "    </tr>\n",
       "    <tr>\n",
       "      <th>1</th>\n",
       "      <td>15</td>\n",
       "      <td>1</td>\n",
       "      <td>14</td>\n",
       "      <td>1</td>\n",
       "      <td>0</td>\n",
       "      <td>0</td>\n",
       "      <td>0</td>\n",
       "      <td>0</td>\n",
       "      <td>0</td>\n",
       "      <td>0</td>\n",
       "      <td>...</td>\n",
       "      <td>0</td>\n",
       "      <td>0</td>\n",
       "      <td>0</td>\n",
       "      <td>NaN</td>\n",
       "      <td>NaN</td>\n",
       "      <td>0</td>\n",
       "      <td>0</td>\n",
       "      <td>0</td>\n",
       "      <td>0</td>\n",
       "      <td>0</td>\n",
       "    </tr>\n",
       "    <tr>\n",
       "      <th>2</th>\n",
       "      <td>34</td>\n",
       "      <td>1</td>\n",
       "      <td>NaN</td>\n",
       "      <td>1</td>\n",
       "      <td>0</td>\n",
       "      <td>0</td>\n",
       "      <td>0</td>\n",
       "      <td>0</td>\n",
       "      <td>0</td>\n",
       "      <td>0</td>\n",
       "      <td>...</td>\n",
       "      <td>0</td>\n",
       "      <td>0</td>\n",
       "      <td>0</td>\n",
       "      <td>NaN</td>\n",
       "      <td>NaN</td>\n",
       "      <td>0</td>\n",
       "      <td>0</td>\n",
       "      <td>0</td>\n",
       "      <td>0</td>\n",
       "      <td>0</td>\n",
       "    </tr>\n",
       "    <tr>\n",
       "      <th>3</th>\n",
       "      <td>52</td>\n",
       "      <td>5</td>\n",
       "      <td>16</td>\n",
       "      <td>4</td>\n",
       "      <td>1</td>\n",
       "      <td>37</td>\n",
       "      <td>37</td>\n",
       "      <td>1</td>\n",
       "      <td>3</td>\n",
       "      <td>0</td>\n",
       "      <td>...</td>\n",
       "      <td>0</td>\n",
       "      <td>0</td>\n",
       "      <td>0</td>\n",
       "      <td>NaN</td>\n",
       "      <td>NaN</td>\n",
       "      <td>1</td>\n",
       "      <td>0</td>\n",
       "      <td>1</td>\n",
       "      <td>0</td>\n",
       "      <td>0</td>\n",
       "    </tr>\n",
       "    <tr>\n",
       "      <th>4</th>\n",
       "      <td>46</td>\n",
       "      <td>3</td>\n",
       "      <td>21</td>\n",
       "      <td>4</td>\n",
       "      <td>0</td>\n",
       "      <td>0</td>\n",
       "      <td>0</td>\n",
       "      <td>1</td>\n",
       "      <td>15</td>\n",
       "      <td>0</td>\n",
       "      <td>...</td>\n",
       "      <td>0</td>\n",
       "      <td>0</td>\n",
       "      <td>0</td>\n",
       "      <td>NaN</td>\n",
       "      <td>NaN</td>\n",
       "      <td>0</td>\n",
       "      <td>0</td>\n",
       "      <td>0</td>\n",
       "      <td>0</td>\n",
       "      <td>0</td>\n",
       "    </tr>\n",
       "  </tbody>\n",
       "</table>\n",
       "<p>5 rows × 33 columns</p>\n",
       "</div>"
      ],
      "text/plain": [
       "   Age Number of sexual partners First sexual intercourse Num of pregnancies  \\\n",
       "0   18                         4                       15                  1   \n",
       "1   15                         1                       14                  1   \n",
       "2   34                         1                      NaN                  1   \n",
       "3   52                         5                       16                  4   \n",
       "4   46                         3                       21                  4   \n",
       "\n",
       "  Smokes Smokes (years) Smokes (packs/year) Hormonal Contraceptives  \\\n",
       "0      0              0                   0                       0   \n",
       "1      0              0                   0                       0   \n",
       "2      0              0                   0                       0   \n",
       "3      1             37                  37                       1   \n",
       "4      0              0                   0                       1   \n",
       "\n",
       "  Hormonal Contraceptives (years) IUD  ...   STDs:Hepatitis B STDs:HPV  \\\n",
       "0                               0   0  ...                  0        0   \n",
       "1                               0   0  ...                  0        0   \n",
       "2                               0   0  ...                  0        0   \n",
       "3                               3   0  ...                  0        0   \n",
       "4                              15   0  ...                  0        0   \n",
       "\n",
       "  STDs: Number of diagnosis STDs: Time since first diagnosis  \\\n",
       "0                         0                              NaN   \n",
       "1                         0                              NaN   \n",
       "2                         0                              NaN   \n",
       "3                         0                              NaN   \n",
       "4                         0                              NaN   \n",
       "\n",
       "  STDs: Time since last diagnosis Dx:Cancer Dx:CIN Dx:HPV Dx Biopsy  \n",
       "0                             NaN         0      0      0  0      0  \n",
       "1                             NaN         0      0      0  0      0  \n",
       "2                             NaN         0      0      0  0      0  \n",
       "3                             NaN         1      0      1  0      0  \n",
       "4                             NaN         0      0      0  0      0  \n",
       "\n",
       "[5 rows x 33 columns]"
      ]
     },
     "execution_count": 4,
     "metadata": {},
     "output_type": "execute_result"
    }
   ],
   "source": [
    "data.head()"
   ]
  },
  {
   "cell_type": "code",
   "execution_count": 5,
   "metadata": {},
   "outputs": [
    {
     "data": {
      "text/plain": [
       "(858, 33)"
      ]
     },
     "execution_count": 5,
     "metadata": {},
     "output_type": "execute_result"
    }
   ],
   "source": [
    "data.shape"
   ]
  },
  {
   "cell_type": "code",
   "execution_count": 6,
   "metadata": {},
   "outputs": [
    {
     "data": {
      "text/html": [
       "<div>\n",
       "<style scoped>\n",
       "    .dataframe tbody tr th:only-of-type {\n",
       "        vertical-align: middle;\n",
       "    }\n",
       "\n",
       "    .dataframe tbody tr th {\n",
       "        vertical-align: top;\n",
       "    }\n",
       "\n",
       "    .dataframe thead th {\n",
       "        text-align: right;\n",
       "    }\n",
       "</style>\n",
       "<table border=\"1\" class=\"dataframe\">\n",
       "  <thead>\n",
       "    <tr style=\"text-align: right;\">\n",
       "      <th></th>\n",
       "      <th>STDs:vulvo-perineal condylomatosis</th>\n",
       "      <th>STDs:syphilis</th>\n",
       "      <th>STDs:pelvic inflammatory disease</th>\n",
       "      <th>STDs:genital herpes</th>\n",
       "      <th>STDs:molluscum contagiosum</th>\n",
       "      <th>STDs:AIDS</th>\n",
       "      <th>STDs:HIV</th>\n",
       "      <th>STDs:Hepatitis B</th>\n",
       "      <th>Biopsy</th>\n",
       "    </tr>\n",
       "  </thead>\n",
       "  <tbody>\n",
       "    <tr>\n",
       "      <th>0</th>\n",
       "      <td>0</td>\n",
       "      <td>0</td>\n",
       "      <td>0</td>\n",
       "      <td>0</td>\n",
       "      <td>0</td>\n",
       "      <td>0</td>\n",
       "      <td>0</td>\n",
       "      <td>0</td>\n",
       "      <td>0</td>\n",
       "    </tr>\n",
       "    <tr>\n",
       "      <th>1</th>\n",
       "      <td>0</td>\n",
       "      <td>0</td>\n",
       "      <td>0</td>\n",
       "      <td>0</td>\n",
       "      <td>0</td>\n",
       "      <td>0</td>\n",
       "      <td>0</td>\n",
       "      <td>0</td>\n",
       "      <td>0</td>\n",
       "    </tr>\n",
       "    <tr>\n",
       "      <th>2</th>\n",
       "      <td>0</td>\n",
       "      <td>0</td>\n",
       "      <td>0</td>\n",
       "      <td>0</td>\n",
       "      <td>0</td>\n",
       "      <td>0</td>\n",
       "      <td>0</td>\n",
       "      <td>0</td>\n",
       "      <td>0</td>\n",
       "    </tr>\n",
       "    <tr>\n",
       "      <th>3</th>\n",
       "      <td>0</td>\n",
       "      <td>0</td>\n",
       "      <td>0</td>\n",
       "      <td>0</td>\n",
       "      <td>0</td>\n",
       "      <td>0</td>\n",
       "      <td>0</td>\n",
       "      <td>0</td>\n",
       "      <td>0</td>\n",
       "    </tr>\n",
       "    <tr>\n",
       "      <th>4</th>\n",
       "      <td>0</td>\n",
       "      <td>0</td>\n",
       "      <td>0</td>\n",
       "      <td>0</td>\n",
       "      <td>0</td>\n",
       "      <td>0</td>\n",
       "      <td>0</td>\n",
       "      <td>0</td>\n",
       "      <td>0</td>\n",
       "    </tr>\n",
       "  </tbody>\n",
       "</table>\n",
       "</div>"
      ],
      "text/plain": [
       "  STDs:vulvo-perineal condylomatosis STDs:syphilis  \\\n",
       "0                                  0             0   \n",
       "1                                  0             0   \n",
       "2                                  0             0   \n",
       "3                                  0             0   \n",
       "4                                  0             0   \n",
       "\n",
       "  STDs:pelvic inflammatory disease STDs:genital herpes  \\\n",
       "0                                0                   0   \n",
       "1                                0                   0   \n",
       "2                                0                   0   \n",
       "3                                0                   0   \n",
       "4                                0                   0   \n",
       "\n",
       "  STDs:molluscum contagiosum STDs:AIDS STDs:HIV STDs:Hepatitis B  Biopsy  \n",
       "0                          0         0        0                0       0  \n",
       "1                          0         0        0                0       0  \n",
       "2                          0         0        0                0       0  \n",
       "3                          0         0        0                0       0  \n",
       "4                          0         0        0                0       0  "
      ]
     },
     "execution_count": 6,
     "metadata": {},
     "output_type": "execute_result"
    }
   ],
   "source": [
    "df = data[['STDs:vulvo-perineal condylomatosis',\n",
    "                          'STDs:syphilis', 'STDs:pelvic inflammatory disease', 'STDs:genital herpes', 'STDs:molluscum contagiosum',\n",
    "                          'STDs:AIDS', 'STDs:HIV', 'STDs:Hepatitis B' , 'Biopsy']]\n",
    "df.head()"
   ]
  },
  {
   "cell_type": "markdown",
   "metadata": {},
   "source": [
    "## Variables Description :\n",
    "\n",
    "* Vulvo-perineal condylomatosis : \n",
    "  Condylomatosis is a disease of sexual transmission. Vulvo-perineal condylomatosis is the same which affect in the vulvar-       perineal region in female.\n",
    "  \n",
    "\n",
    "* Syphilis :\n",
    "  It is a chronic bacterial disease contracted chiefly during sexual intercourse, but also by an infection during developing       fetus.\n",
    "  \n",
    "\n",
    "* Pelvic inflammatory disease :\n",
    "  It is a inflammation of the female genital tract, occurs when sexually transmitted bacteria spread from your vagina to your     uterus, fallopian tubes or ovaries.\n",
    "  \n",
    "\n",
    "* Genital Herpes :\n",
    "  An infection by human herpes virus that is transmitted through intimate contact with the moist mucous linings of the genitals.\n",
    "  \n",
    "\n",
    "* Molluscum contagiosum :\n",
    "  It is a chronic viral disorder of the skin characterized by groups of small, smooth, painless pinkish nodules with a central     depression, that yield a milky fluid when squeezed.\n",
    "  \n",
    "\n",
    "* AIDS :\n",
    "  It is caused by Human ImmunoDificiency Virus. It is sexually transmitted disease. Advanced stage of HIV is called AIDS.\n",
    "  \n",
    "\n",
    "* HIV :\n",
    "  HIV infection, shows flu-like symptoms such as fever, sore throat and fatigue can occur. Then the disease is usually             asymptomatic until it progresses to AIDS.\n",
    "  \n",
    "\n",
    "* Hepatitis B :\n",
    "  It is an infection of liver. It causes scarring of organ, liver failure, Cancer. It can be fatal if it isn't treated.\n",
    "  It is caused by hepatitis B virus. "
   ]
  },
  {
   "cell_type": "code",
   "execution_count": 7,
   "metadata": {},
   "outputs": [
    {
     "data": {
      "text/plain": [
       "(858, 9)"
      ]
     },
     "execution_count": 7,
     "metadata": {},
     "output_type": "execute_result"
    }
   ],
   "source": [
    "df.shape"
   ]
  },
  {
   "cell_type": "code",
   "execution_count": 8,
   "metadata": {},
   "outputs": [
    {
     "name": "stdout",
     "output_type": "stream",
     "text": [
      "<class 'pandas.core.frame.DataFrame'>\n",
      "RangeIndex: 858 entries, 0 to 857\n",
      "Data columns (total 9 columns):\n",
      "STDs:vulvo-perineal condylomatosis    753 non-null object\n",
      "STDs:syphilis                         753 non-null object\n",
      "STDs:pelvic inflammatory disease      753 non-null object\n",
      "STDs:genital herpes                   753 non-null object\n",
      "STDs:molluscum contagiosum            753 non-null object\n",
      "STDs:AIDS                             753 non-null object\n",
      "STDs:HIV                              753 non-null object\n",
      "STDs:Hepatitis B                      753 non-null object\n",
      "Biopsy                                858 non-null int64\n",
      "dtypes: int64(1), object(8)\n",
      "memory usage: 60.4+ KB\n"
     ]
    }
   ],
   "source": [
    "df.info()"
   ]
  },
  {
   "cell_type": "code",
   "execution_count": 9,
   "metadata": {},
   "outputs": [],
   "source": [
    "null_vulvo = df[df['STDs:vulvo-perineal condylomatosis'].isnull()] "
   ]
  },
  {
   "cell_type": "code",
   "execution_count": 10,
   "metadata": {},
   "outputs": [
    {
     "data": {
      "text/plain": [
       "(105, 9)"
      ]
     },
     "execution_count": 10,
     "metadata": {},
     "output_type": "execute_result"
    }
   ],
   "source": [
    "null_vulvo.shape"
   ]
  },
  {
   "cell_type": "code",
   "execution_count": 11,
   "metadata": {},
   "outputs": [
    {
     "name": "stdout",
     "output_type": "stream",
     "text": [
      "STDs:vulvo-perineal condylomatosis  : No. of columns missing -- 105\n",
      "STDs:syphilis  : No. of columns missing -- 105\n",
      "STDs:pelvic inflammatory disease  : No. of columns missing -- 105\n",
      "STDs:genital herpes  : No. of columns missing -- 105\n",
      "STDs:molluscum contagiosum  : No. of columns missing -- 105\n",
      "STDs:AIDS  : No. of columns missing -- 105\n",
      "STDs:HIV  : No. of columns missing -- 105\n",
      "STDs:Hepatitis B  : No. of columns missing -- 105\n"
     ]
    }
   ],
   "source": [
    "col = df[['STDs:vulvo-perineal condylomatosis',\n",
    "                          'STDs:syphilis', 'STDs:pelvic inflammatory disease', 'STDs:genital herpes', 'STDs:molluscum contagiosum',\n",
    "                          'STDs:AIDS', 'STDs:HIV', 'STDs:Hepatitis B']]\n",
    "\n",
    "for i in col:\n",
    "    print( i  , ' : No. of columns missing --'  , len(df[df[i].isnull()]) )"
   ]
  },
  {
   "cell_type": "code",
   "execution_count": 12,
   "metadata": {
    "scrolled": true
   },
   "outputs": [
    {
     "data": {
      "text/html": [
       "<div>\n",
       "<style scoped>\n",
       "    .dataframe tbody tr th:only-of-type {\n",
       "        vertical-align: middle;\n",
       "    }\n",
       "\n",
       "    .dataframe tbody tr th {\n",
       "        vertical-align: top;\n",
       "    }\n",
       "\n",
       "    .dataframe thead th {\n",
       "        text-align: right;\n",
       "    }\n",
       "</style>\n",
       "<table border=\"1\" class=\"dataframe\">\n",
       "  <thead>\n",
       "    <tr style=\"text-align: right;\">\n",
       "      <th></th>\n",
       "      <th>STDs:vulvo-perineal condylomatosis</th>\n",
       "      <th>STDs:syphilis</th>\n",
       "      <th>STDs:pelvic inflammatory disease</th>\n",
       "      <th>STDs:genital herpes</th>\n",
       "      <th>STDs:molluscum contagiosum</th>\n",
       "      <th>STDs:AIDS</th>\n",
       "      <th>STDs:HIV</th>\n",
       "      <th>STDs:Hepatitis B</th>\n",
       "      <th>Biopsy</th>\n",
       "    </tr>\n",
       "  </thead>\n",
       "  <tbody>\n",
       "    <tr>\n",
       "      <th>71</th>\n",
       "      <td>NaN</td>\n",
       "      <td>NaN</td>\n",
       "      <td>NaN</td>\n",
       "      <td>NaN</td>\n",
       "      <td>NaN</td>\n",
       "      <td>NaN</td>\n",
       "      <td>NaN</td>\n",
       "      <td>NaN</td>\n",
       "      <td>0</td>\n",
       "    </tr>\n",
       "    <tr>\n",
       "      <th>74</th>\n",
       "      <td>NaN</td>\n",
       "      <td>NaN</td>\n",
       "      <td>NaN</td>\n",
       "      <td>NaN</td>\n",
       "      <td>NaN</td>\n",
       "      <td>NaN</td>\n",
       "      <td>NaN</td>\n",
       "      <td>NaN</td>\n",
       "      <td>0</td>\n",
       "    </tr>\n",
       "    <tr>\n",
       "      <th>90</th>\n",
       "      <td>NaN</td>\n",
       "      <td>NaN</td>\n",
       "      <td>NaN</td>\n",
       "      <td>NaN</td>\n",
       "      <td>NaN</td>\n",
       "      <td>NaN</td>\n",
       "      <td>NaN</td>\n",
       "      <td>NaN</td>\n",
       "      <td>0</td>\n",
       "    </tr>\n",
       "    <tr>\n",
       "      <th>95</th>\n",
       "      <td>NaN</td>\n",
       "      <td>NaN</td>\n",
       "      <td>NaN</td>\n",
       "      <td>NaN</td>\n",
       "      <td>NaN</td>\n",
       "      <td>NaN</td>\n",
       "      <td>NaN</td>\n",
       "      <td>NaN</td>\n",
       "      <td>0</td>\n",
       "    </tr>\n",
       "    <tr>\n",
       "      <th>98</th>\n",
       "      <td>NaN</td>\n",
       "      <td>NaN</td>\n",
       "      <td>NaN</td>\n",
       "      <td>NaN</td>\n",
       "      <td>NaN</td>\n",
       "      <td>NaN</td>\n",
       "      <td>NaN</td>\n",
       "      <td>NaN</td>\n",
       "      <td>0</td>\n",
       "    </tr>\n",
       "    <tr>\n",
       "      <th>102</th>\n",
       "      <td>NaN</td>\n",
       "      <td>NaN</td>\n",
       "      <td>NaN</td>\n",
       "      <td>NaN</td>\n",
       "      <td>NaN</td>\n",
       "      <td>NaN</td>\n",
       "      <td>NaN</td>\n",
       "      <td>NaN</td>\n",
       "      <td>0</td>\n",
       "    </tr>\n",
       "    <tr>\n",
       "      <th>111</th>\n",
       "      <td>NaN</td>\n",
       "      <td>NaN</td>\n",
       "      <td>NaN</td>\n",
       "      <td>NaN</td>\n",
       "      <td>NaN</td>\n",
       "      <td>NaN</td>\n",
       "      <td>NaN</td>\n",
       "      <td>NaN</td>\n",
       "      <td>0</td>\n",
       "    </tr>\n",
       "    <tr>\n",
       "      <th>117</th>\n",
       "      <td>NaN</td>\n",
       "      <td>NaN</td>\n",
       "      <td>NaN</td>\n",
       "      <td>NaN</td>\n",
       "      <td>NaN</td>\n",
       "      <td>NaN</td>\n",
       "      <td>NaN</td>\n",
       "      <td>NaN</td>\n",
       "      <td>0</td>\n",
       "    </tr>\n",
       "    <tr>\n",
       "      <th>141</th>\n",
       "      <td>NaN</td>\n",
       "      <td>NaN</td>\n",
       "      <td>NaN</td>\n",
       "      <td>NaN</td>\n",
       "      <td>NaN</td>\n",
       "      <td>NaN</td>\n",
       "      <td>NaN</td>\n",
       "      <td>NaN</td>\n",
       "      <td>0</td>\n",
       "    </tr>\n",
       "    <tr>\n",
       "      <th>142</th>\n",
       "      <td>NaN</td>\n",
       "      <td>NaN</td>\n",
       "      <td>NaN</td>\n",
       "      <td>NaN</td>\n",
       "      <td>NaN</td>\n",
       "      <td>NaN</td>\n",
       "      <td>NaN</td>\n",
       "      <td>NaN</td>\n",
       "      <td>0</td>\n",
       "    </tr>\n",
       "    <tr>\n",
       "      <th>143</th>\n",
       "      <td>NaN</td>\n",
       "      <td>NaN</td>\n",
       "      <td>NaN</td>\n",
       "      <td>NaN</td>\n",
       "      <td>NaN</td>\n",
       "      <td>NaN</td>\n",
       "      <td>NaN</td>\n",
       "      <td>NaN</td>\n",
       "      <td>0</td>\n",
       "    </tr>\n",
       "    <tr>\n",
       "      <th>149</th>\n",
       "      <td>NaN</td>\n",
       "      <td>NaN</td>\n",
       "      <td>NaN</td>\n",
       "      <td>NaN</td>\n",
       "      <td>NaN</td>\n",
       "      <td>NaN</td>\n",
       "      <td>NaN</td>\n",
       "      <td>NaN</td>\n",
       "      <td>0</td>\n",
       "    </tr>\n",
       "    <tr>\n",
       "      <th>164</th>\n",
       "      <td>NaN</td>\n",
       "      <td>NaN</td>\n",
       "      <td>NaN</td>\n",
       "      <td>NaN</td>\n",
       "      <td>NaN</td>\n",
       "      <td>NaN</td>\n",
       "      <td>NaN</td>\n",
       "      <td>NaN</td>\n",
       "      <td>0</td>\n",
       "    </tr>\n",
       "    <tr>\n",
       "      <th>176</th>\n",
       "      <td>NaN</td>\n",
       "      <td>NaN</td>\n",
       "      <td>NaN</td>\n",
       "      <td>NaN</td>\n",
       "      <td>NaN</td>\n",
       "      <td>NaN</td>\n",
       "      <td>NaN</td>\n",
       "      <td>NaN</td>\n",
       "      <td>0</td>\n",
       "    </tr>\n",
       "    <tr>\n",
       "      <th>178</th>\n",
       "      <td>NaN</td>\n",
       "      <td>NaN</td>\n",
       "      <td>NaN</td>\n",
       "      <td>NaN</td>\n",
       "      <td>NaN</td>\n",
       "      <td>NaN</td>\n",
       "      <td>NaN</td>\n",
       "      <td>NaN</td>\n",
       "      <td>0</td>\n",
       "    </tr>\n",
       "    <tr>\n",
       "      <th>189</th>\n",
       "      <td>NaN</td>\n",
       "      <td>NaN</td>\n",
       "      <td>NaN</td>\n",
       "      <td>NaN</td>\n",
       "      <td>NaN</td>\n",
       "      <td>NaN</td>\n",
       "      <td>NaN</td>\n",
       "      <td>NaN</td>\n",
       "      <td>0</td>\n",
       "    </tr>\n",
       "    <tr>\n",
       "      <th>193</th>\n",
       "      <td>NaN</td>\n",
       "      <td>NaN</td>\n",
       "      <td>NaN</td>\n",
       "      <td>NaN</td>\n",
       "      <td>NaN</td>\n",
       "      <td>NaN</td>\n",
       "      <td>NaN</td>\n",
       "      <td>NaN</td>\n",
       "      <td>0</td>\n",
       "    </tr>\n",
       "    <tr>\n",
       "      <th>220</th>\n",
       "      <td>NaN</td>\n",
       "      <td>NaN</td>\n",
       "      <td>NaN</td>\n",
       "      <td>NaN</td>\n",
       "      <td>NaN</td>\n",
       "      <td>NaN</td>\n",
       "      <td>NaN</td>\n",
       "      <td>NaN</td>\n",
       "      <td>0</td>\n",
       "    </tr>\n",
       "    <tr>\n",
       "      <th>225</th>\n",
       "      <td>NaN</td>\n",
       "      <td>NaN</td>\n",
       "      <td>NaN</td>\n",
       "      <td>NaN</td>\n",
       "      <td>NaN</td>\n",
       "      <td>NaN</td>\n",
       "      <td>NaN</td>\n",
       "      <td>NaN</td>\n",
       "      <td>0</td>\n",
       "    </tr>\n",
       "    <tr>\n",
       "      <th>228</th>\n",
       "      <td>NaN</td>\n",
       "      <td>NaN</td>\n",
       "      <td>NaN</td>\n",
       "      <td>NaN</td>\n",
       "      <td>NaN</td>\n",
       "      <td>NaN</td>\n",
       "      <td>NaN</td>\n",
       "      <td>NaN</td>\n",
       "      <td>0</td>\n",
       "    </tr>\n",
       "    <tr>\n",
       "      <th>234</th>\n",
       "      <td>NaN</td>\n",
       "      <td>NaN</td>\n",
       "      <td>NaN</td>\n",
       "      <td>NaN</td>\n",
       "      <td>NaN</td>\n",
       "      <td>NaN</td>\n",
       "      <td>NaN</td>\n",
       "      <td>NaN</td>\n",
       "      <td>0</td>\n",
       "    </tr>\n",
       "    <tr>\n",
       "      <th>243</th>\n",
       "      <td>NaN</td>\n",
       "      <td>NaN</td>\n",
       "      <td>NaN</td>\n",
       "      <td>NaN</td>\n",
       "      <td>NaN</td>\n",
       "      <td>NaN</td>\n",
       "      <td>NaN</td>\n",
       "      <td>NaN</td>\n",
       "      <td>0</td>\n",
       "    </tr>\n",
       "    <tr>\n",
       "      <th>256</th>\n",
       "      <td>NaN</td>\n",
       "      <td>NaN</td>\n",
       "      <td>NaN</td>\n",
       "      <td>NaN</td>\n",
       "      <td>NaN</td>\n",
       "      <td>NaN</td>\n",
       "      <td>NaN</td>\n",
       "      <td>NaN</td>\n",
       "      <td>0</td>\n",
       "    </tr>\n",
       "    <tr>\n",
       "      <th>263</th>\n",
       "      <td>NaN</td>\n",
       "      <td>NaN</td>\n",
       "      <td>NaN</td>\n",
       "      <td>NaN</td>\n",
       "      <td>NaN</td>\n",
       "      <td>NaN</td>\n",
       "      <td>NaN</td>\n",
       "      <td>NaN</td>\n",
       "      <td>0</td>\n",
       "    </tr>\n",
       "    <tr>\n",
       "      <th>267</th>\n",
       "      <td>NaN</td>\n",
       "      <td>NaN</td>\n",
       "      <td>NaN</td>\n",
       "      <td>NaN</td>\n",
       "      <td>NaN</td>\n",
       "      <td>NaN</td>\n",
       "      <td>NaN</td>\n",
       "      <td>NaN</td>\n",
       "      <td>0</td>\n",
       "    </tr>\n",
       "    <tr>\n",
       "      <th>271</th>\n",
       "      <td>NaN</td>\n",
       "      <td>NaN</td>\n",
       "      <td>NaN</td>\n",
       "      <td>NaN</td>\n",
       "      <td>NaN</td>\n",
       "      <td>NaN</td>\n",
       "      <td>NaN</td>\n",
       "      <td>NaN</td>\n",
       "      <td>0</td>\n",
       "    </tr>\n",
       "    <tr>\n",
       "      <th>272</th>\n",
       "      <td>NaN</td>\n",
       "      <td>NaN</td>\n",
       "      <td>NaN</td>\n",
       "      <td>NaN</td>\n",
       "      <td>NaN</td>\n",
       "      <td>NaN</td>\n",
       "      <td>NaN</td>\n",
       "      <td>NaN</td>\n",
       "      <td>0</td>\n",
       "    </tr>\n",
       "    <tr>\n",
       "      <th>279</th>\n",
       "      <td>NaN</td>\n",
       "      <td>NaN</td>\n",
       "      <td>NaN</td>\n",
       "      <td>NaN</td>\n",
       "      <td>NaN</td>\n",
       "      <td>NaN</td>\n",
       "      <td>NaN</td>\n",
       "      <td>NaN</td>\n",
       "      <td>0</td>\n",
       "    </tr>\n",
       "    <tr>\n",
       "      <th>281</th>\n",
       "      <td>NaN</td>\n",
       "      <td>NaN</td>\n",
       "      <td>NaN</td>\n",
       "      <td>NaN</td>\n",
       "      <td>NaN</td>\n",
       "      <td>NaN</td>\n",
       "      <td>NaN</td>\n",
       "      <td>NaN</td>\n",
       "      <td>0</td>\n",
       "    </tr>\n",
       "    <tr>\n",
       "      <th>284</th>\n",
       "      <td>NaN</td>\n",
       "      <td>NaN</td>\n",
       "      <td>NaN</td>\n",
       "      <td>NaN</td>\n",
       "      <td>NaN</td>\n",
       "      <td>NaN</td>\n",
       "      <td>NaN</td>\n",
       "      <td>NaN</td>\n",
       "      <td>0</td>\n",
       "    </tr>\n",
       "    <tr>\n",
       "      <th>299</th>\n",
       "      <td>NaN</td>\n",
       "      <td>NaN</td>\n",
       "      <td>NaN</td>\n",
       "      <td>NaN</td>\n",
       "      <td>NaN</td>\n",
       "      <td>NaN</td>\n",
       "      <td>NaN</td>\n",
       "      <td>NaN</td>\n",
       "      <td>0</td>\n",
       "    </tr>\n",
       "    <tr>\n",
       "      <th>304</th>\n",
       "      <td>NaN</td>\n",
       "      <td>NaN</td>\n",
       "      <td>NaN</td>\n",
       "      <td>NaN</td>\n",
       "      <td>NaN</td>\n",
       "      <td>NaN</td>\n",
       "      <td>NaN</td>\n",
       "      <td>NaN</td>\n",
       "      <td>0</td>\n",
       "    </tr>\n",
       "    <tr>\n",
       "      <th>307</th>\n",
       "      <td>NaN</td>\n",
       "      <td>NaN</td>\n",
       "      <td>NaN</td>\n",
       "      <td>NaN</td>\n",
       "      <td>NaN</td>\n",
       "      <td>NaN</td>\n",
       "      <td>NaN</td>\n",
       "      <td>NaN</td>\n",
       "      <td>0</td>\n",
       "    </tr>\n",
       "    <tr>\n",
       "      <th>316</th>\n",
       "      <td>NaN</td>\n",
       "      <td>NaN</td>\n",
       "      <td>NaN</td>\n",
       "      <td>NaN</td>\n",
       "      <td>NaN</td>\n",
       "      <td>NaN</td>\n",
       "      <td>NaN</td>\n",
       "      <td>NaN</td>\n",
       "      <td>0</td>\n",
       "    </tr>\n",
       "    <tr>\n",
       "      <th>319</th>\n",
       "      <td>NaN</td>\n",
       "      <td>NaN</td>\n",
       "      <td>NaN</td>\n",
       "      <td>NaN</td>\n",
       "      <td>NaN</td>\n",
       "      <td>NaN</td>\n",
       "      <td>NaN</td>\n",
       "      <td>NaN</td>\n",
       "      <td>0</td>\n",
       "    </tr>\n",
       "    <tr>\n",
       "      <th>321</th>\n",
       "      <td>NaN</td>\n",
       "      <td>NaN</td>\n",
       "      <td>NaN</td>\n",
       "      <td>NaN</td>\n",
       "      <td>NaN</td>\n",
       "      <td>NaN</td>\n",
       "      <td>NaN</td>\n",
       "      <td>NaN</td>\n",
       "      <td>0</td>\n",
       "    </tr>\n",
       "    <tr>\n",
       "      <th>323</th>\n",
       "      <td>NaN</td>\n",
       "      <td>NaN</td>\n",
       "      <td>NaN</td>\n",
       "      <td>NaN</td>\n",
       "      <td>NaN</td>\n",
       "      <td>NaN</td>\n",
       "      <td>NaN</td>\n",
       "      <td>NaN</td>\n",
       "      <td>0</td>\n",
       "    </tr>\n",
       "    <tr>\n",
       "      <th>328</th>\n",
       "      <td>NaN</td>\n",
       "      <td>NaN</td>\n",
       "      <td>NaN</td>\n",
       "      <td>NaN</td>\n",
       "      <td>NaN</td>\n",
       "      <td>NaN</td>\n",
       "      <td>NaN</td>\n",
       "      <td>NaN</td>\n",
       "      <td>0</td>\n",
       "    </tr>\n",
       "    <tr>\n",
       "      <th>330</th>\n",
       "      <td>NaN</td>\n",
       "      <td>NaN</td>\n",
       "      <td>NaN</td>\n",
       "      <td>NaN</td>\n",
       "      <td>NaN</td>\n",
       "      <td>NaN</td>\n",
       "      <td>NaN</td>\n",
       "      <td>NaN</td>\n",
       "      <td>0</td>\n",
       "    </tr>\n",
       "    <tr>\n",
       "      <th>338</th>\n",
       "      <td>NaN</td>\n",
       "      <td>NaN</td>\n",
       "      <td>NaN</td>\n",
       "      <td>NaN</td>\n",
       "      <td>NaN</td>\n",
       "      <td>NaN</td>\n",
       "      <td>NaN</td>\n",
       "      <td>NaN</td>\n",
       "      <td>0</td>\n",
       "    </tr>\n",
       "    <tr>\n",
       "      <th>341</th>\n",
       "      <td>NaN</td>\n",
       "      <td>NaN</td>\n",
       "      <td>NaN</td>\n",
       "      <td>NaN</td>\n",
       "      <td>NaN</td>\n",
       "      <td>NaN</td>\n",
       "      <td>NaN</td>\n",
       "      <td>NaN</td>\n",
       "      <td>0</td>\n",
       "    </tr>\n",
       "    <tr>\n",
       "      <th>343</th>\n",
       "      <td>NaN</td>\n",
       "      <td>NaN</td>\n",
       "      <td>NaN</td>\n",
       "      <td>NaN</td>\n",
       "      <td>NaN</td>\n",
       "      <td>NaN</td>\n",
       "      <td>NaN</td>\n",
       "      <td>NaN</td>\n",
       "      <td>0</td>\n",
       "    </tr>\n",
       "    <tr>\n",
       "      <th>345</th>\n",
       "      <td>NaN</td>\n",
       "      <td>NaN</td>\n",
       "      <td>NaN</td>\n",
       "      <td>NaN</td>\n",
       "      <td>NaN</td>\n",
       "      <td>NaN</td>\n",
       "      <td>NaN</td>\n",
       "      <td>NaN</td>\n",
       "      <td>1</td>\n",
       "    </tr>\n",
       "    <tr>\n",
       "      <th>346</th>\n",
       "      <td>NaN</td>\n",
       "      <td>NaN</td>\n",
       "      <td>NaN</td>\n",
       "      <td>NaN</td>\n",
       "      <td>NaN</td>\n",
       "      <td>NaN</td>\n",
       "      <td>NaN</td>\n",
       "      <td>NaN</td>\n",
       "      <td>0</td>\n",
       "    </tr>\n",
       "    <tr>\n",
       "      <th>350</th>\n",
       "      <td>NaN</td>\n",
       "      <td>NaN</td>\n",
       "      <td>NaN</td>\n",
       "      <td>NaN</td>\n",
       "      <td>NaN</td>\n",
       "      <td>NaN</td>\n",
       "      <td>NaN</td>\n",
       "      <td>NaN</td>\n",
       "      <td>0</td>\n",
       "    </tr>\n",
       "    <tr>\n",
       "      <th>353</th>\n",
       "      <td>NaN</td>\n",
       "      <td>NaN</td>\n",
       "      <td>NaN</td>\n",
       "      <td>NaN</td>\n",
       "      <td>NaN</td>\n",
       "      <td>NaN</td>\n",
       "      <td>NaN</td>\n",
       "      <td>NaN</td>\n",
       "      <td>0</td>\n",
       "    </tr>\n",
       "    <tr>\n",
       "      <th>381</th>\n",
       "      <td>NaN</td>\n",
       "      <td>NaN</td>\n",
       "      <td>NaN</td>\n",
       "      <td>NaN</td>\n",
       "      <td>NaN</td>\n",
       "      <td>NaN</td>\n",
       "      <td>NaN</td>\n",
       "      <td>NaN</td>\n",
       "      <td>0</td>\n",
       "    </tr>\n",
       "    <tr>\n",
       "      <th>391</th>\n",
       "      <td>NaN</td>\n",
       "      <td>NaN</td>\n",
       "      <td>NaN</td>\n",
       "      <td>NaN</td>\n",
       "      <td>NaN</td>\n",
       "      <td>NaN</td>\n",
       "      <td>NaN</td>\n",
       "      <td>NaN</td>\n",
       "      <td>0</td>\n",
       "    </tr>\n",
       "    <tr>\n",
       "      <th>398</th>\n",
       "      <td>NaN</td>\n",
       "      <td>NaN</td>\n",
       "      <td>NaN</td>\n",
       "      <td>NaN</td>\n",
       "      <td>NaN</td>\n",
       "      <td>NaN</td>\n",
       "      <td>NaN</td>\n",
       "      <td>NaN</td>\n",
       "      <td>0</td>\n",
       "    </tr>\n",
       "    <tr>\n",
       "      <th>405</th>\n",
       "      <td>NaN</td>\n",
       "      <td>NaN</td>\n",
       "      <td>NaN</td>\n",
       "      <td>NaN</td>\n",
       "      <td>NaN</td>\n",
       "      <td>NaN</td>\n",
       "      <td>NaN</td>\n",
       "      <td>NaN</td>\n",
       "      <td>0</td>\n",
       "    </tr>\n",
       "    <tr>\n",
       "      <th>408</th>\n",
       "      <td>NaN</td>\n",
       "      <td>NaN</td>\n",
       "      <td>NaN</td>\n",
       "      <td>NaN</td>\n",
       "      <td>NaN</td>\n",
       "      <td>NaN</td>\n",
       "      <td>NaN</td>\n",
       "      <td>NaN</td>\n",
       "      <td>0</td>\n",
       "    </tr>\n",
       "    <tr>\n",
       "      <th>412</th>\n",
       "      <td>NaN</td>\n",
       "      <td>NaN</td>\n",
       "      <td>NaN</td>\n",
       "      <td>NaN</td>\n",
       "      <td>NaN</td>\n",
       "      <td>NaN</td>\n",
       "      <td>NaN</td>\n",
       "      <td>NaN</td>\n",
       "      <td>0</td>\n",
       "    </tr>\n",
       "    <tr>\n",
       "      <th>417</th>\n",
       "      <td>NaN</td>\n",
       "      <td>NaN</td>\n",
       "      <td>NaN</td>\n",
       "      <td>NaN</td>\n",
       "      <td>NaN</td>\n",
       "      <td>NaN</td>\n",
       "      <td>NaN</td>\n",
       "      <td>NaN</td>\n",
       "      <td>0</td>\n",
       "    </tr>\n",
       "    <tr>\n",
       "      <th>419</th>\n",
       "      <td>NaN</td>\n",
       "      <td>NaN</td>\n",
       "      <td>NaN</td>\n",
       "      <td>NaN</td>\n",
       "      <td>NaN</td>\n",
       "      <td>NaN</td>\n",
       "      <td>NaN</td>\n",
       "      <td>NaN</td>\n",
       "      <td>0</td>\n",
       "    </tr>\n",
       "    <tr>\n",
       "      <th>436</th>\n",
       "      <td>NaN</td>\n",
       "      <td>NaN</td>\n",
       "      <td>NaN</td>\n",
       "      <td>NaN</td>\n",
       "      <td>NaN</td>\n",
       "      <td>NaN</td>\n",
       "      <td>NaN</td>\n",
       "      <td>NaN</td>\n",
       "      <td>0</td>\n",
       "    </tr>\n",
       "    <tr>\n",
       "      <th>443</th>\n",
       "      <td>NaN</td>\n",
       "      <td>NaN</td>\n",
       "      <td>NaN</td>\n",
       "      <td>NaN</td>\n",
       "      <td>NaN</td>\n",
       "      <td>NaN</td>\n",
       "      <td>NaN</td>\n",
       "      <td>NaN</td>\n",
       "      <td>0</td>\n",
       "    </tr>\n",
       "    <tr>\n",
       "      <th>445</th>\n",
       "      <td>NaN</td>\n",
       "      <td>NaN</td>\n",
       "      <td>NaN</td>\n",
       "      <td>NaN</td>\n",
       "      <td>NaN</td>\n",
       "      <td>NaN</td>\n",
       "      <td>NaN</td>\n",
       "      <td>NaN</td>\n",
       "      <td>0</td>\n",
       "    </tr>\n",
       "    <tr>\n",
       "      <th>452</th>\n",
       "      <td>NaN</td>\n",
       "      <td>NaN</td>\n",
       "      <td>NaN</td>\n",
       "      <td>NaN</td>\n",
       "      <td>NaN</td>\n",
       "      <td>NaN</td>\n",
       "      <td>NaN</td>\n",
       "      <td>NaN</td>\n",
       "      <td>0</td>\n",
       "    </tr>\n",
       "    <tr>\n",
       "      <th>453</th>\n",
       "      <td>NaN</td>\n",
       "      <td>NaN</td>\n",
       "      <td>NaN</td>\n",
       "      <td>NaN</td>\n",
       "      <td>NaN</td>\n",
       "      <td>NaN</td>\n",
       "      <td>NaN</td>\n",
       "      <td>NaN</td>\n",
       "      <td>0</td>\n",
       "    </tr>\n",
       "    <tr>\n",
       "      <th>457</th>\n",
       "      <td>NaN</td>\n",
       "      <td>NaN</td>\n",
       "      <td>NaN</td>\n",
       "      <td>NaN</td>\n",
       "      <td>NaN</td>\n",
       "      <td>NaN</td>\n",
       "      <td>NaN</td>\n",
       "      <td>NaN</td>\n",
       "      <td>0</td>\n",
       "    </tr>\n",
       "    <tr>\n",
       "      <th>460</th>\n",
       "      <td>NaN</td>\n",
       "      <td>NaN</td>\n",
       "      <td>NaN</td>\n",
       "      <td>NaN</td>\n",
       "      <td>NaN</td>\n",
       "      <td>NaN</td>\n",
       "      <td>NaN</td>\n",
       "      <td>NaN</td>\n",
       "      <td>0</td>\n",
       "    </tr>\n",
       "    <tr>\n",
       "      <th>476</th>\n",
       "      <td>NaN</td>\n",
       "      <td>NaN</td>\n",
       "      <td>NaN</td>\n",
       "      <td>NaN</td>\n",
       "      <td>NaN</td>\n",
       "      <td>NaN</td>\n",
       "      <td>NaN</td>\n",
       "      <td>NaN</td>\n",
       "      <td>0</td>\n",
       "    </tr>\n",
       "    <tr>\n",
       "      <th>489</th>\n",
       "      <td>NaN</td>\n",
       "      <td>NaN</td>\n",
       "      <td>NaN</td>\n",
       "      <td>NaN</td>\n",
       "      <td>NaN</td>\n",
       "      <td>NaN</td>\n",
       "      <td>NaN</td>\n",
       "      <td>NaN</td>\n",
       "      <td>0</td>\n",
       "    </tr>\n",
       "    <tr>\n",
       "      <th>495</th>\n",
       "      <td>NaN</td>\n",
       "      <td>NaN</td>\n",
       "      <td>NaN</td>\n",
       "      <td>NaN</td>\n",
       "      <td>NaN</td>\n",
       "      <td>NaN</td>\n",
       "      <td>NaN</td>\n",
       "      <td>NaN</td>\n",
       "      <td>0</td>\n",
       "    </tr>\n",
       "    <tr>\n",
       "      <th>505</th>\n",
       "      <td>NaN</td>\n",
       "      <td>NaN</td>\n",
       "      <td>NaN</td>\n",
       "      <td>NaN</td>\n",
       "      <td>NaN</td>\n",
       "      <td>NaN</td>\n",
       "      <td>NaN</td>\n",
       "      <td>NaN</td>\n",
       "      <td>0</td>\n",
       "    </tr>\n",
       "    <tr>\n",
       "      <th>512</th>\n",
       "      <td>NaN</td>\n",
       "      <td>NaN</td>\n",
       "      <td>NaN</td>\n",
       "      <td>NaN</td>\n",
       "      <td>NaN</td>\n",
       "      <td>NaN</td>\n",
       "      <td>NaN</td>\n",
       "      <td>NaN</td>\n",
       "      <td>0</td>\n",
       "    </tr>\n",
       "    <tr>\n",
       "      <th>525</th>\n",
       "      <td>NaN</td>\n",
       "      <td>NaN</td>\n",
       "      <td>NaN</td>\n",
       "      <td>NaN</td>\n",
       "      <td>NaN</td>\n",
       "      <td>NaN</td>\n",
       "      <td>NaN</td>\n",
       "      <td>NaN</td>\n",
       "      <td>0</td>\n",
       "    </tr>\n",
       "    <tr>\n",
       "      <th>527</th>\n",
       "      <td>NaN</td>\n",
       "      <td>NaN</td>\n",
       "      <td>NaN</td>\n",
       "      <td>NaN</td>\n",
       "      <td>NaN</td>\n",
       "      <td>NaN</td>\n",
       "      <td>NaN</td>\n",
       "      <td>NaN</td>\n",
       "      <td>0</td>\n",
       "    </tr>\n",
       "    <tr>\n",
       "      <th>528</th>\n",
       "      <td>NaN</td>\n",
       "      <td>NaN</td>\n",
       "      <td>NaN</td>\n",
       "      <td>NaN</td>\n",
       "      <td>NaN</td>\n",
       "      <td>NaN</td>\n",
       "      <td>NaN</td>\n",
       "      <td>NaN</td>\n",
       "      <td>0</td>\n",
       "    </tr>\n",
       "    <tr>\n",
       "      <th>542</th>\n",
       "      <td>NaN</td>\n",
       "      <td>NaN</td>\n",
       "      <td>NaN</td>\n",
       "      <td>NaN</td>\n",
       "      <td>NaN</td>\n",
       "      <td>NaN</td>\n",
       "      <td>NaN</td>\n",
       "      <td>NaN</td>\n",
       "      <td>0</td>\n",
       "    </tr>\n",
       "    <tr>\n",
       "      <th>544</th>\n",
       "      <td>NaN</td>\n",
       "      <td>NaN</td>\n",
       "      <td>NaN</td>\n",
       "      <td>NaN</td>\n",
       "      <td>NaN</td>\n",
       "      <td>NaN</td>\n",
       "      <td>NaN</td>\n",
       "      <td>NaN</td>\n",
       "      <td>0</td>\n",
       "    </tr>\n",
       "    <tr>\n",
       "      <th>547</th>\n",
       "      <td>NaN</td>\n",
       "      <td>NaN</td>\n",
       "      <td>NaN</td>\n",
       "      <td>NaN</td>\n",
       "      <td>NaN</td>\n",
       "      <td>NaN</td>\n",
       "      <td>NaN</td>\n",
       "      <td>NaN</td>\n",
       "      <td>0</td>\n",
       "    </tr>\n",
       "    <tr>\n",
       "      <th>551</th>\n",
       "      <td>NaN</td>\n",
       "      <td>NaN</td>\n",
       "      <td>NaN</td>\n",
       "      <td>NaN</td>\n",
       "      <td>NaN</td>\n",
       "      <td>NaN</td>\n",
       "      <td>NaN</td>\n",
       "      <td>NaN</td>\n",
       "      <td>0</td>\n",
       "    </tr>\n",
       "    <tr>\n",
       "      <th>552</th>\n",
       "      <td>NaN</td>\n",
       "      <td>NaN</td>\n",
       "      <td>NaN</td>\n",
       "      <td>NaN</td>\n",
       "      <td>NaN</td>\n",
       "      <td>NaN</td>\n",
       "      <td>NaN</td>\n",
       "      <td>NaN</td>\n",
       "      <td>0</td>\n",
       "    </tr>\n",
       "    <tr>\n",
       "      <th>576</th>\n",
       "      <td>NaN</td>\n",
       "      <td>NaN</td>\n",
       "      <td>NaN</td>\n",
       "      <td>NaN</td>\n",
       "      <td>NaN</td>\n",
       "      <td>NaN</td>\n",
       "      <td>NaN</td>\n",
       "      <td>NaN</td>\n",
       "      <td>0</td>\n",
       "    </tr>\n",
       "    <tr>\n",
       "      <th>586</th>\n",
       "      <td>NaN</td>\n",
       "      <td>NaN</td>\n",
       "      <td>NaN</td>\n",
       "      <td>NaN</td>\n",
       "      <td>NaN</td>\n",
       "      <td>NaN</td>\n",
       "      <td>NaN</td>\n",
       "      <td>NaN</td>\n",
       "      <td>0</td>\n",
       "    </tr>\n",
       "    <tr>\n",
       "      <th>595</th>\n",
       "      <td>NaN</td>\n",
       "      <td>NaN</td>\n",
       "      <td>NaN</td>\n",
       "      <td>NaN</td>\n",
       "      <td>NaN</td>\n",
       "      <td>NaN</td>\n",
       "      <td>NaN</td>\n",
       "      <td>NaN</td>\n",
       "      <td>0</td>\n",
       "    </tr>\n",
       "    <tr>\n",
       "      <th>603</th>\n",
       "      <td>NaN</td>\n",
       "      <td>NaN</td>\n",
       "      <td>NaN</td>\n",
       "      <td>NaN</td>\n",
       "      <td>NaN</td>\n",
       "      <td>NaN</td>\n",
       "      <td>NaN</td>\n",
       "      <td>NaN</td>\n",
       "      <td>0</td>\n",
       "    </tr>\n",
       "    <tr>\n",
       "      <th>607</th>\n",
       "      <td>NaN</td>\n",
       "      <td>NaN</td>\n",
       "      <td>NaN</td>\n",
       "      <td>NaN</td>\n",
       "      <td>NaN</td>\n",
       "      <td>NaN</td>\n",
       "      <td>NaN</td>\n",
       "      <td>NaN</td>\n",
       "      <td>0</td>\n",
       "    </tr>\n",
       "    <tr>\n",
       "      <th>619</th>\n",
       "      <td>NaN</td>\n",
       "      <td>NaN</td>\n",
       "      <td>NaN</td>\n",
       "      <td>NaN</td>\n",
       "      <td>NaN</td>\n",
       "      <td>NaN</td>\n",
       "      <td>NaN</td>\n",
       "      <td>NaN</td>\n",
       "      <td>0</td>\n",
       "    </tr>\n",
       "    <tr>\n",
       "      <th>633</th>\n",
       "      <td>NaN</td>\n",
       "      <td>NaN</td>\n",
       "      <td>NaN</td>\n",
       "      <td>NaN</td>\n",
       "      <td>NaN</td>\n",
       "      <td>NaN</td>\n",
       "      <td>NaN</td>\n",
       "      <td>NaN</td>\n",
       "      <td>0</td>\n",
       "    </tr>\n",
       "    <tr>\n",
       "      <th>696</th>\n",
       "      <td>NaN</td>\n",
       "      <td>NaN</td>\n",
       "      <td>NaN</td>\n",
       "      <td>NaN</td>\n",
       "      <td>NaN</td>\n",
       "      <td>NaN</td>\n",
       "      <td>NaN</td>\n",
       "      <td>NaN</td>\n",
       "      <td>0</td>\n",
       "    </tr>\n",
       "    <tr>\n",
       "      <th>700</th>\n",
       "      <td>NaN</td>\n",
       "      <td>NaN</td>\n",
       "      <td>NaN</td>\n",
       "      <td>NaN</td>\n",
       "      <td>NaN</td>\n",
       "      <td>NaN</td>\n",
       "      <td>NaN</td>\n",
       "      <td>NaN</td>\n",
       "      <td>0</td>\n",
       "    </tr>\n",
       "    <tr>\n",
       "      <th>701</th>\n",
       "      <td>NaN</td>\n",
       "      <td>NaN</td>\n",
       "      <td>NaN</td>\n",
       "      <td>NaN</td>\n",
       "      <td>NaN</td>\n",
       "      <td>NaN</td>\n",
       "      <td>NaN</td>\n",
       "      <td>NaN</td>\n",
       "      <td>0</td>\n",
       "    </tr>\n",
       "    <tr>\n",
       "      <th>705</th>\n",
       "      <td>NaN</td>\n",
       "      <td>NaN</td>\n",
       "      <td>NaN</td>\n",
       "      <td>NaN</td>\n",
       "      <td>NaN</td>\n",
       "      <td>NaN</td>\n",
       "      <td>NaN</td>\n",
       "      <td>NaN</td>\n",
       "      <td>0</td>\n",
       "    </tr>\n",
       "    <tr>\n",
       "      <th>732</th>\n",
       "      <td>NaN</td>\n",
       "      <td>NaN</td>\n",
       "      <td>NaN</td>\n",
       "      <td>NaN</td>\n",
       "      <td>NaN</td>\n",
       "      <td>NaN</td>\n",
       "      <td>NaN</td>\n",
       "      <td>NaN</td>\n",
       "      <td>0</td>\n",
       "    </tr>\n",
       "    <tr>\n",
       "      <th>735</th>\n",
       "      <td>NaN</td>\n",
       "      <td>NaN</td>\n",
       "      <td>NaN</td>\n",
       "      <td>NaN</td>\n",
       "      <td>NaN</td>\n",
       "      <td>NaN</td>\n",
       "      <td>NaN</td>\n",
       "      <td>NaN</td>\n",
       "      <td>0</td>\n",
       "    </tr>\n",
       "    <tr>\n",
       "      <th>741</th>\n",
       "      <td>NaN</td>\n",
       "      <td>NaN</td>\n",
       "      <td>NaN</td>\n",
       "      <td>NaN</td>\n",
       "      <td>NaN</td>\n",
       "      <td>NaN</td>\n",
       "      <td>NaN</td>\n",
       "      <td>NaN</td>\n",
       "      <td>0</td>\n",
       "    </tr>\n",
       "    <tr>\n",
       "      <th>751</th>\n",
       "      <td>NaN</td>\n",
       "      <td>NaN</td>\n",
       "      <td>NaN</td>\n",
       "      <td>NaN</td>\n",
       "      <td>NaN</td>\n",
       "      <td>NaN</td>\n",
       "      <td>NaN</td>\n",
       "      <td>NaN</td>\n",
       "      <td>0</td>\n",
       "    </tr>\n",
       "    <tr>\n",
       "      <th>757</th>\n",
       "      <td>NaN</td>\n",
       "      <td>NaN</td>\n",
       "      <td>NaN</td>\n",
       "      <td>NaN</td>\n",
       "      <td>NaN</td>\n",
       "      <td>NaN</td>\n",
       "      <td>NaN</td>\n",
       "      <td>NaN</td>\n",
       "      <td>0</td>\n",
       "    </tr>\n",
       "    <tr>\n",
       "      <th>761</th>\n",
       "      <td>NaN</td>\n",
       "      <td>NaN</td>\n",
       "      <td>NaN</td>\n",
       "      <td>NaN</td>\n",
       "      <td>NaN</td>\n",
       "      <td>NaN</td>\n",
       "      <td>NaN</td>\n",
       "      <td>NaN</td>\n",
       "      <td>0</td>\n",
       "    </tr>\n",
       "    <tr>\n",
       "      <th>762</th>\n",
       "      <td>NaN</td>\n",
       "      <td>NaN</td>\n",
       "      <td>NaN</td>\n",
       "      <td>NaN</td>\n",
       "      <td>NaN</td>\n",
       "      <td>NaN</td>\n",
       "      <td>NaN</td>\n",
       "      <td>NaN</td>\n",
       "      <td>0</td>\n",
       "    </tr>\n",
       "    <tr>\n",
       "      <th>767</th>\n",
       "      <td>NaN</td>\n",
       "      <td>NaN</td>\n",
       "      <td>NaN</td>\n",
       "      <td>NaN</td>\n",
       "      <td>NaN</td>\n",
       "      <td>NaN</td>\n",
       "      <td>NaN</td>\n",
       "      <td>NaN</td>\n",
       "      <td>0</td>\n",
       "    </tr>\n",
       "    <tr>\n",
       "      <th>769</th>\n",
       "      <td>NaN</td>\n",
       "      <td>NaN</td>\n",
       "      <td>NaN</td>\n",
       "      <td>NaN</td>\n",
       "      <td>NaN</td>\n",
       "      <td>NaN</td>\n",
       "      <td>NaN</td>\n",
       "      <td>NaN</td>\n",
       "      <td>0</td>\n",
       "    </tr>\n",
       "    <tr>\n",
       "      <th>771</th>\n",
       "      <td>NaN</td>\n",
       "      <td>NaN</td>\n",
       "      <td>NaN</td>\n",
       "      <td>NaN</td>\n",
       "      <td>NaN</td>\n",
       "      <td>NaN</td>\n",
       "      <td>NaN</td>\n",
       "      <td>NaN</td>\n",
       "      <td>0</td>\n",
       "    </tr>\n",
       "    <tr>\n",
       "      <th>772</th>\n",
       "      <td>NaN</td>\n",
       "      <td>NaN</td>\n",
       "      <td>NaN</td>\n",
       "      <td>NaN</td>\n",
       "      <td>NaN</td>\n",
       "      <td>NaN</td>\n",
       "      <td>NaN</td>\n",
       "      <td>NaN</td>\n",
       "      <td>0</td>\n",
       "    </tr>\n",
       "    <tr>\n",
       "      <th>778</th>\n",
       "      <td>NaN</td>\n",
       "      <td>NaN</td>\n",
       "      <td>NaN</td>\n",
       "      <td>NaN</td>\n",
       "      <td>NaN</td>\n",
       "      <td>NaN</td>\n",
       "      <td>NaN</td>\n",
       "      <td>NaN</td>\n",
       "      <td>0</td>\n",
       "    </tr>\n",
       "    <tr>\n",
       "      <th>783</th>\n",
       "      <td>NaN</td>\n",
       "      <td>NaN</td>\n",
       "      <td>NaN</td>\n",
       "      <td>NaN</td>\n",
       "      <td>NaN</td>\n",
       "      <td>NaN</td>\n",
       "      <td>NaN</td>\n",
       "      <td>NaN</td>\n",
       "      <td>0</td>\n",
       "    </tr>\n",
       "    <tr>\n",
       "      <th>785</th>\n",
       "      <td>NaN</td>\n",
       "      <td>NaN</td>\n",
       "      <td>NaN</td>\n",
       "      <td>NaN</td>\n",
       "      <td>NaN</td>\n",
       "      <td>NaN</td>\n",
       "      <td>NaN</td>\n",
       "      <td>NaN</td>\n",
       "      <td>0</td>\n",
       "    </tr>\n",
       "    <tr>\n",
       "      <th>788</th>\n",
       "      <td>NaN</td>\n",
       "      <td>NaN</td>\n",
       "      <td>NaN</td>\n",
       "      <td>NaN</td>\n",
       "      <td>NaN</td>\n",
       "      <td>NaN</td>\n",
       "      <td>NaN</td>\n",
       "      <td>NaN</td>\n",
       "      <td>0</td>\n",
       "    </tr>\n",
       "    <tr>\n",
       "      <th>792</th>\n",
       "      <td>NaN</td>\n",
       "      <td>NaN</td>\n",
       "      <td>NaN</td>\n",
       "      <td>NaN</td>\n",
       "      <td>NaN</td>\n",
       "      <td>NaN</td>\n",
       "      <td>NaN</td>\n",
       "      <td>NaN</td>\n",
       "      <td>0</td>\n",
       "    </tr>\n",
       "    <tr>\n",
       "      <th>794</th>\n",
       "      <td>NaN</td>\n",
       "      <td>NaN</td>\n",
       "      <td>NaN</td>\n",
       "      <td>NaN</td>\n",
       "      <td>NaN</td>\n",
       "      <td>NaN</td>\n",
       "      <td>NaN</td>\n",
       "      <td>NaN</td>\n",
       "      <td>0</td>\n",
       "    </tr>\n",
       "    <tr>\n",
       "      <th>807</th>\n",
       "      <td>NaN</td>\n",
       "      <td>NaN</td>\n",
       "      <td>NaN</td>\n",
       "      <td>NaN</td>\n",
       "      <td>NaN</td>\n",
       "      <td>NaN</td>\n",
       "      <td>NaN</td>\n",
       "      <td>NaN</td>\n",
       "      <td>0</td>\n",
       "    </tr>\n",
       "    <tr>\n",
       "      <th>814</th>\n",
       "      <td>NaN</td>\n",
       "      <td>NaN</td>\n",
       "      <td>NaN</td>\n",
       "      <td>NaN</td>\n",
       "      <td>NaN</td>\n",
       "      <td>NaN</td>\n",
       "      <td>NaN</td>\n",
       "      <td>NaN</td>\n",
       "      <td>1</td>\n",
       "    </tr>\n",
       "    <tr>\n",
       "      <th>816</th>\n",
       "      <td>NaN</td>\n",
       "      <td>NaN</td>\n",
       "      <td>NaN</td>\n",
       "      <td>NaN</td>\n",
       "      <td>NaN</td>\n",
       "      <td>NaN</td>\n",
       "      <td>NaN</td>\n",
       "      <td>NaN</td>\n",
       "      <td>0</td>\n",
       "    </tr>\n",
       "  </tbody>\n",
       "</table>\n",
       "</div>"
      ],
      "text/plain": [
       "    STDs:vulvo-perineal condylomatosis STDs:syphilis  \\\n",
       "71                                 NaN           NaN   \n",
       "74                                 NaN           NaN   \n",
       "90                                 NaN           NaN   \n",
       "95                                 NaN           NaN   \n",
       "98                                 NaN           NaN   \n",
       "102                                NaN           NaN   \n",
       "111                                NaN           NaN   \n",
       "117                                NaN           NaN   \n",
       "141                                NaN           NaN   \n",
       "142                                NaN           NaN   \n",
       "143                                NaN           NaN   \n",
       "149                                NaN           NaN   \n",
       "164                                NaN           NaN   \n",
       "176                                NaN           NaN   \n",
       "178                                NaN           NaN   \n",
       "189                                NaN           NaN   \n",
       "193                                NaN           NaN   \n",
       "220                                NaN           NaN   \n",
       "225                                NaN           NaN   \n",
       "228                                NaN           NaN   \n",
       "234                                NaN           NaN   \n",
       "243                                NaN           NaN   \n",
       "256                                NaN           NaN   \n",
       "263                                NaN           NaN   \n",
       "267                                NaN           NaN   \n",
       "271                                NaN           NaN   \n",
       "272                                NaN           NaN   \n",
       "279                                NaN           NaN   \n",
       "281                                NaN           NaN   \n",
       "284                                NaN           NaN   \n",
       "299                                NaN           NaN   \n",
       "304                                NaN           NaN   \n",
       "307                                NaN           NaN   \n",
       "316                                NaN           NaN   \n",
       "319                                NaN           NaN   \n",
       "321                                NaN           NaN   \n",
       "323                                NaN           NaN   \n",
       "328                                NaN           NaN   \n",
       "330                                NaN           NaN   \n",
       "338                                NaN           NaN   \n",
       "341                                NaN           NaN   \n",
       "343                                NaN           NaN   \n",
       "345                                NaN           NaN   \n",
       "346                                NaN           NaN   \n",
       "350                                NaN           NaN   \n",
       "353                                NaN           NaN   \n",
       "381                                NaN           NaN   \n",
       "391                                NaN           NaN   \n",
       "398                                NaN           NaN   \n",
       "405                                NaN           NaN   \n",
       "408                                NaN           NaN   \n",
       "412                                NaN           NaN   \n",
       "417                                NaN           NaN   \n",
       "419                                NaN           NaN   \n",
       "436                                NaN           NaN   \n",
       "443                                NaN           NaN   \n",
       "445                                NaN           NaN   \n",
       "452                                NaN           NaN   \n",
       "453                                NaN           NaN   \n",
       "457                                NaN           NaN   \n",
       "460                                NaN           NaN   \n",
       "476                                NaN           NaN   \n",
       "489                                NaN           NaN   \n",
       "495                                NaN           NaN   \n",
       "505                                NaN           NaN   \n",
       "512                                NaN           NaN   \n",
       "525                                NaN           NaN   \n",
       "527                                NaN           NaN   \n",
       "528                                NaN           NaN   \n",
       "542                                NaN           NaN   \n",
       "544                                NaN           NaN   \n",
       "547                                NaN           NaN   \n",
       "551                                NaN           NaN   \n",
       "552                                NaN           NaN   \n",
       "576                                NaN           NaN   \n",
       "586                                NaN           NaN   \n",
       "595                                NaN           NaN   \n",
       "603                                NaN           NaN   \n",
       "607                                NaN           NaN   \n",
       "619                                NaN           NaN   \n",
       "633                                NaN           NaN   \n",
       "696                                NaN           NaN   \n",
       "700                                NaN           NaN   \n",
       "701                                NaN           NaN   \n",
       "705                                NaN           NaN   \n",
       "732                                NaN           NaN   \n",
       "735                                NaN           NaN   \n",
       "741                                NaN           NaN   \n",
       "751                                NaN           NaN   \n",
       "757                                NaN           NaN   \n",
       "761                                NaN           NaN   \n",
       "762                                NaN           NaN   \n",
       "767                                NaN           NaN   \n",
       "769                                NaN           NaN   \n",
       "771                                NaN           NaN   \n",
       "772                                NaN           NaN   \n",
       "778                                NaN           NaN   \n",
       "783                                NaN           NaN   \n",
       "785                                NaN           NaN   \n",
       "788                                NaN           NaN   \n",
       "792                                NaN           NaN   \n",
       "794                                NaN           NaN   \n",
       "807                                NaN           NaN   \n",
       "814                                NaN           NaN   \n",
       "816                                NaN           NaN   \n",
       "\n",
       "    STDs:pelvic inflammatory disease STDs:genital herpes  \\\n",
       "71                               NaN                 NaN   \n",
       "74                               NaN                 NaN   \n",
       "90                               NaN                 NaN   \n",
       "95                               NaN                 NaN   \n",
       "98                               NaN                 NaN   \n",
       "102                              NaN                 NaN   \n",
       "111                              NaN                 NaN   \n",
       "117                              NaN                 NaN   \n",
       "141                              NaN                 NaN   \n",
       "142                              NaN                 NaN   \n",
       "143                              NaN                 NaN   \n",
       "149                              NaN                 NaN   \n",
       "164                              NaN                 NaN   \n",
       "176                              NaN                 NaN   \n",
       "178                              NaN                 NaN   \n",
       "189                              NaN                 NaN   \n",
       "193                              NaN                 NaN   \n",
       "220                              NaN                 NaN   \n",
       "225                              NaN                 NaN   \n",
       "228                              NaN                 NaN   \n",
       "234                              NaN                 NaN   \n",
       "243                              NaN                 NaN   \n",
       "256                              NaN                 NaN   \n",
       "263                              NaN                 NaN   \n",
       "267                              NaN                 NaN   \n",
       "271                              NaN                 NaN   \n",
       "272                              NaN                 NaN   \n",
       "279                              NaN                 NaN   \n",
       "281                              NaN                 NaN   \n",
       "284                              NaN                 NaN   \n",
       "299                              NaN                 NaN   \n",
       "304                              NaN                 NaN   \n",
       "307                              NaN                 NaN   \n",
       "316                              NaN                 NaN   \n",
       "319                              NaN                 NaN   \n",
       "321                              NaN                 NaN   \n",
       "323                              NaN                 NaN   \n",
       "328                              NaN                 NaN   \n",
       "330                              NaN                 NaN   \n",
       "338                              NaN                 NaN   \n",
       "341                              NaN                 NaN   \n",
       "343                              NaN                 NaN   \n",
       "345                              NaN                 NaN   \n",
       "346                              NaN                 NaN   \n",
       "350                              NaN                 NaN   \n",
       "353                              NaN                 NaN   \n",
       "381                              NaN                 NaN   \n",
       "391                              NaN                 NaN   \n",
       "398                              NaN                 NaN   \n",
       "405                              NaN                 NaN   \n",
       "408                              NaN                 NaN   \n",
       "412                              NaN                 NaN   \n",
       "417                              NaN                 NaN   \n",
       "419                              NaN                 NaN   \n",
       "436                              NaN                 NaN   \n",
       "443                              NaN                 NaN   \n",
       "445                              NaN                 NaN   \n",
       "452                              NaN                 NaN   \n",
       "453                              NaN                 NaN   \n",
       "457                              NaN                 NaN   \n",
       "460                              NaN                 NaN   \n",
       "476                              NaN                 NaN   \n",
       "489                              NaN                 NaN   \n",
       "495                              NaN                 NaN   \n",
       "505                              NaN                 NaN   \n",
       "512                              NaN                 NaN   \n",
       "525                              NaN                 NaN   \n",
       "527                              NaN                 NaN   \n",
       "528                              NaN                 NaN   \n",
       "542                              NaN                 NaN   \n",
       "544                              NaN                 NaN   \n",
       "547                              NaN                 NaN   \n",
       "551                              NaN                 NaN   \n",
       "552                              NaN                 NaN   \n",
       "576                              NaN                 NaN   \n",
       "586                              NaN                 NaN   \n",
       "595                              NaN                 NaN   \n",
       "603                              NaN                 NaN   \n",
       "607                              NaN                 NaN   \n",
       "619                              NaN                 NaN   \n",
       "633                              NaN                 NaN   \n",
       "696                              NaN                 NaN   \n",
       "700                              NaN                 NaN   \n",
       "701                              NaN                 NaN   \n",
       "705                              NaN                 NaN   \n",
       "732                              NaN                 NaN   \n",
       "735                              NaN                 NaN   \n",
       "741                              NaN                 NaN   \n",
       "751                              NaN                 NaN   \n",
       "757                              NaN                 NaN   \n",
       "761                              NaN                 NaN   \n",
       "762                              NaN                 NaN   \n",
       "767                              NaN                 NaN   \n",
       "769                              NaN                 NaN   \n",
       "771                              NaN                 NaN   \n",
       "772                              NaN                 NaN   \n",
       "778                              NaN                 NaN   \n",
       "783                              NaN                 NaN   \n",
       "785                              NaN                 NaN   \n",
       "788                              NaN                 NaN   \n",
       "792                              NaN                 NaN   \n",
       "794                              NaN                 NaN   \n",
       "807                              NaN                 NaN   \n",
       "814                              NaN                 NaN   \n",
       "816                              NaN                 NaN   \n",
       "\n",
       "    STDs:molluscum contagiosum STDs:AIDS STDs:HIV STDs:Hepatitis B  Biopsy  \n",
       "71                         NaN       NaN      NaN              NaN       0  \n",
       "74                         NaN       NaN      NaN              NaN       0  \n",
       "90                         NaN       NaN      NaN              NaN       0  \n",
       "95                         NaN       NaN      NaN              NaN       0  \n",
       "98                         NaN       NaN      NaN              NaN       0  \n",
       "102                        NaN       NaN      NaN              NaN       0  \n",
       "111                        NaN       NaN      NaN              NaN       0  \n",
       "117                        NaN       NaN      NaN              NaN       0  \n",
       "141                        NaN       NaN      NaN              NaN       0  \n",
       "142                        NaN       NaN      NaN              NaN       0  \n",
       "143                        NaN       NaN      NaN              NaN       0  \n",
       "149                        NaN       NaN      NaN              NaN       0  \n",
       "164                        NaN       NaN      NaN              NaN       0  \n",
       "176                        NaN       NaN      NaN              NaN       0  \n",
       "178                        NaN       NaN      NaN              NaN       0  \n",
       "189                        NaN       NaN      NaN              NaN       0  \n",
       "193                        NaN       NaN      NaN              NaN       0  \n",
       "220                        NaN       NaN      NaN              NaN       0  \n",
       "225                        NaN       NaN      NaN              NaN       0  \n",
       "228                        NaN       NaN      NaN              NaN       0  \n",
       "234                        NaN       NaN      NaN              NaN       0  \n",
       "243                        NaN       NaN      NaN              NaN       0  \n",
       "256                        NaN       NaN      NaN              NaN       0  \n",
       "263                        NaN       NaN      NaN              NaN       0  \n",
       "267                        NaN       NaN      NaN              NaN       0  \n",
       "271                        NaN       NaN      NaN              NaN       0  \n",
       "272                        NaN       NaN      NaN              NaN       0  \n",
       "279                        NaN       NaN      NaN              NaN       0  \n",
       "281                        NaN       NaN      NaN              NaN       0  \n",
       "284                        NaN       NaN      NaN              NaN       0  \n",
       "299                        NaN       NaN      NaN              NaN       0  \n",
       "304                        NaN       NaN      NaN              NaN       0  \n",
       "307                        NaN       NaN      NaN              NaN       0  \n",
       "316                        NaN       NaN      NaN              NaN       0  \n",
       "319                        NaN       NaN      NaN              NaN       0  \n",
       "321                        NaN       NaN      NaN              NaN       0  \n",
       "323                        NaN       NaN      NaN              NaN       0  \n",
       "328                        NaN       NaN      NaN              NaN       0  \n",
       "330                        NaN       NaN      NaN              NaN       0  \n",
       "338                        NaN       NaN      NaN              NaN       0  \n",
       "341                        NaN       NaN      NaN              NaN       0  \n",
       "343                        NaN       NaN      NaN              NaN       0  \n",
       "345                        NaN       NaN      NaN              NaN       1  \n",
       "346                        NaN       NaN      NaN              NaN       0  \n",
       "350                        NaN       NaN      NaN              NaN       0  \n",
       "353                        NaN       NaN      NaN              NaN       0  \n",
       "381                        NaN       NaN      NaN              NaN       0  \n",
       "391                        NaN       NaN      NaN              NaN       0  \n",
       "398                        NaN       NaN      NaN              NaN       0  \n",
       "405                        NaN       NaN      NaN              NaN       0  \n",
       "408                        NaN       NaN      NaN              NaN       0  \n",
       "412                        NaN       NaN      NaN              NaN       0  \n",
       "417                        NaN       NaN      NaN              NaN       0  \n",
       "419                        NaN       NaN      NaN              NaN       0  \n",
       "436                        NaN       NaN      NaN              NaN       0  \n",
       "443                        NaN       NaN      NaN              NaN       0  \n",
       "445                        NaN       NaN      NaN              NaN       0  \n",
       "452                        NaN       NaN      NaN              NaN       0  \n",
       "453                        NaN       NaN      NaN              NaN       0  \n",
       "457                        NaN       NaN      NaN              NaN       0  \n",
       "460                        NaN       NaN      NaN              NaN       0  \n",
       "476                        NaN       NaN      NaN              NaN       0  \n",
       "489                        NaN       NaN      NaN              NaN       0  \n",
       "495                        NaN       NaN      NaN              NaN       0  \n",
       "505                        NaN       NaN      NaN              NaN       0  \n",
       "512                        NaN       NaN      NaN              NaN       0  \n",
       "525                        NaN       NaN      NaN              NaN       0  \n",
       "527                        NaN       NaN      NaN              NaN       0  \n",
       "528                        NaN       NaN      NaN              NaN       0  \n",
       "542                        NaN       NaN      NaN              NaN       0  \n",
       "544                        NaN       NaN      NaN              NaN       0  \n",
       "547                        NaN       NaN      NaN              NaN       0  \n",
       "551                        NaN       NaN      NaN              NaN       0  \n",
       "552                        NaN       NaN      NaN              NaN       0  \n",
       "576                        NaN       NaN      NaN              NaN       0  \n",
       "586                        NaN       NaN      NaN              NaN       0  \n",
       "595                        NaN       NaN      NaN              NaN       0  \n",
       "603                        NaN       NaN      NaN              NaN       0  \n",
       "607                        NaN       NaN      NaN              NaN       0  \n",
       "619                        NaN       NaN      NaN              NaN       0  \n",
       "633                        NaN       NaN      NaN              NaN       0  \n",
       "696                        NaN       NaN      NaN              NaN       0  \n",
       "700                        NaN       NaN      NaN              NaN       0  \n",
       "701                        NaN       NaN      NaN              NaN       0  \n",
       "705                        NaN       NaN      NaN              NaN       0  \n",
       "732                        NaN       NaN      NaN              NaN       0  \n",
       "735                        NaN       NaN      NaN              NaN       0  \n",
       "741                        NaN       NaN      NaN              NaN       0  \n",
       "751                        NaN       NaN      NaN              NaN       0  \n",
       "757                        NaN       NaN      NaN              NaN       0  \n",
       "761                        NaN       NaN      NaN              NaN       0  \n",
       "762                        NaN       NaN      NaN              NaN       0  \n",
       "767                        NaN       NaN      NaN              NaN       0  \n",
       "769                        NaN       NaN      NaN              NaN       0  \n",
       "771                        NaN       NaN      NaN              NaN       0  \n",
       "772                        NaN       NaN      NaN              NaN       0  \n",
       "778                        NaN       NaN      NaN              NaN       0  \n",
       "783                        NaN       NaN      NaN              NaN       0  \n",
       "785                        NaN       NaN      NaN              NaN       0  \n",
       "788                        NaN       NaN      NaN              NaN       0  \n",
       "792                        NaN       NaN      NaN              NaN       0  \n",
       "794                        NaN       NaN      NaN              NaN       0  \n",
       "807                        NaN       NaN      NaN              NaN       0  \n",
       "814                        NaN       NaN      NaN              NaN       1  \n",
       "816                        NaN       NaN      NaN              NaN       0  "
      ]
     },
     "execution_count": 12,
     "metadata": {},
     "output_type": "execute_result"
    }
   ],
   "source": [
    "null_vulvo"
   ]
  },
  {
   "cell_type": "markdown",
   "metadata": {},
   "source": [
    "##It seems missing values in all variables are exactly in same row"
   ]
  },
  {
   "cell_type": "code",
   "execution_count": 13,
   "metadata": {},
   "outputs": [
    {
     "data": {
      "text/plain": [
       "12.237762237762238"
      ]
     },
     "execution_count": 13,
     "metadata": {},
     "output_type": "execute_result"
    }
   ],
   "source": [
    "##Missing values percentage\n",
    "missing_percent = ( len(null_vulvo) / len(df) )  * 100\n",
    "missing_percent"
   ]
  },
  {
   "cell_type": "markdown",
   "metadata": {},
   "source": [
    "##The missing percentage is low hence dropping a columns won't make sense. \n",
    "##Lets try to find out which variables are significant features and we impute them with suitable method"
   ]
  },
  {
   "cell_type": "code",
   "execution_count": 14,
   "metadata": {},
   "outputs": [
    {
     "data": {
      "text/plain": [
       "0    803\n",
       "1     55\n",
       "Name: Biopsy, dtype: int64"
      ]
     },
     "execution_count": 14,
     "metadata": {},
     "output_type": "execute_result"
    }
   ],
   "source": [
    "df.Biopsy.value_counts()"
   ]
  },
  {
   "cell_type": "code",
   "execution_count": 15,
   "metadata": {},
   "outputs": [
    {
     "data": {
      "text/plain": [
       "6.41025641025641"
      ]
     },
     "execution_count": 15,
     "metadata": {},
     "output_type": "execute_result"
    }
   ],
   "source": [
    "##Checking class imbalance percentage\n",
    "\n",
    "( len(df[df['Biopsy']==1]) / len(df.Biopsy) )   *   100"
   ]
  },
  {
   "cell_type": "markdown",
   "metadata": {},
   "source": [
    "##Here there is an serious class imbalance problem"
   ]
  },
  {
   "cell_type": "code",
   "execution_count": 16,
   "metadata": {},
   "outputs": [],
   "source": [
    "##Lets see how many missing rows actually contains 0 for Biopsy(target variable)"
   ]
  },
  {
   "cell_type": "code",
   "execution_count": 17,
   "metadata": {},
   "outputs": [
    {
     "data": {
      "text/plain": [
       "0    103\n",
       "1      2\n",
       "Name: Biopsy, dtype: int64"
      ]
     },
     "execution_count": 17,
     "metadata": {},
     "output_type": "execute_result"
    }
   ],
   "source": [
    "df[df['STDs:vulvo-perineal condylomatosis'].isnull()]['Biopsy'].value_counts()"
   ]
  },
  {
   "cell_type": "markdown",
   "metadata": {},
   "source": [
    "##It seems null values in those eight columns has only 2 one's and 103 zero's . So dropping a row after checking the missing percentage row wise for whole dataset will slightly make sense because we are aready facing a serious class imbalance issue"
   ]
  },
  {
   "cell_type": "code",
   "execution_count": 18,
   "metadata": {},
   "outputs": [],
   "source": [
    "##from sklearn.feature_selection import SelectPercentile\n",
    "##from sklearn.feature_selection import f_classif\n",
    "##from sklearn.feature_selection import mutual_info_classif\n",
    "##df1 = df.copy()\n",
    "##df1 = df1.dropna()\n",
    "##x = df1.drop('Biopsy' , axis = 1)\n",
    "##y = df1[['Biopsy']]\n",
    "##Selector_f = SelectPercentile(f_classif, percentile=25)\n",
    "##Selector_f.fit(x,y)\n",
    "##for n,s in zip(x.columns,Selector_f.scores_):\n",
    "##    print ('F-score: %3.2ft for feature %s'  % (s,n))"
   ]
  },
  {
   "cell_type": "code",
   "execution_count": 19,
   "metadata": {},
   "outputs": [],
   "source": [
    "df1 = df.copy()\n",
    "df1 = df1.dropna()"
   ]
  },
  {
   "cell_type": "markdown",
   "metadata": {},
   "source": [
    "##Lets check whether variables are dependent or independent of target column"
   ]
  },
  {
   "cell_type": "code",
   "execution_count": 20,
   "metadata": {},
   "outputs": [],
   "source": [
    "from scipy.stats import chisquare,chi2_contingency"
   ]
  },
  {
   "cell_type": "code",
   "execution_count": 21,
   "metadata": {},
   "outputs": [
    {
     "name": "stdout",
     "output_type": "stream",
     "text": [
      "STDs:vulvo-perineal condylomatosis  : Statistic : 590.8220451527225 Pvalue : 1.6599795349838112e-130\n",
      "STDs:syphilis  : Statistic : 682.7211155378486 Pvalue : 1.7107163469174372e-150\n",
      "STDs:pelvic inflammatory disease  : Statistic : 749.0053120849933 Pvalue : 6.602109599046594e-165\n",
      "STDs:genital herpes  : Statistic : 749.0053120849933 Pvalue : 6.602109599046594e-165\n",
      "STDs:molluscum contagiosum  : Statistic : 749.0053120849933 Pvalue : 6.602109599046594e-165\n",
      "STDs:AIDS  : Statistic : 0.0 Pvalue : nan\n",
      "STDs:HIV  : Statistic : 682.7211155378486 Pvalue : 1.7107163469174372e-150\n",
      "STDs:Hepatitis B  : Statistic : 749.0053120849933 Pvalue : 6.602109599046594e-165\n",
      "Biopsy  : Statistic : 555.921646746348 Pvalue : 6.483414078982499e-123\n"
     ]
    }
   ],
   "source": [
    "col = df1[['STDs:vulvo-perineal condylomatosis', 'STDs:syphilis',\n",
    "       'STDs:pelvic inflammatory disease', 'STDs:genital herpes',\n",
    "       'STDs:molluscum contagiosum', 'STDs:AIDS', 'STDs:HIV',\n",
    "       'STDs:Hepatitis B', 'Biopsy']]\n",
    "\n",
    "for i in col:\n",
    "    statistic , pvalue = chisquare(df1[i].value_counts())\n",
    "    print(i , ' : Statistic :', statistic , 'Pvalue :' , pvalue)"
   ]
  },
  {
   "cell_type": "markdown",
   "metadata": {},
   "source": [
    "##Statiscally and also by seeing the data we confirmed that the proportions of the variables are not same.\n",
    "##AIDS Columns has only 0, thats why we get nan as output"
   ]
  },
  {
   "cell_type": "code",
   "execution_count": 22,
   "metadata": {},
   "outputs": [
    {
     "name": "stdout",
     "output_type": "stream",
     "text": [
      "STDs:vulvo-perineal condylomatosis : (4.547824647092735, 0.03296059706610029, 1, array([[660.02656042,  49.97343958],\n",
      "       [ 39.97343958,   3.02656042]]))\n",
      "STDs:syphilis : (0.5116408355795149, 0.474429412341429, 1, array([[683.26693227,  51.73306773],\n",
      "       [ 16.73306773,   1.26693227]]))\n",
      "STDs:pelvic inflammatory disease : (2.824566448141882, 0.0928319571052792, 1, array([[6.99070385e+02, 5.29296149e+01],\n",
      "       [9.29614874e-01, 7.03851262e-02]]))\n",
      "STDs:genital herpes : (2.824566448141882, 0.0928319571052792, 1, array([[6.99070385e+02, 5.29296149e+01],\n",
      "       [9.29614874e-01, 7.03851262e-02]]))\n",
      "STDs:molluscum contagiosum : (2.824566448141882, 0.0928319571052792, 1, array([[6.99070385e+02, 5.29296149e+01],\n",
      "       [9.29614874e-01, 7.03851262e-02]]))\n",
      "STDs:AIDS : (0.0, 1.0, 0, array([[700.,  53.]]))\n",
      "STDs:HIV : (9.092447040541284, 0.002566672304708628, 1, array([[683.26693227,  51.73306773],\n",
      "       [ 16.73306773,   1.26693227]]))\n",
      "STDs:Hepatitis B : (2.824566448141882, 0.0928319571052792, 1, array([[6.99070385e+02, 5.29296149e+01],\n",
      "       [9.29614874e-01, 7.03851262e-02]]))\n"
     ]
    }
   ],
   "source": [
    "col = df1[['STDs:vulvo-perineal condylomatosis', 'STDs:syphilis',\n",
    "       'STDs:pelvic inflammatory disease', 'STDs:genital herpes',\n",
    "       'STDs:molluscum contagiosum', 'STDs:AIDS', 'STDs:HIV',\n",
    "       'STDs:Hepatitis B']]\n",
    "\n",
    "\n",
    "for i in col:\n",
    "    cont = pd.crosstab(df1[i],\n",
    "                       df1['Biopsy'])\n",
    "    \n",
    "    print(i ,  ':' , chi2_contingency(cont))\n"
   ]
  },
  {
   "cell_type": "code",
   "execution_count": 23,
   "metadata": {},
   "outputs": [],
   "source": [
    "##Null : Two variables are independent\n",
    "##Alternate : two variables are dependent"
   ]
  },
  {
   "cell_type": "markdown",
   "metadata": {},
   "source": [
    "##By statistically checking, if p-value is greater than 0.05 we do not reject the null hypothesis. \n",
    "\n",
    "##So by the P-value we got above, It seems \"Vulvo-perenial Condylomatosis\" , \"HIV\" are dependent to target column at 95% confidence interval.\n",
    "\n",
    "##If we we our alpha to 0.10 means confidence level to 90%, all variables except \"STDs:Syphilis\" seems dependent."
   ]
  },
  {
   "cell_type": "code",
   "execution_count": 24,
   "metadata": {},
   "outputs": [],
   "source": [
    "##Lets check row-wise missing value"
   ]
  },
  {
   "cell_type": "code",
   "execution_count": 25,
   "metadata": {},
   "outputs": [],
   "source": [
    "##At first we will drop two columns which has more than 90% missing values "
   ]
  },
  {
   "cell_type": "code",
   "execution_count": 26,
   "metadata": {
    "scrolled": true
   },
   "outputs": [],
   "source": [
    "drop = ['STDs: Time since first diagnosis','STDs: Time since last diagnosis']"
   ]
  },
  {
   "cell_type": "code",
   "execution_count": 27,
   "metadata": {},
   "outputs": [],
   "source": [
    "data = data.drop(drop , axis = 1)"
   ]
  },
  {
   "cell_type": "code",
   "execution_count": 28,
   "metadata": {},
   "outputs": [
    {
     "data": {
      "text/plain": [
       "(858, 31)"
      ]
     },
     "execution_count": 28,
     "metadata": {},
     "output_type": "execute_result"
    }
   ],
   "source": [
    "data.shape"
   ]
  },
  {
   "cell_type": "code",
   "execution_count": 29,
   "metadata": {},
   "outputs": [
    {
     "data": {
      "text/plain": [
       "31"
      ]
     },
     "execution_count": 29,
     "metadata": {},
     "output_type": "execute_result"
    }
   ],
   "source": [
    "data.shape[1]"
   ]
  },
  {
   "cell_type": "code",
   "execution_count": 30,
   "metadata": {
    "scrolled": true
   },
   "outputs": [
    {
     "name": "stdout",
     "output_type": "stream",
     "text": [
      "Missing percentage row-wise : \n",
      "\n",
      " 0       0.000000\n",
      "1       0.000000\n",
      "2       3.225806\n",
      "3       0.000000\n",
      "4       0.000000\n",
      "5       0.000000\n",
      "6       0.000000\n",
      "7       0.000000\n",
      "8       0.000000\n",
      "9       9.677419\n",
      "10      0.000000\n",
      "11      0.000000\n",
      "12      0.000000\n",
      "13      0.000000\n",
      "14      0.000000\n",
      "15      0.000000\n",
      "16      0.000000\n",
      "17      0.000000\n",
      "18      3.225806\n",
      "19      3.225806\n",
      "20      0.000000\n",
      "21      0.000000\n",
      "22      0.000000\n",
      "23      0.000000\n",
      "24      0.000000\n",
      "25      0.000000\n",
      "26      0.000000\n",
      "27      0.000000\n",
      "28      0.000000\n",
      "29      0.000000\n",
      "30      0.000000\n",
      "31      0.000000\n",
      "32      0.000000\n",
      "33      0.000000\n",
      "34      0.000000\n",
      "35      0.000000\n",
      "36      0.000000\n",
      "37      3.225806\n",
      "38      0.000000\n",
      "39      0.000000\n",
      "40      3.225806\n",
      "41      9.677419\n",
      "42      0.000000\n",
      "43      0.000000\n",
      "44      0.000000\n",
      "45      0.000000\n",
      "46      9.677419\n",
      "47      0.000000\n",
      "48      0.000000\n",
      "49      0.000000\n",
      "50      0.000000\n",
      "51      0.000000\n",
      "52      0.000000\n",
      "53      0.000000\n",
      "54      0.000000\n",
      "55      0.000000\n",
      "56      0.000000\n",
      "57      0.000000\n",
      "58      0.000000\n",
      "59      0.000000\n",
      "60      0.000000\n",
      "61      0.000000\n",
      "62      0.000000\n",
      "63      0.000000\n",
      "64      0.000000\n",
      "65      0.000000\n",
      "66      0.000000\n",
      "67      0.000000\n",
      "68      0.000000\n",
      "69      0.000000\n",
      "70      0.000000\n",
      "71     64.516129\n",
      "72      0.000000\n",
      "73      0.000000\n",
      "74     58.064516\n",
      "75      0.000000\n",
      "76      0.000000\n",
      "77      0.000000\n",
      "78      0.000000\n",
      "79      0.000000\n",
      "80      0.000000\n",
      "81      0.000000\n",
      "82      0.000000\n",
      "83      0.000000\n",
      "84      0.000000\n",
      "85      0.000000\n",
      "86      0.000000\n",
      "87      0.000000\n",
      "88      0.000000\n",
      "89      0.000000\n",
      "90     58.064516\n",
      "91      0.000000\n",
      "92      0.000000\n",
      "93      0.000000\n",
      "94      0.000000\n",
      "95     58.064516\n",
      "96      3.225806\n",
      "97      0.000000\n",
      "98     58.064516\n",
      "99      0.000000\n",
      "         ...    \n",
      "758     0.000000\n",
      "759     0.000000\n",
      "760     0.000000\n",
      "761    61.290323\n",
      "762    58.064516\n",
      "763     0.000000\n",
      "764     0.000000\n",
      "765     0.000000\n",
      "766     0.000000\n",
      "767    58.064516\n",
      "768     0.000000\n",
      "769    58.064516\n",
      "770     9.677419\n",
      "771    58.064516\n",
      "772    58.064516\n",
      "773    16.129032\n",
      "774     0.000000\n",
      "775     0.000000\n",
      "776     0.000000\n",
      "777     0.000000\n",
      "778    58.064516\n",
      "779     0.000000\n",
      "780     0.000000\n",
      "781     9.677419\n",
      "782     0.000000\n",
      "783    58.064516\n",
      "784     0.000000\n",
      "785    58.064516\n",
      "786     0.000000\n",
      "787     0.000000\n",
      "788    51.612903\n",
      "789     0.000000\n",
      "790     0.000000\n",
      "791     0.000000\n",
      "792    58.064516\n",
      "793     0.000000\n",
      "794    58.064516\n",
      "795     0.000000\n",
      "796     0.000000\n",
      "797     0.000000\n",
      "798     0.000000\n",
      "799     0.000000\n",
      "800     0.000000\n",
      "801     0.000000\n",
      "802     0.000000\n",
      "803     0.000000\n",
      "804     0.000000\n",
      "805     0.000000\n",
      "806     0.000000\n",
      "807    54.838710\n",
      "808     6.451613\n",
      "809     3.225806\n",
      "810     3.225806\n",
      "811     3.225806\n",
      "812     3.225806\n",
      "813     3.225806\n",
      "814    54.838710\n",
      "815     3.225806\n",
      "816    54.838710\n",
      "817     3.225806\n",
      "818     3.225806\n",
      "819     9.677419\n",
      "820     3.225806\n",
      "821     0.000000\n",
      "822     0.000000\n",
      "823     0.000000\n",
      "824     0.000000\n",
      "825     0.000000\n",
      "826     0.000000\n",
      "827     0.000000\n",
      "828     0.000000\n",
      "829     0.000000\n",
      "830     0.000000\n",
      "831     0.000000\n",
      "832     0.000000\n",
      "833     3.225806\n",
      "834     0.000000\n",
      "835     0.000000\n",
      "836     3.225806\n",
      "837     3.225806\n",
      "838     0.000000\n",
      "839     0.000000\n",
      "840     0.000000\n",
      "841     0.000000\n",
      "842     0.000000\n",
      "843     0.000000\n",
      "844     0.000000\n",
      "845     0.000000\n",
      "846     0.000000\n",
      "847     0.000000\n",
      "848     0.000000\n",
      "849     0.000000\n",
      "850     0.000000\n",
      "851     0.000000\n",
      "852     0.000000\n",
      "853     0.000000\n",
      "854     0.000000\n",
      "855     0.000000\n",
      "856     0.000000\n",
      "857     0.000000\n",
      "Length: 858, dtype: float64\n"
     ]
    }
   ],
   "source": [
    "print('Missing percentage row-wise : \\n\\n' , (data.isnull().sum(axis=1) / data.shape[1]) * 100 )"
   ]
  },
  {
   "cell_type": "code",
   "execution_count": 31,
   "metadata": {},
   "outputs": [],
   "source": [
    "row_wise_null = (data.isnull().sum(axis=1) / data.shape[1]) * 100"
   ]
  },
  {
   "cell_type": "code",
   "execution_count": 32,
   "metadata": {},
   "outputs": [],
   "source": [
    "data['row_wise_null'] = row_wise_null"
   ]
  },
  {
   "cell_type": "code",
   "execution_count": 33,
   "metadata": {},
   "outputs": [
    {
     "data": {
      "text/plain": [
       "(858, 32)"
      ]
     },
     "execution_count": 33,
     "metadata": {},
     "output_type": "execute_result"
    }
   ],
   "source": [
    "data.shape"
   ]
  },
  {
   "cell_type": "code",
   "execution_count": 34,
   "metadata": {},
   "outputs": [
    {
     "data": {
      "text/html": [
       "<div>\n",
       "<style scoped>\n",
       "    .dataframe tbody tr th:only-of-type {\n",
       "        vertical-align: middle;\n",
       "    }\n",
       "\n",
       "    .dataframe tbody tr th {\n",
       "        vertical-align: top;\n",
       "    }\n",
       "\n",
       "    .dataframe thead th {\n",
       "        text-align: right;\n",
       "    }\n",
       "</style>\n",
       "<table border=\"1\" class=\"dataframe\">\n",
       "  <thead>\n",
       "    <tr style=\"text-align: right;\">\n",
       "      <th></th>\n",
       "      <th>Age</th>\n",
       "      <th>Number of sexual partners</th>\n",
       "      <th>First sexual intercourse</th>\n",
       "      <th>Num of pregnancies</th>\n",
       "      <th>Smokes</th>\n",
       "      <th>Smokes (years)</th>\n",
       "      <th>Smokes (packs/year)</th>\n",
       "      <th>Hormonal Contraceptives</th>\n",
       "      <th>Hormonal Contraceptives (years)</th>\n",
       "      <th>IUD</th>\n",
       "      <th>...</th>\n",
       "      <th>STDs:HIV</th>\n",
       "      <th>STDs:Hepatitis B</th>\n",
       "      <th>STDs:HPV</th>\n",
       "      <th>STDs: Number of diagnosis</th>\n",
       "      <th>Dx:Cancer</th>\n",
       "      <th>Dx:CIN</th>\n",
       "      <th>Dx:HPV</th>\n",
       "      <th>Dx</th>\n",
       "      <th>Biopsy</th>\n",
       "      <th>row_wise_null</th>\n",
       "    </tr>\n",
       "  </thead>\n",
       "  <tbody>\n",
       "    <tr>\n",
       "      <th>71</th>\n",
       "      <td>34</td>\n",
       "      <td>NaN</td>\n",
       "      <td>NaN</td>\n",
       "      <td>3</td>\n",
       "      <td>0</td>\n",
       "      <td>0</td>\n",
       "      <td>0</td>\n",
       "      <td>NaN</td>\n",
       "      <td>NaN</td>\n",
       "      <td>NaN</td>\n",
       "      <td>...</td>\n",
       "      <td>NaN</td>\n",
       "      <td>NaN</td>\n",
       "      <td>NaN</td>\n",
       "      <td>0</td>\n",
       "      <td>0</td>\n",
       "      <td>0</td>\n",
       "      <td>0</td>\n",
       "      <td>0</td>\n",
       "      <td>0</td>\n",
       "      <td>64.516129</td>\n",
       "    </tr>\n",
       "    <tr>\n",
       "      <th>117</th>\n",
       "      <td>30</td>\n",
       "      <td>3</td>\n",
       "      <td>16</td>\n",
       "      <td>3</td>\n",
       "      <td>NaN</td>\n",
       "      <td>NaN</td>\n",
       "      <td>NaN</td>\n",
       "      <td>NaN</td>\n",
       "      <td>NaN</td>\n",
       "      <td>NaN</td>\n",
       "      <td>...</td>\n",
       "      <td>NaN</td>\n",
       "      <td>NaN</td>\n",
       "      <td>NaN</td>\n",
       "      <td>0</td>\n",
       "      <td>0</td>\n",
       "      <td>0</td>\n",
       "      <td>0</td>\n",
       "      <td>0</td>\n",
       "      <td>0</td>\n",
       "      <td>67.741935</td>\n",
       "    </tr>\n",
       "    <tr>\n",
       "      <th>164</th>\n",
       "      <td>29</td>\n",
       "      <td>NaN</td>\n",
       "      <td>19</td>\n",
       "      <td>2</td>\n",
       "      <td>0</td>\n",
       "      <td>0</td>\n",
       "      <td>0</td>\n",
       "      <td>NaN</td>\n",
       "      <td>NaN</td>\n",
       "      <td>NaN</td>\n",
       "      <td>...</td>\n",
       "      <td>NaN</td>\n",
       "      <td>NaN</td>\n",
       "      <td>NaN</td>\n",
       "      <td>0</td>\n",
       "      <td>0</td>\n",
       "      <td>0</td>\n",
       "      <td>0</td>\n",
       "      <td>0</td>\n",
       "      <td>0</td>\n",
       "      <td>61.290323</td>\n",
       "    </tr>\n",
       "    <tr>\n",
       "      <th>220</th>\n",
       "      <td>25</td>\n",
       "      <td>NaN</td>\n",
       "      <td>18</td>\n",
       "      <td>2</td>\n",
       "      <td>0</td>\n",
       "      <td>0</td>\n",
       "      <td>0</td>\n",
       "      <td>NaN</td>\n",
       "      <td>NaN</td>\n",
       "      <td>NaN</td>\n",
       "      <td>...</td>\n",
       "      <td>NaN</td>\n",
       "      <td>NaN</td>\n",
       "      <td>NaN</td>\n",
       "      <td>0</td>\n",
       "      <td>0</td>\n",
       "      <td>0</td>\n",
       "      <td>0</td>\n",
       "      <td>0</td>\n",
       "      <td>0</td>\n",
       "      <td>61.290323</td>\n",
       "    </tr>\n",
       "    <tr>\n",
       "      <th>234</th>\n",
       "      <td>25</td>\n",
       "      <td>NaN</td>\n",
       "      <td>18</td>\n",
       "      <td>2</td>\n",
       "      <td>0</td>\n",
       "      <td>0</td>\n",
       "      <td>0</td>\n",
       "      <td>NaN</td>\n",
       "      <td>NaN</td>\n",
       "      <td>NaN</td>\n",
       "      <td>...</td>\n",
       "      <td>NaN</td>\n",
       "      <td>NaN</td>\n",
       "      <td>NaN</td>\n",
       "      <td>0</td>\n",
       "      <td>0</td>\n",
       "      <td>0</td>\n",
       "      <td>0</td>\n",
       "      <td>0</td>\n",
       "      <td>0</td>\n",
       "      <td>61.290323</td>\n",
       "    </tr>\n",
       "    <tr>\n",
       "      <th>272</th>\n",
       "      <td>23</td>\n",
       "      <td>NaN</td>\n",
       "      <td>17</td>\n",
       "      <td>NaN</td>\n",
       "      <td>0</td>\n",
       "      <td>0</td>\n",
       "      <td>0</td>\n",
       "      <td>NaN</td>\n",
       "      <td>NaN</td>\n",
       "      <td>NaN</td>\n",
       "      <td>...</td>\n",
       "      <td>NaN</td>\n",
       "      <td>NaN</td>\n",
       "      <td>NaN</td>\n",
       "      <td>0</td>\n",
       "      <td>0</td>\n",
       "      <td>0</td>\n",
       "      <td>0</td>\n",
       "      <td>0</td>\n",
       "      <td>0</td>\n",
       "      <td>64.516129</td>\n",
       "    </tr>\n",
       "    <tr>\n",
       "      <th>279</th>\n",
       "      <td>22</td>\n",
       "      <td>2</td>\n",
       "      <td>17</td>\n",
       "      <td>1</td>\n",
       "      <td>NaN</td>\n",
       "      <td>NaN</td>\n",
       "      <td>NaN</td>\n",
       "      <td>NaN</td>\n",
       "      <td>NaN</td>\n",
       "      <td>NaN</td>\n",
       "      <td>...</td>\n",
       "      <td>NaN</td>\n",
       "      <td>NaN</td>\n",
       "      <td>NaN</td>\n",
       "      <td>0</td>\n",
       "      <td>0</td>\n",
       "      <td>0</td>\n",
       "      <td>0</td>\n",
       "      <td>0</td>\n",
       "      <td>0</td>\n",
       "      <td>67.741935</td>\n",
       "    </tr>\n",
       "    <tr>\n",
       "      <th>304</th>\n",
       "      <td>23</td>\n",
       "      <td>NaN</td>\n",
       "      <td>19</td>\n",
       "      <td>2</td>\n",
       "      <td>0</td>\n",
       "      <td>0</td>\n",
       "      <td>0</td>\n",
       "      <td>NaN</td>\n",
       "      <td>NaN</td>\n",
       "      <td>NaN</td>\n",
       "      <td>...</td>\n",
       "      <td>NaN</td>\n",
       "      <td>NaN</td>\n",
       "      <td>NaN</td>\n",
       "      <td>0</td>\n",
       "      <td>0</td>\n",
       "      <td>0</td>\n",
       "      <td>0</td>\n",
       "      <td>0</td>\n",
       "      <td>0</td>\n",
       "      <td>61.290323</td>\n",
       "    </tr>\n",
       "    <tr>\n",
       "      <th>391</th>\n",
       "      <td>17</td>\n",
       "      <td>NaN</td>\n",
       "      <td>15</td>\n",
       "      <td>2</td>\n",
       "      <td>0</td>\n",
       "      <td>0</td>\n",
       "      <td>0</td>\n",
       "      <td>NaN</td>\n",
       "      <td>NaN</td>\n",
       "      <td>NaN</td>\n",
       "      <td>...</td>\n",
       "      <td>NaN</td>\n",
       "      <td>NaN</td>\n",
       "      <td>NaN</td>\n",
       "      <td>0</td>\n",
       "      <td>0</td>\n",
       "      <td>0</td>\n",
       "      <td>0</td>\n",
       "      <td>0</td>\n",
       "      <td>0</td>\n",
       "      <td>61.290323</td>\n",
       "    </tr>\n",
       "    <tr>\n",
       "      <th>398</th>\n",
       "      <td>18</td>\n",
       "      <td>NaN</td>\n",
       "      <td>16</td>\n",
       "      <td>2</td>\n",
       "      <td>0</td>\n",
       "      <td>0</td>\n",
       "      <td>0</td>\n",
       "      <td>NaN</td>\n",
       "      <td>NaN</td>\n",
       "      <td>NaN</td>\n",
       "      <td>...</td>\n",
       "      <td>NaN</td>\n",
       "      <td>NaN</td>\n",
       "      <td>NaN</td>\n",
       "      <td>0</td>\n",
       "      <td>0</td>\n",
       "      <td>0</td>\n",
       "      <td>0</td>\n",
       "      <td>0</td>\n",
       "      <td>0</td>\n",
       "      <td>61.290323</td>\n",
       "    </tr>\n",
       "    <tr>\n",
       "      <th>417</th>\n",
       "      <td>19</td>\n",
       "      <td>NaN</td>\n",
       "      <td>17</td>\n",
       "      <td>2</td>\n",
       "      <td>0</td>\n",
       "      <td>0</td>\n",
       "      <td>0</td>\n",
       "      <td>NaN</td>\n",
       "      <td>NaN</td>\n",
       "      <td>NaN</td>\n",
       "      <td>...</td>\n",
       "      <td>NaN</td>\n",
       "      <td>NaN</td>\n",
       "      <td>NaN</td>\n",
       "      <td>0</td>\n",
       "      <td>0</td>\n",
       "      <td>0</td>\n",
       "      <td>0</td>\n",
       "      <td>0</td>\n",
       "      <td>0</td>\n",
       "      <td>61.290323</td>\n",
       "    </tr>\n",
       "    <tr>\n",
       "      <th>460</th>\n",
       "      <td>14</td>\n",
       "      <td>NaN</td>\n",
       "      <td>14</td>\n",
       "      <td>1</td>\n",
       "      <td>0</td>\n",
       "      <td>0</td>\n",
       "      <td>0</td>\n",
       "      <td>NaN</td>\n",
       "      <td>NaN</td>\n",
       "      <td>NaN</td>\n",
       "      <td>...</td>\n",
       "      <td>NaN</td>\n",
       "      <td>NaN</td>\n",
       "      <td>NaN</td>\n",
       "      <td>0</td>\n",
       "      <td>0</td>\n",
       "      <td>0</td>\n",
       "      <td>0</td>\n",
       "      <td>0</td>\n",
       "      <td>0</td>\n",
       "      <td>61.290323</td>\n",
       "    </tr>\n",
       "    <tr>\n",
       "      <th>495</th>\n",
       "      <td>25</td>\n",
       "      <td>NaN</td>\n",
       "      <td>16</td>\n",
       "      <td>3</td>\n",
       "      <td>0</td>\n",
       "      <td>0</td>\n",
       "      <td>0</td>\n",
       "      <td>NaN</td>\n",
       "      <td>NaN</td>\n",
       "      <td>NaN</td>\n",
       "      <td>...</td>\n",
       "      <td>NaN</td>\n",
       "      <td>NaN</td>\n",
       "      <td>NaN</td>\n",
       "      <td>0</td>\n",
       "      <td>0</td>\n",
       "      <td>0</td>\n",
       "      <td>0</td>\n",
       "      <td>0</td>\n",
       "      <td>0</td>\n",
       "      <td>61.290323</td>\n",
       "    </tr>\n",
       "    <tr>\n",
       "      <th>544</th>\n",
       "      <td>17</td>\n",
       "      <td>2</td>\n",
       "      <td>12</td>\n",
       "      <td>NaN</td>\n",
       "      <td>0</td>\n",
       "      <td>0</td>\n",
       "      <td>0</td>\n",
       "      <td>NaN</td>\n",
       "      <td>NaN</td>\n",
       "      <td>NaN</td>\n",
       "      <td>...</td>\n",
       "      <td>NaN</td>\n",
       "      <td>NaN</td>\n",
       "      <td>NaN</td>\n",
       "      <td>0</td>\n",
       "      <td>0</td>\n",
       "      <td>0</td>\n",
       "      <td>0</td>\n",
       "      <td>0</td>\n",
       "      <td>0</td>\n",
       "      <td>61.290323</td>\n",
       "    </tr>\n",
       "    <tr>\n",
       "      <th>552</th>\n",
       "      <td>18</td>\n",
       "      <td>3</td>\n",
       "      <td>16</td>\n",
       "      <td>1</td>\n",
       "      <td>NaN</td>\n",
       "      <td>NaN</td>\n",
       "      <td>NaN</td>\n",
       "      <td>NaN</td>\n",
       "      <td>NaN</td>\n",
       "      <td>NaN</td>\n",
       "      <td>...</td>\n",
       "      <td>NaN</td>\n",
       "      <td>NaN</td>\n",
       "      <td>NaN</td>\n",
       "      <td>0</td>\n",
       "      <td>0</td>\n",
       "      <td>0</td>\n",
       "      <td>0</td>\n",
       "      <td>0</td>\n",
       "      <td>0</td>\n",
       "      <td>67.741935</td>\n",
       "    </tr>\n",
       "    <tr>\n",
       "      <th>696</th>\n",
       "      <td>19</td>\n",
       "      <td>2</td>\n",
       "      <td>16</td>\n",
       "      <td>NaN</td>\n",
       "      <td>1</td>\n",
       "      <td>1</td>\n",
       "      <td>0.04</td>\n",
       "      <td>NaN</td>\n",
       "      <td>NaN</td>\n",
       "      <td>NaN</td>\n",
       "      <td>...</td>\n",
       "      <td>NaN</td>\n",
       "      <td>NaN</td>\n",
       "      <td>NaN</td>\n",
       "      <td>0</td>\n",
       "      <td>0</td>\n",
       "      <td>0</td>\n",
       "      <td>0</td>\n",
       "      <td>0</td>\n",
       "      <td>0</td>\n",
       "      <td>61.290323</td>\n",
       "    </tr>\n",
       "    <tr>\n",
       "      <th>700</th>\n",
       "      <td>28</td>\n",
       "      <td>1</td>\n",
       "      <td>17</td>\n",
       "      <td>NaN</td>\n",
       "      <td>0</td>\n",
       "      <td>0</td>\n",
       "      <td>0</td>\n",
       "      <td>NaN</td>\n",
       "      <td>NaN</td>\n",
       "      <td>NaN</td>\n",
       "      <td>...</td>\n",
       "      <td>NaN</td>\n",
       "      <td>NaN</td>\n",
       "      <td>NaN</td>\n",
       "      <td>0</td>\n",
       "      <td>0</td>\n",
       "      <td>0</td>\n",
       "      <td>0</td>\n",
       "      <td>0</td>\n",
       "      <td>0</td>\n",
       "      <td>61.290323</td>\n",
       "    </tr>\n",
       "    <tr>\n",
       "      <th>701</th>\n",
       "      <td>29</td>\n",
       "      <td>2</td>\n",
       "      <td>17</td>\n",
       "      <td>NaN</td>\n",
       "      <td>0</td>\n",
       "      <td>0</td>\n",
       "      <td>0</td>\n",
       "      <td>NaN</td>\n",
       "      <td>NaN</td>\n",
       "      <td>NaN</td>\n",
       "      <td>...</td>\n",
       "      <td>NaN</td>\n",
       "      <td>NaN</td>\n",
       "      <td>NaN</td>\n",
       "      <td>0</td>\n",
       "      <td>0</td>\n",
       "      <td>0</td>\n",
       "      <td>0</td>\n",
       "      <td>0</td>\n",
       "      <td>0</td>\n",
       "      <td>61.290323</td>\n",
       "    </tr>\n",
       "    <tr>\n",
       "      <th>705</th>\n",
       "      <td>44</td>\n",
       "      <td>3</td>\n",
       "      <td>23</td>\n",
       "      <td>NaN</td>\n",
       "      <td>0</td>\n",
       "      <td>0</td>\n",
       "      <td>0</td>\n",
       "      <td>NaN</td>\n",
       "      <td>NaN</td>\n",
       "      <td>NaN</td>\n",
       "      <td>...</td>\n",
       "      <td>NaN</td>\n",
       "      <td>NaN</td>\n",
       "      <td>NaN</td>\n",
       "      <td>0</td>\n",
       "      <td>0</td>\n",
       "      <td>0</td>\n",
       "      <td>0</td>\n",
       "      <td>0</td>\n",
       "      <td>0</td>\n",
       "      <td>61.290323</td>\n",
       "    </tr>\n",
       "    <tr>\n",
       "      <th>761</th>\n",
       "      <td>31</td>\n",
       "      <td>NaN</td>\n",
       "      <td>17</td>\n",
       "      <td>5</td>\n",
       "      <td>1</td>\n",
       "      <td>1.266972909</td>\n",
       "      <td>0.513202128</td>\n",
       "      <td>NaN</td>\n",
       "      <td>NaN</td>\n",
       "      <td>NaN</td>\n",
       "      <td>...</td>\n",
       "      <td>NaN</td>\n",
       "      <td>NaN</td>\n",
       "      <td>NaN</td>\n",
       "      <td>0</td>\n",
       "      <td>0</td>\n",
       "      <td>0</td>\n",
       "      <td>0</td>\n",
       "      <td>0</td>\n",
       "      <td>0</td>\n",
       "      <td>61.290323</td>\n",
       "    </tr>\n",
       "  </tbody>\n",
       "</table>\n",
       "<p>20 rows × 32 columns</p>\n",
       "</div>"
      ],
      "text/plain": [
       "     Age Number of sexual partners First sexual intercourse  \\\n",
       "71    34                       NaN                      NaN   \n",
       "117   30                         3                       16   \n",
       "164   29                       NaN                       19   \n",
       "220   25                       NaN                       18   \n",
       "234   25                       NaN                       18   \n",
       "272   23                       NaN                       17   \n",
       "279   22                         2                       17   \n",
       "304   23                       NaN                       19   \n",
       "391   17                       NaN                       15   \n",
       "398   18                       NaN                       16   \n",
       "417   19                       NaN                       17   \n",
       "460   14                       NaN                       14   \n",
       "495   25                       NaN                       16   \n",
       "544   17                         2                       12   \n",
       "552   18                         3                       16   \n",
       "696   19                         2                       16   \n",
       "700   28                         1                       17   \n",
       "701   29                         2                       17   \n",
       "705   44                         3                       23   \n",
       "761   31                       NaN                       17   \n",
       "\n",
       "    Num of pregnancies Smokes Smokes (years) Smokes (packs/year)  \\\n",
       "71                   3      0              0                   0   \n",
       "117                  3    NaN            NaN                 NaN   \n",
       "164                  2      0              0                   0   \n",
       "220                  2      0              0                   0   \n",
       "234                  2      0              0                   0   \n",
       "272                NaN      0              0                   0   \n",
       "279                  1    NaN            NaN                 NaN   \n",
       "304                  2      0              0                   0   \n",
       "391                  2      0              0                   0   \n",
       "398                  2      0              0                   0   \n",
       "417                  2      0              0                   0   \n",
       "460                  1      0              0                   0   \n",
       "495                  3      0              0                   0   \n",
       "544                NaN      0              0                   0   \n",
       "552                  1    NaN            NaN                 NaN   \n",
       "696                NaN      1              1                0.04   \n",
       "700                NaN      0              0                   0   \n",
       "701                NaN      0              0                   0   \n",
       "705                NaN      0              0                   0   \n",
       "761                  5      1    1.266972909         0.513202128   \n",
       "\n",
       "    Hormonal Contraceptives Hormonal Contraceptives (years)  IUD  \\\n",
       "71                      NaN                             NaN  NaN   \n",
       "117                     NaN                             NaN  NaN   \n",
       "164                     NaN                             NaN  NaN   \n",
       "220                     NaN                             NaN  NaN   \n",
       "234                     NaN                             NaN  NaN   \n",
       "272                     NaN                             NaN  NaN   \n",
       "279                     NaN                             NaN  NaN   \n",
       "304                     NaN                             NaN  NaN   \n",
       "391                     NaN                             NaN  NaN   \n",
       "398                     NaN                             NaN  NaN   \n",
       "417                     NaN                             NaN  NaN   \n",
       "460                     NaN                             NaN  NaN   \n",
       "495                     NaN                             NaN  NaN   \n",
       "544                     NaN                             NaN  NaN   \n",
       "552                     NaN                             NaN  NaN   \n",
       "696                     NaN                             NaN  NaN   \n",
       "700                     NaN                             NaN  NaN   \n",
       "701                     NaN                             NaN  NaN   \n",
       "705                     NaN                             NaN  NaN   \n",
       "761                     NaN                             NaN  NaN   \n",
       "\n",
       "         ...      STDs:HIV STDs:Hepatitis B STDs:HPV  \\\n",
       "71       ...           NaN              NaN      NaN   \n",
       "117      ...           NaN              NaN      NaN   \n",
       "164      ...           NaN              NaN      NaN   \n",
       "220      ...           NaN              NaN      NaN   \n",
       "234      ...           NaN              NaN      NaN   \n",
       "272      ...           NaN              NaN      NaN   \n",
       "279      ...           NaN              NaN      NaN   \n",
       "304      ...           NaN              NaN      NaN   \n",
       "391      ...           NaN              NaN      NaN   \n",
       "398      ...           NaN              NaN      NaN   \n",
       "417      ...           NaN              NaN      NaN   \n",
       "460      ...           NaN              NaN      NaN   \n",
       "495      ...           NaN              NaN      NaN   \n",
       "544      ...           NaN              NaN      NaN   \n",
       "552      ...           NaN              NaN      NaN   \n",
       "696      ...           NaN              NaN      NaN   \n",
       "700      ...           NaN              NaN      NaN   \n",
       "701      ...           NaN              NaN      NaN   \n",
       "705      ...           NaN              NaN      NaN   \n",
       "761      ...           NaN              NaN      NaN   \n",
       "\n",
       "    STDs: Number of diagnosis Dx:Cancer Dx:CIN Dx:HPV Dx Biopsy row_wise_null  \n",
       "71                          0         0      0      0  0      0     64.516129  \n",
       "117                         0         0      0      0  0      0     67.741935  \n",
       "164                         0         0      0      0  0      0     61.290323  \n",
       "220                         0         0      0      0  0      0     61.290323  \n",
       "234                         0         0      0      0  0      0     61.290323  \n",
       "272                         0         0      0      0  0      0     64.516129  \n",
       "279                         0         0      0      0  0      0     67.741935  \n",
       "304                         0         0      0      0  0      0     61.290323  \n",
       "391                         0         0      0      0  0      0     61.290323  \n",
       "398                         0         0      0      0  0      0     61.290323  \n",
       "417                         0         0      0      0  0      0     61.290323  \n",
       "460                         0         0      0      0  0      0     61.290323  \n",
       "495                         0         0      0      0  0      0     61.290323  \n",
       "544                         0         0      0      0  0      0     61.290323  \n",
       "552                         0         0      0      0  0      0     67.741935  \n",
       "696                         0         0      0      0  0      0     61.290323  \n",
       "700                         0         0      0      0  0      0     61.290323  \n",
       "701                         0         0      0      0  0      0     61.290323  \n",
       "705                         0         0      0      0  0      0     61.290323  \n",
       "761                         0         0      0      0  0      0     61.290323  \n",
       "\n",
       "[20 rows x 32 columns]"
      ]
     },
     "execution_count": 34,
     "metadata": {},
     "output_type": "execute_result"
    }
   ],
   "source": [
    "data[data['row_wise_null'] > 60]"
   ]
  },
  {
   "cell_type": "code",
   "execution_count": 35,
   "metadata": {},
   "outputs": [],
   "source": [
    "##So there are 20 rows which has more than 60% data missing."
   ]
  },
  {
   "cell_type": "code",
   "execution_count": 36,
   "metadata": {},
   "outputs": [
    {
     "data": {
      "text/plain": [
       "71     0\n",
       "117    0\n",
       "164    0\n",
       "220    0\n",
       "234    0\n",
       "272    0\n",
       "279    0\n",
       "304    0\n",
       "391    0\n",
       "398    0\n",
       "417    0\n",
       "460    0\n",
       "495    0\n",
       "544    0\n",
       "552    0\n",
       "696    0\n",
       "700    0\n",
       "701    0\n",
       "705    0\n",
       "761    0\n",
       "Name: Biopsy, dtype: int64"
      ]
     },
     "execution_count": 36,
     "metadata": {},
     "output_type": "execute_result"
    }
   ],
   "source": [
    "data[data['row_wise_null'] > 60]['Biopsy']"
   ]
  },
  {
   "cell_type": "markdown",
   "metadata": {},
   "source": [
    "##Also those 20 rows has target value zero's. Hence dropping those 20 rows would be better because we also facing class imbalance issue."
   ]
  },
  {
   "cell_type": "code",
   "execution_count": 37,
   "metadata": {},
   "outputs": [],
   "source": [
    "i = data[data['row_wise_null'] > 60].index "
   ]
  },
  {
   "cell_type": "code",
   "execution_count": 38,
   "metadata": {},
   "outputs": [],
   "source": [
    "data = data.drop(i)"
   ]
  },
  {
   "cell_type": "code",
   "execution_count": 39,
   "metadata": {},
   "outputs": [
    {
     "data": {
      "text/plain": [
       "(838, 32)"
      ]
     },
     "execution_count": 39,
     "metadata": {},
     "output_type": "execute_result"
    }
   ],
   "source": [
    "data.shape"
   ]
  },
  {
   "cell_type": "markdown",
   "metadata": {},
   "source": [
    "##So we dropped column which has more than 90% missing value and row which has more than 60% missing value."
   ]
  },
  {
   "cell_type": "code",
   "execution_count": 40,
   "metadata": {},
   "outputs": [],
   "source": [
    "data = data.drop('row_wise_null' , axis = 1)"
   ]
  },
  {
   "cell_type": "code",
   "execution_count": 41,
   "metadata": {},
   "outputs": [
    {
     "name": "stdout",
     "output_type": "stream",
     "text": [
      "<class 'pandas.core.frame.DataFrame'>\n",
      "Int64Index: 838 entries, 0 to 857\n",
      "Data columns (total 31 columns):\n",
      "Age                                   838 non-null int64\n",
      "Number of sexual partners             824 non-null object\n",
      "First sexual intercourse              832 non-null object\n",
      "Num of pregnancies                    788 non-null object\n",
      "Smokes                                828 non-null object\n",
      "Smokes (years)                        828 non-null object\n",
      "Smokes (packs/year)                   828 non-null object\n",
      "Hormonal Contraceptives               750 non-null object\n",
      "Hormonal Contraceptives (years)       750 non-null object\n",
      "IUD                                   741 non-null object\n",
      "IUD (years)                           741 non-null object\n",
      "STDs                                  753 non-null object\n",
      "STDs (number)                         753 non-null object\n",
      "STDs:condylomatosis                   753 non-null object\n",
      "STDs:cervical condylomatosis          753 non-null object\n",
      "STDs:vaginal condylomatosis           753 non-null object\n",
      "STDs:vulvo-perineal condylomatosis    753 non-null object\n",
      "STDs:syphilis                         753 non-null object\n",
      "STDs:pelvic inflammatory disease      753 non-null object\n",
      "STDs:genital herpes                   753 non-null object\n",
      "STDs:molluscum contagiosum            753 non-null object\n",
      "STDs:AIDS                             753 non-null object\n",
      "STDs:HIV                              753 non-null object\n",
      "STDs:Hepatitis B                      753 non-null object\n",
      "STDs:HPV                              753 non-null object\n",
      "STDs: Number of diagnosis             838 non-null int64\n",
      "Dx:Cancer                             838 non-null int64\n",
      "Dx:CIN                                838 non-null int64\n",
      "Dx:HPV                                838 non-null int64\n",
      "Dx                                    838 non-null int64\n",
      "Biopsy                                838 non-null int64\n",
      "dtypes: int64(7), object(24)\n",
      "memory usage: 209.5+ KB\n"
     ]
    }
   ],
   "source": [
    "data.info()"
   ]
  },
  {
   "cell_type": "code",
   "execution_count": 42,
   "metadata": {},
   "outputs": [],
   "source": [
    "new_index = np.arange(0,838)"
   ]
  },
  {
   "cell_type": "code",
   "execution_count": 43,
   "metadata": {},
   "outputs": [],
   "source": [
    "data.set_index(new_index , inplace=True)"
   ]
  },
  {
   "cell_type": "markdown",
   "metadata": {},
   "source": [
    "## Lets change the columns to respective type"
   ]
  },
  {
   "cell_type": "code",
   "execution_count": 44,
   "metadata": {},
   "outputs": [],
   "source": [
    "col = data[['Number of sexual partners', 'First sexual intercourse',\n",
    "       'Num of pregnancies','Hormonal Contraceptives (years)','IUD (years)','STDs (number)','STDs: Number of diagnosis',\n",
    "            'Smokes (years)', 'Smokes (packs/year)']]\n",
    "\n",
    "for i in col:\n",
    "    data[i] = data[i].astype('float')"
   ]
  },
  {
   "cell_type": "code",
   "execution_count": 45,
   "metadata": {},
   "outputs": [],
   "source": [
    "col = data[['Dx:Cancer', 'Dx:CIN', 'Dx:HPV', 'Dx' , 'Biopsy']]\n",
    "\n",
    "for i in col:\n",
    "    data[i] = data[i].astype('bool')"
   ]
  },
  {
   "cell_type": "code",
   "execution_count": 46,
   "metadata": {},
   "outputs": [
    {
     "name": "stdout",
     "output_type": "stream",
     "text": [
      "<class 'pandas.core.frame.DataFrame'>\n",
      "Int64Index: 838 entries, 0 to 837\n",
      "Data columns (total 31 columns):\n",
      "Age                                   838 non-null int64\n",
      "Number of sexual partners             824 non-null float64\n",
      "First sexual intercourse              832 non-null float64\n",
      "Num of pregnancies                    788 non-null float64\n",
      "Smokes                                828 non-null object\n",
      "Smokes (years)                        828 non-null float64\n",
      "Smokes (packs/year)                   828 non-null float64\n",
      "Hormonal Contraceptives               750 non-null object\n",
      "Hormonal Contraceptives (years)       750 non-null float64\n",
      "IUD                                   741 non-null object\n",
      "IUD (years)                           741 non-null float64\n",
      "STDs                                  753 non-null object\n",
      "STDs (number)                         753 non-null float64\n",
      "STDs:condylomatosis                   753 non-null object\n",
      "STDs:cervical condylomatosis          753 non-null object\n",
      "STDs:vaginal condylomatosis           753 non-null object\n",
      "STDs:vulvo-perineal condylomatosis    753 non-null object\n",
      "STDs:syphilis                         753 non-null object\n",
      "STDs:pelvic inflammatory disease      753 non-null object\n",
      "STDs:genital herpes                   753 non-null object\n",
      "STDs:molluscum contagiosum            753 non-null object\n",
      "STDs:AIDS                             753 non-null object\n",
      "STDs:HIV                              753 non-null object\n",
      "STDs:Hepatitis B                      753 non-null object\n",
      "STDs:HPV                              753 non-null object\n",
      "STDs: Number of diagnosis             838 non-null float64\n",
      "Dx:Cancer                             838 non-null bool\n",
      "Dx:CIN                                838 non-null bool\n",
      "Dx:HPV                                838 non-null bool\n",
      "Dx                                    838 non-null bool\n",
      "Biopsy                                838 non-null bool\n",
      "dtypes: bool(5), float64(9), int64(1), object(16)\n",
      "memory usage: 180.9+ KB\n"
     ]
    }
   ],
   "source": [
    "data.info()"
   ]
  },
  {
   "cell_type": "markdown",
   "metadata": {},
   "source": [
    "## Lets Start Imputing each column with Algorithm\n",
    "* Imputing 8 columns given to me"
   ]
  },
  {
   "cell_type": "code",
   "execution_count": 47,
   "metadata": {},
   "outputs": [
    {
     "name": "stdout",
     "output_type": "stream",
     "text": [
      "\n",
      "\n",
      "----::---- STDS:VULVO-PERINEAL CONDYLOMATOSIS ----::----\n",
      "\n",
      "\n",
      " STDs:vulvo-perineal condylomatosis Original Count ::\n",
      " 0    694\n",
      "1     40\n",
      "Name: STDs:vulvo-perineal condylomatosis, dtype: int64\n",
      "\n",
      "\n",
      " DecisionTreeScore : 0.9754768392370572\n",
      "\n",
      "\n",
      " LogisticRegressionScore : 0.9618528610354223\n",
      "\n",
      "\n",
      " ==> Decision tree performs better. So we will go with this. <==\n",
      "\n",
      "\n",
      " Predicted count of  STDs:vulvo-perineal condylomatosis   : 0    85\n",
      "Name: 0, dtype: int64\n",
      "\n",
      "\n",
      "----::---- STDS:SYPHILIS ----::----\n",
      "\n",
      "\n",
      " STDs:syphilis Original Count ::\n",
      " 0    718\n",
      "1     16\n",
      "Name: STDs:syphilis, dtype: int64\n",
      "\n",
      "\n",
      " DecisionTreeScore : 0.9863760217983651\n",
      "\n",
      "\n",
      " LogisticRegressionScore : 0.9822888283378747\n",
      "\n",
      "\n",
      " ==> Decision tree performs better. So we will go with this. <==\n",
      "\n",
      "\n",
      " Predicted count of  STDs:syphilis   : 0    84\n",
      "1     1\n",
      "Name: 0, dtype: int64\n",
      "\n",
      "\n",
      "----::---- STDS:PELVIC INFLAMMATORY DISEASE ----::----\n",
      "\n",
      "\n",
      " STDs:pelvic inflammatory disease Original Count ::\n",
      " 0    733\n",
      "1      1\n",
      "Name: STDs:pelvic inflammatory disease, dtype: int64\n",
      "\n",
      "\n",
      " DecisionTreeScore : 1.0\n",
      "\n",
      "\n",
      " LogisticRegressionScore : 0.9986376021798365\n",
      "\n",
      "\n",
      " ==> Decision tree performs better. So we will go with this. <==\n",
      "\n",
      "\n",
      " Predicted count of  STDs:pelvic inflammatory disease   : 0    85\n",
      "Name: 0, dtype: int64\n",
      "\n",
      "\n",
      "----::---- STDS:GENITAL HERPES ----::----\n",
      "\n",
      "\n",
      " STDs:genital herpes Original Count ::\n",
      " 0    733\n",
      "1      1\n",
      "Name: STDs:genital herpes, dtype: int64\n",
      "\n",
      "\n",
      " DecisionTreeScore : 1.0\n",
      "\n",
      "\n",
      " LogisticRegressionScore : 0.9986376021798365\n",
      "\n",
      "\n",
      " ==> Decision tree performs better. So we will go with this. <==\n",
      "\n",
      "\n",
      " Predicted count of  STDs:genital herpes   : 0    85\n",
      "Name: 0, dtype: int64\n",
      "\n",
      "\n",
      "----::---- STDS:MOLLUSCUM CONTAGIOSUM ----::----\n",
      "\n",
      "\n",
      " STDs:molluscum contagiosum Original Count ::\n",
      " 0    733\n",
      "1      1\n",
      "Name: STDs:molluscum contagiosum, dtype: int64\n",
      "\n",
      "\n",
      " DecisionTreeScore : 0.9986376021798365\n",
      "\n",
      "\n",
      " LogisticRegressionScore : 0.9986376021798365\n",
      "\n",
      "\n",
      " ==> Logistic Regression performs better. So we will go with this. <==\n",
      "\n",
      "\n",
      " Predicted count of  STDs:molluscum contagiosum   : 0    85\n",
      "Name: 0, dtype: int64\n",
      "\n",
      "\n",
      "----::---- STDS:HIV ----::----\n",
      "\n",
      "\n",
      " STDs:HIV Original Count ::\n",
      " 0    719\n",
      "1     15\n",
      "Name: STDs:HIV, dtype: int64\n",
      "\n",
      "\n",
      " DecisionTreeScore : 0.9863760217983651\n",
      "\n",
      "\n",
      " LogisticRegressionScore : 0.9850136239782016\n",
      "\n",
      "\n",
      " ==> Decision tree performs better. So we will go with this. <==\n",
      "\n",
      "\n",
      " Predicted count of  STDs:HIV   : 0    85\n",
      "Name: 0, dtype: int64\n",
      "\n",
      "\n",
      "----::---- STDS:HEPATITIS B ----::----\n",
      "\n",
      "\n",
      " STDs:Hepatitis B Original Count ::\n",
      " 0    733\n",
      "1      1\n",
      "Name: STDs:Hepatitis B, dtype: int64\n",
      "\n",
      "\n",
      " DecisionTreeScore : 1.0\n",
      "\n",
      "\n",
      " LogisticRegressionScore : 1.0\n",
      "\n",
      "\n",
      " ==> Logistic Regression performs better. So we will go with this. <==\n",
      "\n",
      "\n",
      " Predicted count of  STDs:Hepatitis B   : 0    85\n",
      "Name: 0, dtype: int64\n",
      "<class 'pandas.core.frame.DataFrame'>\n",
      "Int64Index: 838 entries, 0 to 837\n",
      "Data columns (total 31 columns):\n",
      "Age                                   838 non-null int64\n",
      "Number of sexual partners             824 non-null float64\n",
      "First sexual intercourse              832 non-null float64\n",
      "Num of pregnancies                    788 non-null float64\n",
      "Smokes                                828 non-null object\n",
      "Smokes (years)                        828 non-null float64\n",
      "Smokes (packs/year)                   828 non-null float64\n",
      "Hormonal Contraceptives               750 non-null object\n",
      "Hormonal Contraceptives (years)       750 non-null float64\n",
      "IUD                                   741 non-null object\n",
      "IUD (years)                           741 non-null float64\n",
      "STDs                                  753 non-null object\n",
      "STDs (number)                         753 non-null float64\n",
      "STDs:condylomatosis                   753 non-null object\n",
      "STDs:cervical condylomatosis          753 non-null object\n",
      "STDs:vaginal condylomatosis           753 non-null object\n",
      "STDs:AIDS                             753 non-null object\n",
      "STDs:HPV                              753 non-null object\n",
      "STDs: Number of diagnosis             838 non-null float64\n",
      "Dx:Cancer                             838 non-null bool\n",
      "Dx:CIN                                838 non-null bool\n",
      "Dx:HPV                                838 non-null bool\n",
      "Dx                                    838 non-null bool\n",
      "Biopsy                                838 non-null bool\n",
      "STDs:vulvo-perineal condylomatosis    838 non-null object\n",
      "STDs:syphilis                         838 non-null object\n",
      "STDs:pelvic inflammatory disease      838 non-null object\n",
      "STDs:genital herpes                   838 non-null object\n",
      "STDs:molluscum contagiosum            838 non-null object\n",
      "STDs:HIV                              838 non-null object\n",
      "STDs:Hepatitis B                      838 non-null object\n",
      "dtypes: bool(5), float64(9), int64(1), object(16)\n",
      "memory usage: 180.9+ KB\n"
     ]
    }
   ],
   "source": [
    "col = data[['STDs:vulvo-perineal condylomatosis','STDs:syphilis','STDs:pelvic inflammatory disease', 'STDs:genital herpes',\n",
    "            'STDs:molluscum contagiosum', 'STDs:HIV',\n",
    "            'STDs:Hepatitis B']]\n",
    "\n",
    "for i in col:\n",
    "    print('\\n\\n----::----' , i.upper() , '----::----')\n",
    "    data1 = data.copy()\n",
    "    \n",
    "    vulvo_perenial = data1[[i]]\n",
    "    \n",
    "    ##Replacing with median for columns having less than 5% - 6% null values\n",
    "    below_5 = data1[['Number of sexual partners', 'First sexual intercourse',\n",
    "       'Num of pregnancies', 'Smokes', 'Smokes (years)', 'Smokes (packs/year)']].apply(lambda x:x.fillna(x.median()), axis = 0)\n",
    "    \n",
    "    data1['no of partners'] = below_5[['Number of sexual partners']]\n",
    "    data1['first sex inetercourse'] = below_5[['First sexual intercourse']]\n",
    "    data1['no of pregnancies'] = below_5[['Num of pregnancies']]\n",
    "    data1['smokes'] = below_5[['Smokes']]\n",
    "    data1['smokes(years)'] = below_5[['Smokes (years)']]\n",
    "    data1['smokes per/yr'] = below_5[['Smokes (packs/year)']]\n",
    "\n",
    "    below_5 = data1[['Number of sexual partners', 'First sexual intercourse',\n",
    "                    'Num of pregnancies', 'Smokes', 'Smokes (years)', 'Smokes (packs/year)']]\n",
    "\n",
    "    data1 = data1.drop(below_5 , axis=1)\n",
    "\n",
    "    data1.rename(columns={'no of partners':'Number of sexual partners' , 'first sex inetercourse':'First sexual intercourse' ,\n",
    "                          'no of pregnancies':'Num of pregnancies' , 'smokes':'Smokes' , 'smokes(years)':'Smokes (years)' ,\n",
    "                          'smokes per/yr':'Smokes (packs/year)'} , inplace = True)\n",
    "    \n",
    "    ##Seperating rows without null for train \n",
    "    data1_train = data1[data1[i].isna()==False]\n",
    "    \n",
    "    data1_train_copy = data1_train.copy()\n",
    "    \n",
    "    ##Dropping null values in other columns\n",
    "    data1_train = data1_train.dropna() \n",
    "    \n",
    "    print( '\\n\\n' , i , 'Original Count ::\\n' , data1_train[i].value_counts())\n",
    "\n",
    "    ##Seperating rows with null for test\n",
    "    data1_test = data1[data1[i].isna()]\n",
    "    \n",
    "    ##Since these columns have almost full null values we will drop them during imputation by prediction\n",
    "    drop = data1_test[data1_test.columns.difference([i ,'Age','STDs: Number of diagnosis', 'Dx:Cancer', 'Dx:CIN', 'Dx:HPV', 'Dx',\n",
    "       'Biopsy', 'Number of sexual partners', 'First sexual intercourse',\n",
    "       'Num of pregnancies', 'Smokes', 'Smokes (years)',\n",
    "       'Smokes (packs/year)' ])]\n",
    "    \n",
    "    \n",
    "    \n",
    "    data1_train = data1_train.drop(drop , axis = 1)\n",
    "    data1_test  = data1_test.drop(drop , axis = 1)\n",
    "    \n",
    "    ##Splitting as per norm\n",
    "    x_train = data1_train[['Age', 'STDs: Number of diagnosis', 'Dx:Cancer', 'Dx:CIN', 'Dx:HPV', 'Dx',\n",
    "                           'Biopsy', 'Number of sexual partners', 'First sexual intercourse',\n",
    "                           'Num of pregnancies', 'Smokes', 'Smokes (years)',\n",
    "                           'Smokes (packs/year)']]\n",
    "\n",
    "    y_train = data1_train[[i]]\n",
    "\n",
    "    x_test = data1_test[['Age', 'STDs: Number of diagnosis', 'Dx:Cancer', 'Dx:CIN', 'Dx:HPV', 'Dx',\n",
    "                         'Biopsy', 'Number of sexual partners', 'First sexual intercourse',\n",
    "                         'Num of pregnancies', 'Smokes', 'Smokes (years)',\n",
    "                         'Smokes (packs/year)']]\n",
    "    \n",
    "    ##Building model\n",
    "    model_dt = DecisionTreeClassifier(max_depth=4)\n",
    "\n",
    "    model_dt.fit(x_train , y_train)\n",
    "    dt_score = model_dt.score(x_train , y_train)\n",
    "    print('\\n\\n DecisionTreeScore :' , dt_score)\n",
    "\n",
    "    model_lr = LogisticRegression()\n",
    "\n",
    "    model_lr.fit(x_train , y_train)\n",
    "    lr_score = model_lr.score(x_train , y_train)\n",
    "    print('\\n\\n LogisticRegressionScore :' , lr_score)\n",
    "    \n",
    "    ##Checking which model is better\n",
    "    if dt_score > lr_score:\n",
    "        print('\\n\\n ==> Decision tree performs better. So we will go with this. <==')\n",
    "        model = model_dt\n",
    "    else:\n",
    "        print('\\n\\n ==> Logistic Regression performs better. So we will go with this. <==')\n",
    "        model = model_lr\n",
    "        \n",
    "    prediction = model.predict(x_test)  \n",
    "    \n",
    "    prediction_df = pd.DataFrame(data=prediction)\n",
    "    print('\\n\\n Predicted count of ', i , '  :' , prediction_df[0].value_counts())\n",
    "    \n",
    "    data1_test = data1_test.drop(i , axis = 1)\n",
    "\n",
    "    data1_test[i] = prediction\n",
    "\n",
    "    data1_complete = pd.concat([data1_train_copy , data1_test])\n",
    "    \n",
    "    data1_complete = data1_complete.sort_index()\n",
    "\n",
    "    predicted = data1_complete[[i]]\n",
    "    \n",
    "    data = data.drop(i , axis = 1)\n",
    "\n",
    "    data[i] = predicted\n",
    "\n",
    "data.info()"
   ]
  },
  {
   "cell_type": "markdown",
   "metadata": {},
   "source": [
    "## Feature droppping method"
   ]
  },
  {
   "cell_type": "code",
   "execution_count": 48,
   "metadata": {},
   "outputs": [
    {
     "data": {
      "text/plain": [
       "Index(['Age', 'Number of sexual partners', 'First sexual intercourse',\n",
       "       'Num of pregnancies', 'Smokes', 'Smokes (years)', 'Smokes (packs/year)',\n",
       "       'Hormonal Contraceptives', 'Hormonal Contraceptives (years)', 'IUD',\n",
       "       'IUD (years)', 'STDs', 'STDs (number)', 'STDs:condylomatosis',\n",
       "       'STDs:cervical condylomatosis', 'STDs:vaginal condylomatosis',\n",
       "       'STDs:AIDS', 'STDs:HPV', 'STDs: Number of diagnosis', 'Dx:Cancer',\n",
       "       'Dx:CIN', 'Dx:HPV', 'Dx', 'Biopsy',\n",
       "       'STDs:vulvo-perineal condylomatosis', 'STDs:syphilis',\n",
       "       'STDs:pelvic inflammatory disease', 'STDs:genital herpes',\n",
       "       'STDs:molluscum contagiosum', 'STDs:HIV', 'STDs:Hepatitis B'],\n",
       "      dtype='object')"
      ]
     },
     "execution_count": 48,
     "metadata": {},
     "output_type": "execute_result"
    }
   ],
   "source": [
    "data.columns"
   ]
  },
  {
   "cell_type": "code",
   "execution_count": 49,
   "metadata": {},
   "outputs": [],
   "source": [
    "data[['Age', 'Number of sexual partners', 'First sexual intercourse',\n",
    "       'Num of pregnancies']] = data[['Age', 'Number of sexual partners', 'First sexual intercourse',\n",
    "       'Num of pregnancies']].apply(lambda x: x.fillna(x.median()) , axis = 0)"
   ]
  },
  {
   "cell_type": "code",
   "execution_count": 50,
   "metadata": {},
   "outputs": [],
   "source": [
    "data[['Hormonal Contraceptives (years)','IUD (years)',\n",
    "     'Smokes (years)', 'Smokes (packs/year)']] = data[['Hormonal Contraceptives (years)','IUD (years)',\n",
    "                                         'Smokes (years)', 'Smokes (packs/year)']].apply(lambda x:x.fillna(x.mean()) , axis = 0)"
   ]
  },
  {
   "cell_type": "code",
   "execution_count": 51,
   "metadata": {},
   "outputs": [],
   "source": [
    "data[['Smokes','Hormonal Contraceptives','IUD','STDs', 'STDs (number)', 'STDs:condylomatosis',\n",
    "       'STDs:cervical condylomatosis', 'STDs:vaginal condylomatosis',\n",
    "       'STDs:AIDS', 'STDs:HPV']] = data[['Smokes','Hormonal Contraceptives','IUD','STDs', 'STDs (number)', 'STDs:condylomatosis',\n",
    "       'STDs:cervical condylomatosis', 'STDs:vaginal condylomatosis',\n",
    "       'STDs:AIDS', 'STDs:HPV']].apply(lambda x:x.fillna(x.mode()[0]) , axis = 0)"
   ]
  },
  {
   "cell_type": "code",
   "execution_count": 52,
   "metadata": {},
   "outputs": [
    {
     "name": "stdout",
     "output_type": "stream",
     "text": [
      "<class 'pandas.core.frame.DataFrame'>\n",
      "Int64Index: 838 entries, 0 to 837\n",
      "Data columns (total 31 columns):\n",
      "Age                                   838 non-null int64\n",
      "Number of sexual partners             838 non-null float64\n",
      "First sexual intercourse              838 non-null float64\n",
      "Num of pregnancies                    838 non-null float64\n",
      "Smokes                                838 non-null object\n",
      "Smokes (years)                        838 non-null float64\n",
      "Smokes (packs/year)                   838 non-null float64\n",
      "Hormonal Contraceptives               838 non-null object\n",
      "Hormonal Contraceptives (years)       838 non-null float64\n",
      "IUD                                   838 non-null object\n",
      "IUD (years)                           838 non-null float64\n",
      "STDs                                  838 non-null object\n",
      "STDs (number)                         838 non-null float64\n",
      "STDs:condylomatosis                   838 non-null object\n",
      "STDs:cervical condylomatosis          838 non-null object\n",
      "STDs:vaginal condylomatosis           838 non-null object\n",
      "STDs:AIDS                             838 non-null object\n",
      "STDs:HPV                              838 non-null object\n",
      "STDs: Number of diagnosis             838 non-null float64\n",
      "Dx:Cancer                             838 non-null bool\n",
      "Dx:CIN                                838 non-null bool\n",
      "Dx:HPV                                838 non-null bool\n",
      "Dx                                    838 non-null bool\n",
      "Biopsy                                838 non-null bool\n",
      "STDs:vulvo-perineal condylomatosis    838 non-null object\n",
      "STDs:syphilis                         838 non-null object\n",
      "STDs:pelvic inflammatory disease      838 non-null object\n",
      "STDs:genital herpes                   838 non-null object\n",
      "STDs:molluscum contagiosum            838 non-null object\n",
      "STDs:HIV                              838 non-null object\n",
      "STDs:Hepatitis B                      838 non-null object\n",
      "dtypes: bool(5), float64(9), int64(1), object(16)\n",
      "memory usage: 180.9+ KB\n"
     ]
    }
   ],
   "source": [
    "data.info()"
   ]
  },
  {
   "cell_type": "code",
   "execution_count": 53,
   "metadata": {},
   "outputs": [
    {
     "data": {
      "text/plain": [
       "Index(['Smokes', 'Hormonal Contraceptives', 'IUD', 'STDs',\n",
       "       'STDs:condylomatosis', 'STDs:cervical condylomatosis',\n",
       "       'STDs:vaginal condylomatosis', 'STDs:AIDS', 'STDs:HPV', 'Dx:Cancer',\n",
       "       'Dx:CIN', 'Dx:HPV', 'Dx', 'Biopsy',\n",
       "       'STDs:vulvo-perineal condylomatosis', 'STDs:syphilis',\n",
       "       'STDs:pelvic inflammatory disease', 'STDs:genital herpes',\n",
       "       'STDs:molluscum contagiosum', 'STDs:HIV', 'STDs:Hepatitis B'],\n",
       "      dtype='object')"
      ]
     },
     "execution_count": 53,
     "metadata": {},
     "output_type": "execute_result"
    }
   ],
   "source": [
    "data.select_dtypes(['object' , 'bool']).columns"
   ]
  },
  {
   "cell_type": "code",
   "execution_count": 54,
   "metadata": {},
   "outputs": [],
   "source": [
    "col = data.select_dtypes(['object' , 'bool']).columns"
   ]
  },
  {
   "cell_type": "code",
   "execution_count": 55,
   "metadata": {},
   "outputs": [],
   "source": [
    "##Hence these columns have only zero's, it would be useless for prediction\n",
    "col = col.difference(['STDs:AIDS' , 'STDs:cervical condylomatosis'])"
   ]
  },
  {
   "cell_type": "code",
   "execution_count": 56,
   "metadata": {},
   "outputs": [
    {
     "name": "stdout",
     "output_type": "stream",
     "text": [
      "Biopsy \n",
      " 6.563245823389022\n",
      "Dx \n",
      " 2.863961813842482\n",
      "Dx:CIN \n",
      " 1.0739856801909307\n",
      "Dx:Cancer \n",
      " 2.1479713603818613\n",
      "Dx:HPV \n",
      " 2.1479713603818613\n",
      "Hormonal Contraceptives \n",
      " 32.10023866348449\n",
      "IUD \n",
      " 9.904534606205251\n",
      "STDs \n",
      " 9.427207637231504\n",
      "STDs:HIV \n",
      " 2.1479713603818613\n",
      "STDs:HPV \n",
      " 0.23866348448687352\n",
      "STDs:Hepatitis B \n",
      " 0.11933174224343676\n",
      "STDs:condylomatosis \n",
      " 5.250596658711217\n",
      "STDs:genital herpes \n",
      " 0.11933174224343676\n",
      "STDs:molluscum contagiosum \n",
      " 0.11933174224343676\n",
      "STDs:pelvic inflammatory disease \n",
      " 0.11933174224343676\n",
      "STDs:syphilis \n",
      " 2.267303102625298\n",
      "STDs:vaginal condylomatosis \n",
      " 0.47732696897374705\n",
      "STDs:vulvo-perineal condylomatosis \n",
      " 5.13126491646778\n",
      "Smokes \n",
      " 14.439140811455847\n"
     ]
    }
   ],
   "source": [
    "for i in col:\n",
    "    percent = (data[i].value_counts()[1] / len(data[i])) * 100\n",
    "    print(i , '\\n' , percent)    "
   ]
  },
  {
   "cell_type": "markdown",
   "metadata": {},
   "source": [
    "##So only these columns ('Hormonal Contraceptives' , 'IUD' , 'STDs' , 'STDs:condylomatosis' , 'STDs:vulvo-perineal condylomatosis' , 'Smokes') have atleast 5% minority class. We will use only these columns along with numerical columns."
   ]
  },
  {
   "cell_type": "code",
   "execution_count": 57,
   "metadata": {},
   "outputs": [
    {
     "data": {
      "text/plain": [
       "Index(['Age', 'Number of sexual partners', 'First sexual intercourse',\n",
       "       'Num of pregnancies', 'Smokes', 'Smokes (years)', 'Smokes (packs/year)',\n",
       "       'Hormonal Contraceptives', 'Hormonal Contraceptives (years)', 'IUD',\n",
       "       'IUD (years)', 'STDs', 'STDs (number)', 'STDs:condylomatosis',\n",
       "       'STDs:cervical condylomatosis', 'STDs:vaginal condylomatosis',\n",
       "       'STDs:AIDS', 'STDs:HPV', 'STDs: Number of diagnosis', 'Dx:Cancer',\n",
       "       'Dx:CIN', 'Dx:HPV', 'Dx', 'Biopsy',\n",
       "       'STDs:vulvo-perineal condylomatosis', 'STDs:syphilis',\n",
       "       'STDs:pelvic inflammatory disease', 'STDs:genital herpes',\n",
       "       'STDs:molluscum contagiosum', 'STDs:HIV', 'STDs:Hepatitis B'],\n",
       "      dtype='object')"
      ]
     },
     "execution_count": 57,
     "metadata": {},
     "output_type": "execute_result"
    }
   ],
   "source": [
    "data.columns"
   ]
  },
  {
   "cell_type": "code",
   "execution_count": 58,
   "metadata": {},
   "outputs": [],
   "source": [
    "df = data[['Hormonal Contraceptives' , 'IUD' , 'STDs' , 'STDs:condylomatosis' , 'STDs:vulvo-perineal condylomatosis' ,\n",
    "          'Age', 'Number of sexual partners', 'First sexual intercourse',\n",
    "       'Num of pregnancies', 'Smokes', 'Smokes (years)', 'Smokes (packs/year)','Hormonal Contraceptives (years)',\n",
    "          'IUD (years)','STDs (number)','STDs: Number of diagnosis' ,'Biopsy']]"
   ]
  },
  {
   "cell_type": "code",
   "execution_count": 59,
   "metadata": {},
   "outputs": [],
   "source": [
    "x = df[['Hormonal Contraceptives' , 'IUD' , 'STDs' , 'STDs:condylomatosis' , 'STDs:vulvo-perineal condylomatosis' ,\n",
    "          'Age', 'Number of sexual partners', 'First sexual intercourse',\n",
    "       'Num of pregnancies', 'Smokes', 'Smokes (years)', 'Smokes (packs/year)','Hormonal Contraceptives (years)',\n",
    "          'IUD (years)','STDs (number)','STDs: Number of diagnosis']]\n",
    "\n",
    "y = df[['Biopsy']]"
   ]
  },
  {
   "cell_type": "code",
   "execution_count": 60,
   "metadata": {},
   "outputs": [],
   "source": [
    "x_train , x_test , y_train , y_test = train_test_split(x , y , test_size = 0.3 , random_state = 100)"
   ]
  },
  {
   "cell_type": "code",
   "execution_count": 61,
   "metadata": {},
   "outputs": [],
   "source": [
    "##With using all columns\n",
    "\n",
    "##x = data[['Age', 'Number of sexual partners', 'First sexual intercourse',\n",
    "#       'Num of pregnancies', 'Smokes', 'Smokes (years)', 'Smokes (packs/year)',\n",
    "#       'Hormonal Contraceptives', 'Hormonal Contraceptives (years)', 'IUD',\n",
    "#       'IUD (years)', 'STDs', 'STDs (number)', 'STDs:condylomatosis',\n",
    "#       'STDs:cervical condylomatosis', 'STDs:vaginal condylomatosis',\n",
    "#       'STDs:AIDS', 'STDs:HPV', 'STDs: Number of diagnosis', 'Dx:Cancer',\n",
    "#       'Dx:CIN', 'Dx:HPV', 'Dx',\n",
    "#       'STDs:vulvo-perineal condylomatosis', 'STDs:syphilis',\n",
    "#       'STDs:pelvic inflammatory disease', 'STDs:genital herpes',\n",
    "#       'STDs:molluscum contagiosum', 'STDs:HIV', 'STDs:Hepatitis B']]\n",
    "#\n",
    "#y = data[['Biopsy']]"
   ]
  },
  {
   "cell_type": "markdown",
   "metadata": {},
   "source": [
    "## Modelling "
   ]
  },
  {
   "cell_type": "code",
   "execution_count": 62,
   "metadata": {},
   "outputs": [],
   "source": [
    "seed = 10"
   ]
  },
  {
   "cell_type": "code",
   "execution_count": 63,
   "metadata": {},
   "outputs": [],
   "source": [
    "kfold = model_selection.KFold(n_splits=10 , random_state=seed)\n",
    "model = DecisionTreeClassifier()\n",
    "scoring = 'accuracy'"
   ]
  },
  {
   "cell_type": "code",
   "execution_count": 64,
   "metadata": {},
   "outputs": [
    {
     "name": "stdout",
     "output_type": "stream",
     "text": [
      "Accuracy : 0.870(0.029)\n"
     ]
    }
   ],
   "source": [
    "results = model_selection.cross_val_score(model , x_train , y_train , cv=kfold , scoring=scoring)\n",
    "print('Accuracy : %.3f(%.3f)' % (results.mean() , results.std()))"
   ]
  },
  {
   "cell_type": "code",
   "execution_count": 65,
   "metadata": {},
   "outputs": [
    {
     "name": "stdout",
     "output_type": "stream",
     "text": [
      "AUC : 0.516(0.187)\n"
     ]
    }
   ],
   "source": [
    "kfold = model_selection.KFold(n_splits=10 , random_state=seed)\n",
    "model = DecisionTreeClassifier(max_depth=5)\n",
    "scoring = 'roc_auc'\n",
    "\n",
    "results = model_selection.cross_val_score(model , x_train , y_train , cv=kfold , scoring=scoring)\n",
    "print('AUC : %.3f(%.3f)' % (results.mean() , results.std()))"
   ]
  },
  {
   "cell_type": "markdown",
   "metadata": {},
   "source": [
    "## Transformation and Treating outliers"
   ]
  },
  {
   "cell_type": "code",
   "execution_count": 66,
   "metadata": {},
   "outputs": [
    {
     "data": {
      "text/plain": [
       "Index(['Age', 'Number of sexual partners', 'First sexual intercourse',\n",
       "       'Num of pregnancies', 'Smokes', 'Smokes (years)', 'Smokes (packs/year)',\n",
       "       'Hormonal Contraceptives', 'Hormonal Contraceptives (years)', 'IUD',\n",
       "       'IUD (years)', 'STDs', 'STDs (number)', 'STDs:condylomatosis',\n",
       "       'STDs:cervical condylomatosis', 'STDs:vaginal condylomatosis',\n",
       "       'STDs:AIDS', 'STDs:HPV', 'STDs: Number of diagnosis', 'Dx:Cancer',\n",
       "       'Dx:CIN', 'Dx:HPV', 'Dx', 'Biopsy',\n",
       "       'STDs:vulvo-perineal condylomatosis', 'STDs:syphilis',\n",
       "       'STDs:pelvic inflammatory disease', 'STDs:genital herpes',\n",
       "       'STDs:molluscum contagiosum', 'STDs:HIV', 'STDs:Hepatitis B'],\n",
       "      dtype='object')"
      ]
     },
     "execution_count": 66,
     "metadata": {},
     "output_type": "execute_result"
    }
   ],
   "source": [
    " data.columns"
   ]
  },
  {
   "cell_type": "markdown",
   "metadata": {},
   "source": [
    "## Lets write function to detect outliers by means of zscore - 3 Standard deviation method and also by standard IQR method"
   ]
  },
  {
   "cell_type": "markdown",
   "metadata": {},
   "source": [
    "##ZSCORE METHOD"
   ]
  },
  {
   "cell_type": "code",
   "execution_count": 67,
   "metadata": {},
   "outputs": [],
   "source": [
    "def find_outliers(x):\n",
    "    outliers = []\n",
    "    threshold = 3\n",
    "    mean = np.mean(x)\n",
    "    sd = np.std(x)\n",
    "    for i in x:\n",
    "        zscore = (i - mean) / sd\n",
    "        if np.abs(zscore)  > threshold:\n",
    "            outliers.append(i)\n",
    "    return outliers        "
   ]
  },
  {
   "cell_type": "markdown",
   "metadata": {},
   "source": [
    "##IQR METHOD"
   ]
  },
  {
   "cell_type": "code",
   "execution_count": 68,
   "metadata": {},
   "outputs": [],
   "source": [
    "def detect_outliers(x):\n",
    "    outliers = []\n",
    "    q1 , q3 = np.percentile(x,[25,75])\n",
    "    iqr = q3 - q1\n",
    "    lower_bound = q1 - (1.5 * iqr)\n",
    "    upper_bound = q3 + (1.5 * iqr)\n",
    "    for i in x:\n",
    "        if i < lower_bound or i > upper_bound:\n",
    "            outliers.append(i)\n",
    "    return outliers        "
   ]
  },
  {
   "cell_type": "markdown",
   "metadata": {},
   "source": [
    "## For Age"
   ]
  },
  {
   "cell_type": "code",
   "execution_count": 69,
   "metadata": {},
   "outputs": [
    {
     "data": {
      "text/plain": [
       "<matplotlib.axes._subplots.AxesSubplot at 0x244ac9f7940>"
      ]
     },
     "execution_count": 69,
     "metadata": {},
     "output_type": "execute_result"
    },
    {
     "data": {
      "image/png": "[encoded data removed]",
      "text/plain": [
       "<Figure size 432x288 with 1 Axes>"
      ]
     },
     "metadata": {},
     "output_type": "display_data"
    }
   ],
   "source": [
    "sns.distplot(data[['Age']])"
   ]
  },
  {
   "cell_type": "code",
   "execution_count": 70,
   "metadata": {},
   "outputs": [],
   "source": [
    "from scipy.stats import boxcox"
   ]
  },
  {
   "cell_type": "code",
   "execution_count": 71,
   "metadata": {},
   "outputs": [],
   "source": [
    "data[['Age']] , lam = boxcox(data['Age'])"
   ]
  },
  {
   "cell_type": "code",
   "execution_count": 72,
   "metadata": {},
   "outputs": [
    {
     "data": {
      "text/plain": [
       "[2.2369810163657413, 2.2501203832543624]"
      ]
     },
     "execution_count": 72,
     "metadata": {},
     "output_type": "execute_result"
    }
   ],
   "source": [
    "detect_outliers(data['Age'])"
   ]
  },
  {
   "cell_type": "code",
   "execution_count": 73,
   "metadata": {},
   "outputs": [
    {
     "data": {
      "text/plain": [
       "[2.2369810163657413, 2.2501203832543624]"
      ]
     },
     "execution_count": 73,
     "metadata": {},
     "output_type": "execute_result"
    }
   ],
   "source": [
    "find_outliers(data['Age'])"
   ]
  },
  {
   "cell_type": "code",
   "execution_count": 74,
   "metadata": {},
   "outputs": [],
   "source": [
    "##Lets see those values what it representing for our target variable"
   ]
  },
  {
   "cell_type": "code",
   "execution_count": 75,
   "metadata": {},
   "outputs": [
    {
     "data": {
      "text/plain": [
       "Age       Biopsy\n",
       "1.692347  False      1\n",
       "1.722134  False      4\n",
       "1.749180  False     21\n",
       "1.773894  False     22\n",
       "          True       1\n",
       "1.796606  False     32\n",
       "          True       1\n",
       "1.817583  False     46\n",
       "          True       2\n",
       "1.837042  False     40\n",
       "          True       2\n",
       "1.855165  False     41\n",
       "          True       4\n",
       "1.872104  False     40\n",
       "          True       6\n",
       "1.887988  False     25\n",
       "          True       4\n",
       "1.902925  False     52\n",
       "1.917011  False     37\n",
       "          True       2\n",
       "1.930325  False     34\n",
       "          True       2\n",
       "1.942939  False     37\n",
       "          True       1\n",
       "1.954914  False     32\n",
       "          True       1\n",
       "1.966305  False     30\n",
       "          True       6\n",
       "1.977160  False     29\n",
       "          True       2\n",
       "1.987521  False     32\n",
       "          True       2\n",
       "1.997425  False     26\n",
       "2.006907  False     18\n",
       "2.015998  False     24\n",
       "          True       4\n",
       "2.024723  False     22\n",
       "          True       1\n",
       "2.033109  False     26\n",
       "          True       3\n",
       "2.041178  False     24\n",
       "2.048949  False     15\n",
       "          True       2\n",
       "2.056442  False      6\n",
       "          True       3\n",
       "2.063673  False      9\n",
       "2.070658  False     10\n",
       "          True       2\n",
       "2.077411  False     13\n",
       "2.083946  False      6\n",
       "2.090273  False      5\n",
       "2.096405  False      5\n",
       "2.102352  False      6\n",
       "2.108123  False      3\n",
       "2.113727  True       1\n",
       "2.119172  False      1\n",
       "          True       1\n",
       "2.124466  False      2\n",
       "2.129616  False      1\n",
       "2.134629  True       1\n",
       "2.139511  False      1\n",
       "          True       1\n",
       "2.170465  False      1\n",
       "2.210243  False      2\n",
       "2.236981  False      1\n",
       "2.250120  False      1\n",
       "Name: Biopsy, dtype: int64"
      ]
     },
     "execution_count": 75,
     "metadata": {},
     "output_type": "execute_result"
    }
   ],
   "source": [
    "data.groupby('Age')['Biopsy'].value_counts()"
   ]
  },
  {
   "cell_type": "markdown",
   "metadata": {},
   "source": [
    "##So we can treat those 2 extreme values with mean or median"
   ]
  },
  {
   "cell_type": "code",
   "execution_count": 76,
   "metadata": {},
   "outputs": [
    {
     "data": {
      "text/plain": [
       "Int64Index([652, 653], dtype='int64')"
      ]
     },
     "execution_count": 76,
     "metadata": {},
     "output_type": "execute_result"
    }
   ],
   "source": [
    "age_index = data[data['Age'] == 2.2369810163657413].index\n",
    "age_index = age_index.append(data[data['Age'] == 2.2501203832543624].index)\n",
    "age_index"
   ]
  },
  {
   "cell_type": "code",
   "execution_count": 77,
   "metadata": {},
   "outputs": [],
   "source": [
    "for i in age_index.values:\n",
    "    data['Age'][i] = np.median(data['Age']).round()"
   ]
  },
  {
   "cell_type": "code",
   "execution_count": 78,
   "metadata": {},
   "outputs": [
    {
     "data": {
      "text/plain": [
       "<matplotlib.axes._subplots.AxesSubplot at 0x244aca9abe0>"
      ]
     },
     "execution_count": 78,
     "metadata": {},
     "output_type": "execute_result"
    },
    {
     "data": {
      "image/png": "[encoded data removed]",
      "text/plain": [
       "<Figure size 432x288 with 1 Axes>"
      ]
     },
     "metadata": {},
     "output_type": "display_data"
    }
   ],
   "source": [
    "sns.distplot(data[['Age']] )"
   ]
  },
  {
   "cell_type": "markdown",
   "metadata": {},
   "source": [
    "##So now the variable seems to possess a Gaussian Distribution"
   ]
  },
  {
   "cell_type": "markdown",
   "metadata": {},
   "source": [
    "## For Number of sexual partners"
   ]
  },
  {
   "cell_type": "code",
   "execution_count": 79,
   "metadata": {},
   "outputs": [
    {
     "data": {
      "text/plain": [
       "<matplotlib.axes._subplots.AxesSubplot at 0x244aec322b0>"
      ]
     },
     "execution_count": 79,
     "metadata": {},
     "output_type": "execute_result"
    },
    {
     "data": {
      "image/png": "[encoded data removed]",
      "text/plain": [
       "<Figure size 432x288 with 1 Axes>"
      ]
     },
     "metadata": {},
     "output_type": "display_data"
    }
   ],
   "source": [
    "sns.distplot(data['Number of sexual partners'])"
   ]
  },
  {
   "cell_type": "code",
   "execution_count": 80,
   "metadata": {},
   "outputs": [],
   "source": [
    "data[['Number of sexual partners']] , lam = boxcox(data['Number of sexual partners'])"
   ]
  },
  {
   "cell_type": "code",
   "execution_count": 81,
   "metadata": {},
   "outputs": [
    {
     "data": {
      "text/plain": [
       "[2.4372760327601046, 2.9286706536738527]"
      ]
     },
     "execution_count": 81,
     "metadata": {},
     "output_type": "execute_result"
    }
   ],
   "source": [
    "find_outliers(data['Number of sexual partners'])"
   ]
  },
  {
   "cell_type": "code",
   "execution_count": 82,
   "metadata": {},
   "outputs": [
    {
     "data": {
      "text/plain": [
       "[0.0,\n",
       " 0.0,\n",
       " 0.0,\n",
       " 0.0,\n",
       " 0.0,\n",
       " 0.0,\n",
       " 0.0,\n",
       " 1.670405762875295,\n",
       " 0.0,\n",
       " 0.0,\n",
       " 0.0,\n",
       " 0.0,\n",
       " 0.0,\n",
       " 0.0,\n",
       " 0.0,\n",
       " 0.0,\n",
       " 0.0,\n",
       " 0.0,\n",
       " 0.0,\n",
       " 0.0,\n",
       " 1.8033446114761134,\n",
       " 0.0,\n",
       " 0.0,\n",
       " 0.0,\n",
       " 0.0,\n",
       " 0.0,\n",
       " 0.0,\n",
       " 0.0,\n",
       " 0.0,\n",
       " 0.0,\n",
       " 0.0,\n",
       " 0.0,\n",
       " 0.0,\n",
       " 0.0,\n",
       " 2.4372760327601046,\n",
       " 1.9171965427346362,\n",
       " 2.1047864166685244,\n",
       " 0.0,\n",
       " 1.8033446114761134,\n",
       " 0.0,\n",
       " 0.0,\n",
       " 0.0,\n",
       " 0.0,\n",
       " 0.0,\n",
       " 0.0,\n",
       " 0.0,\n",
       " 1.670405762875295,\n",
       " 0.0,\n",
       " 0.0,\n",
       " 0.0,\n",
       " 1.670405762875295,\n",
       " 0.0,\n",
       " 0.0,\n",
       " 0.0,\n",
       " 0.0,\n",
       " 1.9171965427346362,\n",
       " 0.0,\n",
       " 0.0,\n",
       " 0.0,\n",
       " 0.0,\n",
       " 0.0,\n",
       " 0.0,\n",
       " 0.0,\n",
       " 0.0,\n",
       " 0.0,\n",
       " 0.0,\n",
       " 0.0,\n",
       " 0.0,\n",
       " 0.0,\n",
       " 0.0,\n",
       " 0.0,\n",
       " 0.0,\n",
       " 0.0,\n",
       " 0.0,\n",
       " 0.0,\n",
       " 0.0,\n",
       " 0.0,\n",
       " 0.0,\n",
       " 0.0,\n",
       " 0.0,\n",
       " 0.0,\n",
       " 0.0,\n",
       " 0.0,\n",
       " 0.0,\n",
       " 0.0,\n",
       " 0.0,\n",
       " 0.0,\n",
       " 0.0,\n",
       " 0.0,\n",
       " 0.0,\n",
       " 0.0,\n",
       " 0.0,\n",
       " 0.0,\n",
       " 0.0,\n",
       " 0.0,\n",
       " 0.0,\n",
       " 0.0,\n",
       " 0.0,\n",
       " 0.0,\n",
       " 0.0,\n",
       " 0.0,\n",
       " 0.0,\n",
       " 1.8033446114761134,\n",
       " 0.0,\n",
       " 0.0,\n",
       " 0.0,\n",
       " 0.0,\n",
       " 0.0,\n",
       " 0.0,\n",
       " 0.0,\n",
       " 0.0,\n",
       " 0.0,\n",
       " 0.0,\n",
       " 0.0,\n",
       " 0.0,\n",
       " 0.0,\n",
       " 0.0,\n",
       " 0.0,\n",
       " 0.0,\n",
       " 0.0,\n",
       " 0.0,\n",
       " 0.0,\n",
       " 0.0,\n",
       " 0.0,\n",
       " 0.0,\n",
       " 2.9286706536738527,\n",
       " 0.0,\n",
       " 0.0,\n",
       " 0.0,\n",
       " 0.0,\n",
       " 0.0,\n",
       " 0.0,\n",
       " 0.0,\n",
       " 0.0,\n",
       " 0.0,\n",
       " 0.0,\n",
       " 0.0,\n",
       " 0.0,\n",
       " 0.0,\n",
       " 0.0,\n",
       " 0.0,\n",
       " 0.0,\n",
       " 0.0,\n",
       " 0.0,\n",
       " 0.0,\n",
       " 0.0,\n",
       " 0.0,\n",
       " 0.0,\n",
       " 0.0,\n",
       " 0.0,\n",
       " 0.0,\n",
       " 0.0,\n",
       " 0.0,\n",
       " 0.0,\n",
       " 0.0,\n",
       " 0.0,\n",
       " 0.0,\n",
       " 1.670405762875295,\n",
       " 0.0,\n",
       " 0.0,\n",
       " 0.0,\n",
       " 1.670405762875295,\n",
       " 0.0,\n",
       " 0.0,\n",
       " 0.0,\n",
       " 0.0,\n",
       " 0.0,\n",
       " 0.0,\n",
       " 1.670405762875295,\n",
       " 0.0,\n",
       " 1.670405762875295,\n",
       " 0.0,\n",
       " 0.0,\n",
       " 0.0,\n",
       " 0.0,\n",
       " 0.0,\n",
       " 0.0,\n",
       " 0.0,\n",
       " 0.0,\n",
       " 0.0,\n",
       " 0.0,\n",
       " 0.0,\n",
       " 0.0,\n",
       " 0.0,\n",
       " 0.0,\n",
       " 0.0,\n",
       " 0.0,\n",
       " 0.0,\n",
       " 0.0,\n",
       " 0.0,\n",
       " 0.0,\n",
       " 0.0,\n",
       " 0.0,\n",
       " 0.0,\n",
       " 0.0,\n",
       " 0.0,\n",
       " 1.670405762875295,\n",
       " 0.0,\n",
       " 1.8033446114761134,\n",
       " 0.0,\n",
       " 0.0,\n",
       " 0.0,\n",
       " 0.0,\n",
       " 0.0,\n",
       " 0.0,\n",
       " 0.0,\n",
       " 1.8033446114761134,\n",
       " 0.0,\n",
       " 0.0,\n",
       " 0.0,\n",
       " 0.0,\n",
       " 1.8033446114761134,\n",
       " 0.0,\n",
       " 1.670405762875295,\n",
       " 0.0,\n",
       " 1.8033446114761134,\n",
       " 1.9171965427346362,\n",
       " 0.0,\n",
       " 0.0,\n",
       " 0.0,\n",
       " 0.0,\n",
       " 0.0,\n",
       " 0.0,\n",
       " 0.0,\n",
       " 0.0,\n",
       " 0.0,\n",
       " 2.0166262476039485,\n",
       " 1.9171965427346362,\n",
       " 0.0]"
      ]
     },
     "execution_count": 82,
     "metadata": {},
     "output_type": "execute_result"
    }
   ],
   "source": [
    "detect_outliers(data['Number of sexual partners'])"
   ]
  },
  {
   "cell_type": "code",
   "execution_count": 83,
   "metadata": {},
   "outputs": [
    {
     "data": {
      "text/plain": [
       "0.674460    282\n",
       "1.052163    205\n",
       "0.000000    205\n",
       "1.312884     78\n",
       "1.511063     44\n",
       "1.670406      9\n",
       "1.803345      7\n",
       "1.917197      4\n",
       "2.016626      1\n",
       "2.104786      1\n",
       "2.928671      1\n",
       "2.437276      1\n",
       "Name: Number of sexual partners, dtype: int64"
      ]
     },
     "execution_count": 83,
     "metadata": {},
     "output_type": "execute_result"
    }
   ],
   "source": [
    "data['Number of sexual partners'].value_counts()"
   ]
  },
  {
   "cell_type": "code",
   "execution_count": 84,
   "metadata": {},
   "outputs": [
    {
     "data": {
      "text/plain": [
       "Number of sexual partners  Biopsy\n",
       "0.000000                   False     192\n",
       "                           True       13\n",
       "0.674460                   False     264\n",
       "                           True       18\n",
       "1.052163                   False     192\n",
       "                           True       13\n",
       "1.312884                   False      72\n",
       "                           True        6\n",
       "1.511063                   False      40\n",
       "                           True        4\n",
       "1.670406                   False       8\n",
       "                           True        1\n",
       "1.803345                   False       7\n",
       "1.917197                   False       4\n",
       "2.016626                   False       1\n",
       "2.104786                   False       1\n",
       "2.437276                   False       1\n",
       "2.928671                   False       1\n",
       "Name: Biopsy, dtype: int64"
      ]
     },
     "execution_count": 84,
     "metadata": {},
     "output_type": "execute_result"
    }
   ],
   "source": [
    "data.groupby('Number of sexual partners').Biopsy.value_counts()"
   ]
  },
  {
   "cell_type": "markdown",
   "metadata": {},
   "source": [
    "##We can treat values starting from 2 because those are the extreme values and belong to majority class in Target variable."
   ]
  },
  {
   "cell_type": "code",
   "execution_count": 85,
   "metadata": {},
   "outputs": [
    {
     "data": {
      "text/plain": [
       "Int64Index([817, 190, 183, 455], dtype='int64')"
      ]
     },
     "execution_count": 85,
     "metadata": {},
     "output_type": "execute_result"
    }
   ],
   "source": [
    "sex_index = data[data['Number of sexual partners'] == 2.0166262476039485].index\n",
    "sex_index = sex_index.append(data[data['Number of sexual partners'] == 2.1047864166685244].index)\n",
    "sex_index = sex_index.append(data[data['Number of sexual partners'] == 2.4372760327601046].index)\n",
    "sex_index = sex_index.append(data[data['Number of sexual partners'] == 2.9286706536738527].index)\n",
    "sex_index"
   ]
  },
  {
   "cell_type": "code",
   "execution_count": 86,
   "metadata": {},
   "outputs": [],
   "source": [
    "for i in sex_index.values:\n",
    "    data['Number of sexual partners'][i] = np.median(data['Number of sexual partners']).round()"
   ]
  },
  {
   "cell_type": "code",
   "execution_count": 87,
   "metadata": {},
   "outputs": [
    {
     "data": {
      "text/plain": [
       "<matplotlib.axes._subplots.AxesSubplot at 0x244aed02748>"
      ]
     },
     "execution_count": 87,
     "metadata": {},
     "output_type": "execute_result"
    },
    {
     "data": {
      "image/png": "[encoded data removed]",
      "text/plain": [
       "<Figure size 432x288 with 1 Axes>"
      ]
     },
     "metadata": {},
     "output_type": "display_data"
    }
   ],
   "source": [
    "sns.distplot(data['Number of sexual partners'])"
   ]
  },
  {
   "cell_type": "markdown",
   "metadata": {},
   "source": [
    "##Better than before.If need we can do changes later."
   ]
  },
  {
   "cell_type": "markdown",
   "metadata": {},
   "source": [
    "## For First sexual intercourse"
   ]
  },
  {
   "cell_type": "code",
   "execution_count": 88,
   "metadata": {},
   "outputs": [
    {
     "data": {
      "text/plain": [
       "<matplotlib.axes._subplots.AxesSubplot at 0x244aecc6b38>"
      ]
     },
     "execution_count": 88,
     "metadata": {},
     "output_type": "execute_result"
    },
    {
     "data": {
      "image/png": "[encoded data removed]",
      "text/plain": [
       "<Figure size 432x288 with 1 Axes>"
      ]
     },
     "metadata": {},
     "output_type": "display_data"
    }
   ],
   "source": [
    "sns.distplot(data['First sexual intercourse'])"
   ]
  },
  {
   "cell_type": "code",
   "execution_count": 89,
   "metadata": {},
   "outputs": [],
   "source": [
    "##Here the skewness is not extreme for to do box-cox transformation. So lets proceed with original data"
   ]
  },
  {
   "cell_type": "code",
   "execution_count": 90,
   "metadata": {},
   "outputs": [
    {
     "data": {
      "text/plain": [
       "[26.0,\n",
       " 26.0,\n",
       " 27.0,\n",
       " 26.0,\n",
       " 27.0,\n",
       " 27.0,\n",
       " 32.0,\n",
       " 29.0,\n",
       " 29.0,\n",
       " 28.0,\n",
       " 26.0,\n",
       " 27.0,\n",
       " 26.0,\n",
       " 26.0,\n",
       " 29.0,\n",
       " 28.0,\n",
       " 28.0,\n",
       " 29.0,\n",
       " 27.0,\n",
       " 29.0,\n",
       " 26.0,\n",
       " 27.0]"
      ]
     },
     "execution_count": 90,
     "metadata": {},
     "output_type": "execute_result"
    }
   ],
   "source": [
    "find_outliers(data['First sexual intercourse'])"
   ]
  },
  {
   "cell_type": "code",
   "execution_count": 91,
   "metadata": {},
   "outputs": [
    {
     "data": {
      "text/plain": [
       "[23.0,\n",
       " 26.0,\n",
       " 26.0,\n",
       " 25.0,\n",
       " 27.0,\n",
       " 23.0,\n",
       " 24.0,\n",
       " 26.0,\n",
       " 24.0,\n",
       " 23.0,\n",
       " 27.0,\n",
       " 27.0,\n",
       " 32.0,\n",
       " 29.0,\n",
       " 23.0,\n",
       " 29.0,\n",
       " 28.0,\n",
       " 10.0,\n",
       " 23.0,\n",
       " 26.0,\n",
       " 24.0,\n",
       " 23.0,\n",
       " 27.0,\n",
       " 10.0,\n",
       " 24.0,\n",
       " 26.0,\n",
       " 26.0,\n",
       " 29.0,\n",
       " 24.0,\n",
       " 28.0,\n",
       " 25.0,\n",
       " 28.0,\n",
       " 29.0,\n",
       " 23.0,\n",
       " 27.0,\n",
       " 29.0,\n",
       " 26.0,\n",
       " 27.0,\n",
       " 23.0,\n",
       " 24.0]"
      ]
     },
     "execution_count": 91,
     "metadata": {},
     "output_type": "execute_result"
    }
   ],
   "source": [
    "detect_outliers(data['First sexual intercourse'])"
   ]
  },
  {
   "cell_type": "code",
   "execution_count": 92,
   "metadata": {},
   "outputs": [
    {
     "data": {
      "text/plain": [
       "First sexual intercourse  Biopsy\n",
       "10.0                      False       2\n",
       "11.0                      False       1\n",
       "                          True        1\n",
       "12.0                      False       4\n",
       "                          True        1\n",
       "13.0                      False      24\n",
       "                          True        1\n",
       "14.0                      False      76\n",
       "                          True        2\n",
       "15.0                      False     153\n",
       "                          True        9\n",
       "16.0                      False     112\n",
       "                          True        4\n",
       "17.0                      False     136\n",
       "                          True       15\n",
       "18.0                      False     123\n",
       "                          True       12\n",
       "19.0                      False      51\n",
       "                          True        7\n",
       "20.0                      False      36\n",
       "                          True        1\n",
       "21.0                      False      20\n",
       "22.0                      False       9\n",
       "23.0                      False       7\n",
       "                          True        1\n",
       "24.0                      False       6\n",
       "25.0                      False       2\n",
       "26.0                      False       7\n",
       "27.0                      False       6\n",
       "28.0                      False       3\n",
       "29.0                      False       4\n",
       "                          True        1\n",
       "32.0                      False       1\n",
       "Name: Biopsy, dtype: int64"
      ]
     },
     "execution_count": 92,
     "metadata": {},
     "output_type": "execute_result"
    }
   ],
   "source": [
    "data.groupby('First sexual intercourse').Biopsy.value_counts()"
   ]
  },
  {
   "cell_type": "markdown",
   "metadata": {},
   "source": [
    "##So its better to treat values greater than 23"
   ]
  },
  {
   "cell_type": "code",
   "execution_count": 93,
   "metadata": {},
   "outputs": [
    {
     "data": {
      "text/plain": [
       "Int64Index([ 28,  38, 212, 467, 545, 836,  13, 554,   7,  10,  29, 208, 475,\n",
       "            480, 757,  19,  74,  79, 304, 661, 804, 136, 548, 570,  92, 126,\n",
       "            487, 592, 666,  88],\n",
       "           dtype='int64')"
      ]
     },
     "execution_count": 93,
     "metadata": {},
     "output_type": "execute_result"
    }
   ],
   "source": [
    "intercourse_index = data[data['First sexual intercourse'] == 24].index\n",
    "intercourse_index = intercourse_index.append(data[data['First sexual intercourse'] == 25].index)\n",
    "intercourse_index = intercourse_index.append(data[data['First sexual intercourse'] == 26].index)\n",
    "intercourse_index = intercourse_index.append(data[data['First sexual intercourse'] == 27].index)\n",
    "intercourse_index = intercourse_index.append(data[data['First sexual intercourse'] == 28].index)\n",
    "intercourse_index = intercourse_index.append(data[data['First sexual intercourse'] == 29].index)\n",
    "intercourse_index = intercourse_index.append(data[data['First sexual intercourse'] == 32].index)\n",
    "intercourse_index"
   ]
  },
  {
   "cell_type": "code",
   "execution_count": 94,
   "metadata": {},
   "outputs": [],
   "source": [
    "for i in intercourse_index.values:\n",
    "    data['First sexual intercourse'][i] = np.median(data['First sexual intercourse']).round()"
   ]
  },
  {
   "cell_type": "code",
   "execution_count": 95,
   "metadata": {},
   "outputs": [
    {
     "data": {
      "text/plain": [
       "<matplotlib.axes._subplots.AxesSubplot at 0x244aed02eb8>"
      ]
     },
     "execution_count": 95,
     "metadata": {},
     "output_type": "execute_result"
    },
    {
     "data": {
      "image/png": "[encoded data removed]",
      "text/plain": [
       "<Figure size 432x288 with 1 Axes>"
      ]
     },
     "metadata": {},
     "output_type": "display_data"
    }
   ],
   "source": [
    "sns.distplot(data['First sexual intercourse'])"
   ]
  },
  {
   "cell_type": "markdown",
   "metadata": {},
   "source": [
    "##Looks better to be Gaussian "
   ]
  },
  {
   "cell_type": "markdown",
   "metadata": {},
   "source": [
    "## For Num of pregnancies"
   ]
  },
  {
   "cell_type": "code",
   "execution_count": 96,
   "metadata": {},
   "outputs": [
    {
     "data": {
      "text/plain": [
       "<matplotlib.axes._subplots.AxesSubplot at 0x244aeeb77f0>"
      ]
     },
     "execution_count": 96,
     "metadata": {},
     "output_type": "execute_result"
    },
    {
     "data": {
      "image/png": "[encoded data removed]",
      "text/plain": [
       "<Figure size 432x288 with 1 Axes>"
      ]
     },
     "metadata": {},
     "output_type": "display_data"
    }
   ],
   "source": [
    "sns.distplot(data['Num of pregnancies'])"
   ]
  },
  {
   "cell_type": "code",
   "execution_count": 97,
   "metadata": {},
   "outputs": [],
   "source": [
    "data[['Num of pregnancies']] , lam = boxcox(data['Num of pregnancies'] + 1)"
   ]
  },
  {
   "cell_type": "code",
   "execution_count": 98,
   "metadata": {},
   "outputs": [
    {
     "data": {
      "text/plain": [
       "[2.115710672888122, 2.052842707615154]"
      ]
     },
     "execution_count": 98,
     "metadata": {},
     "output_type": "execute_result"
    }
   ],
   "source": [
    "find_outliers(data['Num of pregnancies'])"
   ]
  },
  {
   "cell_type": "code",
   "execution_count": 99,
   "metadata": {},
   "outputs": [
    {
     "data": {
      "text/plain": [
       "[]"
      ]
     },
     "execution_count": 99,
     "metadata": {},
     "output_type": "execute_result"
    }
   ],
   "source": [
    "detect_outliers(data['Num of pregnancies'])"
   ]
  },
  {
   "cell_type": "code",
   "execution_count": 100,
   "metadata": {},
   "outputs": [
    {
     "data": {
      "text/plain": [
       "Num of pregnancies  Biopsy\n",
       "0.000000            False      15\n",
       "                    True        1\n",
       "0.662129            False     255\n",
       "                    True       12\n",
       "1.022053            False     265\n",
       "                    True       18\n",
       "1.265894            False     125\n",
       "                    True       11\n",
       "1.448705            False      63\n",
       "                    True       11\n",
       "1.594093            False      33\n",
       "                    True        1\n",
       "1.714294            False      17\n",
       "                    True        1\n",
       "1.816441            False       6\n",
       "1.905046            False       2\n",
       "2.052843            False       1\n",
       "2.115711            False       1\n",
       "Name: Biopsy, dtype: int64"
      ]
     },
     "execution_count": 100,
     "metadata": {},
     "output_type": "execute_result"
    }
   ],
   "source": [
    "data.groupby('Num of pregnancies').Biopsy.value_counts()"
   ]
  },
  {
   "cell_type": "markdown",
   "metadata": {},
   "source": [
    "##So we can treat those two values"
   ]
  },
  {
   "cell_type": "code",
   "execution_count": 101,
   "metadata": {},
   "outputs": [
    {
     "data": {
      "text/plain": [
       "Int64Index([653, 667], dtype='int64')"
      ]
     },
     "execution_count": 101,
     "metadata": {},
     "output_type": "execute_result"
    }
   ],
   "source": [
    "pregnant_index = data[data['Num of pregnancies'] == 2.115710672888122].index\n",
    "pregnant_index = pregnant_index.append(data[data['Num of pregnancies'] == 2.052842707615154].index)\n",
    "pregnant_index"
   ]
  },
  {
   "cell_type": "code",
   "execution_count": 102,
   "metadata": {},
   "outputs": [],
   "source": [
    "for i in pregnant_index.values:\n",
    "    data['Num of pregnancies'][i] = np.median(data['Num of pregnancies']).round()"
   ]
  },
  {
   "cell_type": "code",
   "execution_count": 103,
   "metadata": {},
   "outputs": [
    {
     "data": {
      "text/plain": [
       "<matplotlib.axes._subplots.AxesSubplot at 0x244aef10978>"
      ]
     },
     "execution_count": 103,
     "metadata": {},
     "output_type": "execute_result"
    },
    {
     "data": {
      "image/png": "[encoded data removed]",
      "text/plain": [
       "<Figure size 432x288 with 1 Axes>"
      ]
     },
     "metadata": {},
     "output_type": "display_data"
    }
   ],
   "source": [
    "sns.distplot(data['Num of pregnancies'])"
   ]
  },
  {
   "cell_type": "markdown",
   "metadata": {},
   "source": [
    "##Its seems better than before"
   ]
  },
  {
   "cell_type": "markdown",
   "metadata": {},
   "source": [
    "## For Smokes (years)"
   ]
  },
  {
   "cell_type": "code",
   "execution_count": 104,
   "metadata": {},
   "outputs": [
    {
     "data": {
      "text/plain": [
       "<matplotlib.axes._subplots.AxesSubplot at 0x244aeff33c8>"
      ]
     },
     "execution_count": 104,
     "metadata": {},
     "output_type": "execute_result"
    },
    {
     "data": {
      "image/png": "[encoded data removed]",
      "text/plain": [
       "<Figure size 432x288 with 1 Axes>"
      ]
     },
     "metadata": {},
     "output_type": "display_data"
    }
   ],
   "source": [
    "sns.distplot(data['Smokes (years)'])"
   ]
  },
  {
   "cell_type": "code",
   "execution_count": 105,
   "metadata": {},
   "outputs": [],
   "source": [
    "data[['Smokes (years)']] , lam = boxcox(data['Smokes (years)'] + 1)"
   ]
  },
  {
   "cell_type": "code",
   "execution_count": 106,
   "metadata": {},
   "outputs": [
    {
     "data": {
      "text/plain": [
       "[]"
      ]
     },
     "execution_count": 106,
     "metadata": {},
     "output_type": "execute_result"
    }
   ],
   "source": [
    "find_outliers(data['Smokes (years)'])"
   ]
  },
  {
   "cell_type": "code",
   "execution_count": 107,
   "metadata": {},
   "outputs": [],
   "source": [
    "##a = detect_outliers(data['Smokes (years)'])"
   ]
  },
  {
   "cell_type": "code",
   "execution_count": 108,
   "metadata": {},
   "outputs": [],
   "source": [
    "##b = set(a)"
   ]
  },
  {
   "cell_type": "code",
   "execution_count": 109,
   "metadata": {},
   "outputs": [
    {
     "data": {
      "text/plain": [
       "count    838.000000\n",
       "mean       0.046724\n",
       "std        0.108963\n",
       "min        0.000000\n",
       "25%        0.000000\n",
       "50%        0.000000\n",
       "75%        0.000000\n",
       "max        0.308927\n",
       "Name: Smokes (years), dtype: float64"
      ]
     },
     "execution_count": 109,
     "metadata": {},
     "output_type": "execute_result"
    }
   ],
   "source": [
    "data['Smokes (years)'].describe()"
   ]
  },
  {
   "cell_type": "markdown",
   "metadata": {},
   "source": [
    "##We going to remove all the outliers"
   ]
  },
  {
   "cell_type": "code",
   "execution_count": 110,
   "metadata": {},
   "outputs": [
    {
     "data": {
      "text/plain": [
       "Smokes (years)  Biopsy\n",
       "0.000000        False     663\n",
       "                True       44\n",
       "0.117852        False       1\n",
       "0.225781        False       3\n",
       "0.276163        False       7\n",
       "0.286291        False       9\n",
       "                True        1\n",
       "0.287088        False      13\n",
       "                True        1\n",
       "0.300110        False       6\n",
       "                True        1\n",
       "0.305454        False       6\n",
       "                True        1\n",
       "0.307241        False       5\n",
       "0.307994        False       8\n",
       "                True        1\n",
       "0.308361        False       4\n",
       "0.308560        False       6\n",
       "0.308677        False       6\n",
       "0.308750        False       9\n",
       "0.308798        False       4\n",
       "                True        1\n",
       "0.308830        False       5\n",
       "0.308852        False       2\n",
       "                True        1\n",
       "0.308869        False       3\n",
       "0.308881        False       3\n",
       "                True        1\n",
       "0.308890        False       3\n",
       "                True        1\n",
       "0.308897        False       6\n",
       "0.308907        False       1\n",
       "0.308910        False       3\n",
       "0.308913        False       1\n",
       "0.308915        False       1\n",
       "0.308917        False       1\n",
       "                True        1\n",
       "0.308920        False       1\n",
       "0.308923        False       1\n",
       "0.308925        False       1\n",
       "0.308926        True        1\n",
       "0.308927        False       1\n",
       "Name: Biopsy, dtype: int64"
      ]
     },
     "execution_count": 110,
     "metadata": {},
     "output_type": "execute_result"
    }
   ],
   "source": [
    "data.groupby('Smokes (years)').Biopsy.value_counts()"
   ]
  },
  {
   "cell_type": "markdown",
   "metadata": {},
   "source": [
    "##Lets treat values greater than 15. Because 14 and 15 having 1's for target. we won't need to alter it now"
   ]
  },
  {
   "cell_type": "code",
   "execution_count": 111,
   "metadata": {},
   "outputs": [],
   "source": [
    "##for i in b:\n",
    "##    smokes_index = []\n",
    "##    index = data[data['Smokes (years)'] == i].index\n",
    "##    smokes_index.extend(index)\n",
    "##    (smokes_index)\n",
    "##    print(smokes_index)"
   ]
  },
  {
   "cell_type": "code",
   "execution_count": 112,
   "metadata": {},
   "outputs": [],
   "source": [
    "##smokesyr_index = [3,6,9, 32, 42, 171, 263, 288, 372, 457, 518, 612, 699, 712, 739, 743,28, 289, 377, 396, 631, 676, 780,44, \n",
    "##                  174, 187,46, 186, 297, 451, 564, 648, 669, 770, 773, 781,53,57, 202, 227, 386, 586, 723,61, 111, 807,67,\n",
    "##                  105, 239, 497, 616, 619, 722,201, 343, 374, 380, 537, 539, 806,337,774,193, 371, 478, 508, 512, 649, 691, \n",
    "##                  795, 844,155, 609, 755, 837, 849,133, 213, 687, 804,125, 216, 259, 650, 782,145, 305, 422,252, 446, 592, 842,\n",
    "##                  78, 394, 573,212, 264, 426, 467, 572, 599, 620, 704, 792,81, 142, 506, 563, 579, 834,131, 662,805,801,10, 21, \n",
    "##                  338, 388, 744,302, 414, 428, 522, 550, 643, 735,74, 96, 290, 587,668]"
   ]
  },
  {
   "cell_type": "code",
   "execution_count": 113,
   "metadata": {},
   "outputs": [],
   "source": [
    "##for i in smokesyr_index:\n",
    "##    data['Smokes (years)'][i] = np.median(data['Smokes (years)'])"
   ]
  },
  {
   "cell_type": "code",
   "execution_count": 114,
   "metadata": {},
   "outputs": [
    {
     "data": {
      "text/plain": [
       "<matplotlib.axes._subplots.AxesSubplot at 0x244b0077048>"
      ]
     },
     "execution_count": 114,
     "metadata": {},
     "output_type": "execute_result"
    },
    {
     "data": {
      "image/png": "[encoded data removed]",
      "text/plain": [
       "<Figure size 432x288 with 1 Axes>"
      ]
     },
     "metadata": {},
     "output_type": "display_data"
    }
   ],
   "source": [
    "sns.distplot(data['Smokes (years)'])"
   ]
  },
  {
   "cell_type": "markdown",
   "metadata": {},
   "source": [
    "## For Smokes (packs/year)"
   ]
  },
  {
   "cell_type": "code",
   "execution_count": 115,
   "metadata": {},
   "outputs": [
    {
     "data": {
      "text/plain": [
       "<matplotlib.axes._subplots.AxesSubplot at 0x244aefe99b0>"
      ]
     },
     "execution_count": 115,
     "metadata": {},
     "output_type": "execute_result"
    },
    {
     "data": {
      "image/png": "[encoded data removed]",
      "text/plain": [
       "<Figure size 432x288 with 1 Axes>"
      ]
     },
     "metadata": {},
     "output_type": "display_data"
    }
   ],
   "source": [
    "sns.distplot(data['Smokes (packs/year)'])"
   ]
  },
  {
   "cell_type": "code",
   "execution_count": 116,
   "metadata": {},
   "outputs": [],
   "source": [
    "data[['Smokes (packs/year)']] , lam = boxcox(data['Smokes (packs/year)'] + 1)"
   ]
  },
  {
   "cell_type": "code",
   "execution_count": 117,
   "metadata": {},
   "outputs": [
    {
     "data": {
      "text/plain": [
       "[]"
      ]
     },
     "execution_count": 117,
     "metadata": {},
     "output_type": "execute_result"
    }
   ],
   "source": [
    "find_outliers(data['Smokes (packs/year)'])"
   ]
  },
  {
   "cell_type": "code",
   "execution_count": 118,
   "metadata": {},
   "outputs": [],
   "source": [
    "##a = detect_outliers(data['Smokes (packs/year)'])"
   ]
  },
  {
   "cell_type": "code",
   "execution_count": 119,
   "metadata": {},
   "outputs": [],
   "source": [
    "##b = set(a)"
   ]
  },
  {
   "cell_type": "code",
   "execution_count": 120,
   "metadata": {},
   "outputs": [],
   "source": [
    "##for i in b:\n",
    "##    smokespack_index = []\n",
    "##    index = data[data['Smokes (packs/year)'] == i].index\n",
    "##    smokespack_index.extend(index)\n",
    "##    smokespack_index"
   ]
  },
  {
   "cell_type": "code",
   "execution_count": 121,
   "metadata": {},
   "outputs": [],
   "source": [
    "##index = [9, 804,44, 187, 592,57, 579,133, 386,201, 343, 388, 522,212, 426, 467,213,289, 338, 377, 587, 631,371,508, 512,722,\n",
    "##         723,795,394,774,805,422,539,612,735,837,46, 186, 259, 297, 451, 564, 648, 669, 770, 773, 781,53,96,74,67,337,396,428,\n",
    "##         145,478,506,691, 844,807,252, 446, 619, 780,3,6,42, 563,105, 216, 497, 801,111,81, 239,131,125, 374, 537, 650, 744, \n",
    "##         806,78,142,609,662,743,699,572,155,755,28,32, 107, 171, 193, 219, 263, 288, 305, 372, 457, 518, 586, 620, 668, 712, \n",
    "##         739, 782,61,174,264,290, 599, 676, 792,302, 550, 643,202, 687,414,573,704,380,842,227,649,834,616, 849]"
   ]
  },
  {
   "cell_type": "code",
   "execution_count": 122,
   "metadata": {},
   "outputs": [
    {
     "data": {
      "text/plain": [
       "Smokes (packs/year)  Biopsy\n",
       "0.000000             False     663\n",
       "                     True       44\n",
       "0.000997             False       1\n",
       "0.002969             False       1\n",
       "0.022982             False       1\n",
       "0.035023             False       1\n",
       "0.042410             False       3\n",
       "                     True        1\n",
       "0.072946             False       3\n",
       "0.095265             False       1\n",
       "0.098973             False       2\n",
       "0.111803             False       4\n",
       "0.124211             False       1\n",
       "0.133629             False       1\n",
       "0.136746             False       1\n",
       "0.143261             False       1\n",
       "0.146450             False       1\n",
       "0.150825             False       1\n",
       "0.151712             False       9\n",
       "                     True        1\n",
       "0.154275             False       1\n",
       "0.155060             False      16\n",
       "                     True        1\n",
       "0.162418             False       1\n",
       "0.163591             False       4\n",
       "0.164555             False       2\n",
       "0.166011             False       1\n",
       "0.167023             False       6\n",
       "0.168257             False       4\n",
       "0.168460             True        1\n",
       "0.168634             False       1\n",
       "0.168784             False       2\n",
       "0.168914             False       1\n",
       "                     True        1\n",
       "0.169283             False       2\n",
       "0.169348             False       1\n",
       "0.169632             False       3\n",
       "                     True        1\n",
       "0.169678             False       1\n",
       "0.169716             False       1\n",
       "0.169731             False       1\n",
       "0.169770             False       2\n",
       "0.169790             False       1\n",
       "0.169806             False       1\n",
       "0.169819             False       1\n",
       "0.169825             False       1\n",
       "0.169831             False       2\n",
       "0.169848             False       4\n",
       "                     True        1\n",
       "0.169865             True        1\n",
       "0.169869             True        1\n",
       "0.169872             False       2\n",
       "0.169883             False       1\n",
       "0.169889             False       2\n",
       "0.169891             False       1\n",
       "0.169892             False       3\n",
       "0.169893             False       1\n",
       "0.169894             False       1\n",
       "                     False       2\n",
       "                     True        1\n",
       "0.169895             False       2\n",
       "0.169896             False       1\n",
       "                     False       1\n",
       "                     False       2\n",
       "                     False       2\n",
       "                     False       3\n",
       "                     True        1\n",
       "                     False       1\n",
       "                     False       1\n",
       "                     False       1\n",
       "                     False       1\n",
       "Name: Biopsy, dtype: int64"
      ]
     },
     "execution_count": 122,
     "metadata": {},
     "output_type": "execute_result"
    }
   ],
   "source": [
    "data.groupby('Smokes (packs/year)').Biopsy.value_counts()"
   ]
  },
  {
   "cell_type": "code",
   "execution_count": 123,
   "metadata": {},
   "outputs": [],
   "source": [
    "##for i in index:\n",
    "##    data['Smokes (packs/year)'][i] = np.mean(data['Smokes (packs/year)'])"
   ]
  },
  {
   "cell_type": "code",
   "execution_count": 124,
   "metadata": {},
   "outputs": [
    {
     "data": {
      "text/plain": [
       "<matplotlib.axes._subplots.AxesSubplot at 0x244b01348d0>"
      ]
     },
     "execution_count": 124,
     "metadata": {},
     "output_type": "execute_result"
    },
    {
     "data": {
      "image/png": "[encoded data removed]",
      "text/plain": [
       "<Figure size 432x288 with 1 Axes>"
      ]
     },
     "metadata": {},
     "output_type": "display_data"
    }
   ],
   "source": [
    "sns.distplot(data['Smokes (packs/year)'])"
   ]
  },
  {
   "cell_type": "markdown",
   "metadata": {},
   "source": [
    "## For Hormonal Contraceptives (years)"
   ]
  },
  {
   "cell_type": "code",
   "execution_count": 125,
   "metadata": {},
   "outputs": [
    {
     "data": {
      "text/plain": [
       "<matplotlib.axes._subplots.AxesSubplot at 0x244b01e11d0>"
      ]
     },
     "execution_count": 125,
     "metadata": {},
     "output_type": "execute_result"
    },
    {
     "data": {
      "image/png": "[encoded data removed]",
      "text/plain": [
       "<Figure size 432x288 with 1 Axes>"
      ]
     },
     "metadata": {},
     "output_type": "display_data"
    }
   ],
   "source": [
    "sns.distplot(data['Hormonal Contraceptives (years)'])"
   ]
  },
  {
   "cell_type": "code",
   "execution_count": 126,
   "metadata": {},
   "outputs": [],
   "source": [
    "data['Hormonal Contraceptives (years)'] , lam = boxcox(data['Hormonal Contraceptives (years)']+1)"
   ]
  },
  {
   "cell_type": "code",
   "execution_count": 127,
   "metadata": {},
   "outputs": [
    {
     "data": {
      "text/plain": [
       "[]"
      ]
     },
     "execution_count": 127,
     "metadata": {},
     "output_type": "execute_result"
    }
   ],
   "source": [
    "find_outliers(data['Hormonal Contraceptives (years)'])"
   ]
  },
  {
   "cell_type": "code",
   "execution_count": 128,
   "metadata": {
    "scrolled": true
   },
   "outputs": [
    {
     "data": {
      "text/plain": [
       "[]"
      ]
     },
     "execution_count": 128,
     "metadata": {},
     "output_type": "execute_result"
    }
   ],
   "source": [
    "detect_outliers(data['Hormonal Contraceptives (years)'])"
   ]
  },
  {
   "cell_type": "code",
   "execution_count": 129,
   "metadata": {},
   "outputs": [
    {
     "data": {
      "text/plain": [
       "Hormonal Contraceptives (years)  Biopsy\n",
       "0.000000                         False     250\n",
       "                                 True       19\n",
       "0.075212                         False      24\n",
       "                                 True        1\n",
       "0.142006                         False      15\n",
       "                                 True        1\n",
       "0.149839                         False       1\n",
       "0.208857                         False      38\n",
       "                                 True        3\n",
       "0.262126                         False       8\n",
       "                                 True        1\n",
       "0.310502                         False       1\n",
       "0.316241                         False       6\n",
       "                                 True        2\n",
       "0.359933                         False      21\n",
       "                                 True        4\n",
       "0.400049                         False       5\n",
       "                                 True        1\n",
       "0.437042                         False       6\n",
       "0.441466                         False       2\n",
       "0.475392                         False       6\n",
       "                                 True        1\n",
       "0.567132                         False      73\n",
       "                                 True        4\n",
       "0.704956                         False       3\n",
       "0.804650                         False      39\n",
       "                                 True        1\n",
       "0.846062                         False      88\n",
       "0.849938                         False       2\n",
       "0.880840                         False       1\n",
       "0.941379                         False      36\n",
       "                                 True        3\n",
       "0.990899                         False       1\n",
       "1.032327                         False      21\n",
       "                                 True        1\n",
       "1.067615                         False       1\n",
       "1.098115                         False      34\n",
       "1.148392                         False      22\n",
       "                                 True        2\n",
       "1.169432                         False       1\n",
       "1.188341                         False      21\n",
       "1.221019                         False      18\n",
       "1.248358                         False      10\n",
       "                                 True        2\n",
       "1.271643                         False       9\n",
       "                                 True        2\n",
       "1.291770                         False       2\n",
       "1.309380                         False       4\n",
       "1.324948                         False       1\n",
       "                                 True        1\n",
       "1.338832                         True        2\n",
       "1.351310                         False       5\n",
       "                                 True        1\n",
       "1.362599                         True        2\n",
       "1.372874                         False       1\n",
       "1.390914                         False       2\n",
       "1.398890                         False       3\n",
       "                                 True        1\n",
       "1.413152                         False       1\n",
       "1.454841                         False       1\n",
       "Name: Biopsy, dtype: int64"
      ]
     },
     "execution_count": 129,
     "metadata": {},
     "output_type": "execute_result"
    }
   ],
   "source": [
    "data.groupby('Hormonal Contraceptives (years)').Biopsy.value_counts()"
   ]
  },
  {
   "cell_type": "markdown",
   "metadata": {},
   "source": [
    "##After transformation there it doesn't seem to have an outlier"
   ]
  },
  {
   "cell_type": "code",
   "execution_count": 130,
   "metadata": {},
   "outputs": [],
   "source": [
    "##harmonal_index = data[data['Hormonal Contraceptives (years)'] == 15].index\n",
    "##harmonal_index = harmonal_index.append(data[data['Hormonal Contraceptives (years)'] == 16].index)\n",
    "##harmonal_index = harmonal_index.append(data[data['Hormonal Contraceptives (years)'] == 17].index)\n",
    "##harmonal_index = harmonal_index.append(data[data['Hormonal Contraceptives (years)'] == 19].index)\n",
    "##harmonal_index = harmonal_index.append(data[data['Hormonal Contraceptives (years)'] == 20].index)\n",
    "##harmonal_index = harmonal_index.append(data[data['Hormonal Contraceptives (years)'] == 22].index)\n",
    "##harmonal_index = harmonal_index.append(data[data['Hormonal Contraceptives (years)'] == 30].index)\n",
    "##harmonal_index"
   ]
  },
  {
   "cell_type": "code",
   "execution_count": 131,
   "metadata": {},
   "outputs": [],
   "source": [
    "##for i in harmonal_index.values:\n",
    "##    data['Hormonal Contraceptives (years)'][i] = np.median(data['Hormonal Contraceptives (years)'])"
   ]
  },
  {
   "cell_type": "code",
   "execution_count": 132,
   "metadata": {},
   "outputs": [
    {
     "data": {
      "text/plain": [
       "<matplotlib.axes._subplots.AxesSubplot at 0x244b02dafd0>"
      ]
     },
     "execution_count": 132,
     "metadata": {},
     "output_type": "execute_result"
    },
    {
     "data": {
      "image/png": "[encoded data removed]",
      "text/plain": [
       "<Figure size 432x288 with 1 Axes>"
      ]
     },
     "metadata": {},
     "output_type": "display_data"
    }
   ],
   "source": [
    "sns.distplot(data['Hormonal Contraceptives (years)'])"
   ]
  },
  {
   "cell_type": "markdown",
   "metadata": {},
   "source": [
    "## For IUD (years)"
   ]
  },
  {
   "cell_type": "code",
   "execution_count": 133,
   "metadata": {},
   "outputs": [
    {
     "data": {
      "text/plain": [
       "<matplotlib.axes._subplots.AxesSubplot at 0x244b031f2e8>"
      ]
     },
     "execution_count": 133,
     "metadata": {},
     "output_type": "execute_result"
    },
    {
     "data": {
      "image/png": "[encoded data removed]",
      "text/plain": [
       "<Figure size 432x288 with 1 Axes>"
      ]
     },
     "metadata": {},
     "output_type": "display_data"
    }
   ],
   "source": [
    "sns.distplot(data['IUD (years)'])"
   ]
  },
  {
   "cell_type": "code",
   "execution_count": 134,
   "metadata": {},
   "outputs": [],
   "source": [
    "data[['IUD (years)']] , lam = boxcox(data['IUD (years)']+1)"
   ]
  },
  {
   "cell_type": "code",
   "execution_count": 135,
   "metadata": {},
   "outputs": [
    {
     "data": {
      "text/plain": [
       "[]"
      ]
     },
     "execution_count": 135,
     "metadata": {},
     "output_type": "execute_result"
    }
   ],
   "source": [
    "find_outliers(data['IUD (years)'])"
   ]
  },
  {
   "cell_type": "code",
   "execution_count": 136,
   "metadata": {},
   "outputs": [],
   "source": [
    "##detect_outliers(data['IUD (years)'])"
   ]
  },
  {
   "cell_type": "code",
   "execution_count": 137,
   "metadata": {},
   "outputs": [
    {
     "data": {
      "text/plain": [
       "count    838.000000\n",
       "mean       0.045839\n",
       "std        0.088702\n",
       "min        0.000000\n",
       "25%        0.000000\n",
       "50%        0.000000\n",
       "75%        0.000000\n",
       "max        0.243716\n",
       "Name: IUD (years), dtype: float64"
      ]
     },
     "execution_count": 137,
     "metadata": {},
     "output_type": "execute_result"
    }
   ],
   "source": [
    "data['IUD (years)'].describe()"
   ]
  },
  {
   "cell_type": "code",
   "execution_count": 138,
   "metadata": {},
   "outputs": [
    {
     "data": {
      "text/plain": [
       "IUD (years)  Biopsy\n",
       "0.000000     False     615\n",
       "             True       43\n",
       "0.065994     False       2\n",
       "0.111159     False       1\n",
       "0.115746     False       1\n",
       "0.146161     False       1\n",
       "0.168085     False       1\n",
       "0.184203     False       1\n",
       "0.197547     False       2\n",
       "0.199370     False      94\n",
       "             True        3\n",
       "0.206412     False       1\n",
       "0.226586     False       1\n",
       "0.229535     False       7\n",
       "             True        1\n",
       "0.238040     False       1\n",
       "0.241030     False       9\n",
       "             True        1\n",
       "0.242892     False       7\n",
       "             True        4\n",
       "0.243387     False       5\n",
       "0.243561     False       9\n",
       "0.243634     False       4\n",
       "             True        1\n",
       "0.243669     False       6\n",
       "             True        1\n",
       "0.243687     False       7\n",
       "0.243698     False       1\n",
       "0.243704     False       1\n",
       "0.243708     False       2\n",
       "             True        1\n",
       "0.243710     False       1\n",
       "0.243714     False       1\n",
       "0.243715     False       1\n",
       "0.243716     False       1\n",
       "Name: Biopsy, dtype: int64"
      ]
     },
     "execution_count": 138,
     "metadata": {},
     "output_type": "execute_result"
    }
   ],
   "source": [
    "data.groupby('IUD (years)').Biopsy.value_counts()"
   ]
  },
  {
   "cell_type": "code",
   "execution_count": 139,
   "metadata": {},
   "outputs": [],
   "source": [
    "##iud_index = data[data['IUD (years)'] == 6].index\n",
    "##iud_index = iud_index.append(data[data['IUD (years)'] == 7].index)\n",
    "##iud_index = iud_index.append(data[data['IUD (years)'] == 8].index)\n",
    "##iud_index = iud_index.append(data[data['IUD (years)'] == 9].index)\n",
    "##iud_index = iud_index.append(data[data['IUD (years)'] == 10].index)\n",
    "##iud_index = iud_index.append(data[data['IUD (years)'] == 11].index)\n",
    "##iud_index = iud_index.append(data[data['IUD (years)'] == 12].index)\n",
    "##iud_index = iud_index.append(data[data['IUD (years)'] == 15].index)\n",
    "##iud_index = iud_index.append(data[data['IUD (years)'] == 17].index)\n",
    "##iud_index = iud_index.append(data[data['IUD (years)'] == 19].index)\n",
    "##iud_index"
   ]
  },
  {
   "cell_type": "code",
   "execution_count": 140,
   "metadata": {},
   "outputs": [],
   "source": [
    "##for i in iud_index.values:\n",
    "##    data['IUD (years)'][i] = np.median(data['IUD (years)'])"
   ]
  },
  {
   "cell_type": "code",
   "execution_count": 141,
   "metadata": {},
   "outputs": [
    {
     "data": {
      "text/plain": [
       "<matplotlib.axes._subplots.AxesSubplot at 0x244b043e438>"
      ]
     },
     "execution_count": 141,
     "metadata": {},
     "output_type": "execute_result"
    },
    {
     "data": {
      "image/png": "[encoded data removed]",
      "text/plain": [
       "<Figure size 432x288 with 1 Axes>"
      ]
     },
     "metadata": {},
     "output_type": "display_data"
    }
   ],
   "source": [
    "sns.distplot(data['IUD (years)'])"
   ]
  },
  {
   "cell_type": "markdown",
   "metadata": {},
   "source": [
    "## So finished treating Outliers in Numerical Variables to a certain extent"
   ]
  },
  {
   "cell_type": "markdown",
   "metadata": {},
   "source": [
    "## Trial modelling to compare Box-Cox -- With Transformation"
   ]
  },
  {
   "cell_type": "code",
   "execution_count": 142,
   "metadata": {},
   "outputs": [],
   "source": [
    "x = data[['Hormonal Contraceptives' , 'IUD' , 'STDs' , 'STDs:condylomatosis' , 'STDs:vulvo-perineal condylomatosis' ,\n",
    "          'Age', 'Number of sexual partners', 'First sexual intercourse',\n",
    "       'Num of pregnancies', 'Smokes', 'Smokes (years)', 'Smokes (packs/year)','Hormonal Contraceptives (years)',\n",
    "          'IUD (years)','STDs (number)','STDs: Number of diagnosis','STDs:HIV']]\n",
    "\n",
    "y = data[['Biopsy']]"
   ]
  },
  {
   "cell_type": "code",
   "execution_count": 143,
   "metadata": {},
   "outputs": [],
   "source": [
    "x_train , x_test , y_train , y_test = train_test_split(x , y , test_size = 0.3 , random_state = 100)"
   ]
  },
  {
   "cell_type": "code",
   "execution_count": 144,
   "metadata": {},
   "outputs": [],
   "source": [
    "seed = 10"
   ]
  },
  {
   "cell_type": "code",
   "execution_count": 145,
   "metadata": {},
   "outputs": [],
   "source": [
    "kfold = model_selection.KFold(n_splits=10 , random_state=seed)\n",
    "model = RandomForestClassifier()\n",
    "scoring = 'accuracy'"
   ]
  },
  {
   "cell_type": "code",
   "execution_count": 146,
   "metadata": {},
   "outputs": [
    {
     "name": "stdout",
     "output_type": "stream",
     "text": [
      "Accuracy : 0.934(0.019)\n"
     ]
    }
   ],
   "source": [
    "results = model_selection.cross_val_score(model , x_train , y_train , cv=kfold , scoring=scoring)\n",
    "print('Accuracy : %.3f(%.3f)' % (results.mean() , results.std()))"
   ]
  },
  {
   "cell_type": "code",
   "execution_count": 147,
   "metadata": {},
   "outputs": [
    {
     "data": {
      "text/plain": [
       "RandomForestClassifier(bootstrap=True, class_weight=None, criterion='gini',\n",
       "            max_depth=None, max_features='auto', max_leaf_nodes=None,\n",
       "            min_impurity_decrease=0.0, min_impurity_split=None,\n",
       "            min_samples_leaf=1, min_samples_split=2,\n",
       "            min_weight_fraction_leaf=0.0, n_estimators=10, n_jobs=None,\n",
       "            oob_score=False, random_state=None, verbose=0,\n",
       "            warm_start=False)"
      ]
     },
     "execution_count": 147,
     "metadata": {},
     "output_type": "execute_result"
    }
   ],
   "source": [
    "model.fit(x_train , y_train)"
   ]
  },
  {
   "cell_type": "code",
   "execution_count": 148,
   "metadata": {},
   "outputs": [],
   "source": [
    "prediction = model.predict(x_test)"
   ]
  },
  {
   "cell_type": "code",
   "execution_count": 149,
   "metadata": {},
   "outputs": [
    {
     "data": {
      "text/plain": [
       "0.9126984126984127"
      ]
     },
     "execution_count": 149,
     "metadata": {},
     "output_type": "execute_result"
    }
   ],
   "source": [
    "metrics.accuracy_score(prediction , y_test)"
   ]
  },
  {
   "cell_type": "code",
   "execution_count": 150,
   "metadata": {},
   "outputs": [
    {
     "name": "stdout",
     "output_type": "stream",
     "text": [
      "              precision    recall  f1-score   support\n",
      "\n",
      "       False       0.93      0.97      0.95       234\n",
      "        True       0.25      0.11      0.15        18\n",
      "\n",
      "   micro avg       0.91      0.91      0.91       252\n",
      "   macro avg       0.59      0.54      0.55       252\n",
      "weighted avg       0.89      0.91      0.90       252\n",
      "\n"
     ]
    }
   ],
   "source": [
    "print(metrics.classification_report(y_test , prediction))"
   ]
  },
  {
   "cell_type": "code",
   "execution_count": 151,
   "metadata": {},
   "outputs": [],
   "source": [
    "kfold = model_selection.KFold(n_splits=10 , random_state=seed)\n",
    "model = RandomForestClassifier(max_depth=5)\n",
    "scoring = 'roc_auc'"
   ]
  },
  {
   "cell_type": "code",
   "execution_count": 152,
   "metadata": {},
   "outputs": [
    {
     "name": "stdout",
     "output_type": "stream",
     "text": [
      "AUC : 0.628(0.168)\n"
     ]
    }
   ],
   "source": [
    "results = model_selection.cross_val_score(model , x_train, y_train , cv=kfold , scoring=scoring)\n",
    "print('AUC : %.3f(%.3f)' % (results.mean() , results.std()))"
   ]
  },
  {
   "cell_type": "markdown",
   "metadata": {},
   "source": [
    "##Since after trying multiple time Cross-Validation it seems With transformation gives better result. So lets proceed with it."
   ]
  },
  {
   "cell_type": "markdown",
   "metadata": {},
   "source": [
    "## First we going to make target column as three class using RF probabilities and perform LDA to check for Discriminant class."
   ]
  },
  {
   "cell_type": "code",
   "execution_count": 153,
   "metadata": {},
   "outputs": [],
   "source": [
    "data1 = data[['Hormonal Contraceptives' , 'IUD' , 'STDs' , 'STDs:condylomatosis' , 'STDs:vulvo-perineal condylomatosis' ,\n",
    "          'Age', 'Number of sexual partners', 'First sexual intercourse',\n",
    "       'Num of pregnancies', 'Smokes', 'Smokes (years)', 'Smokes (packs/year)','Hormonal Contraceptives (years)',\n",
    "          'IUD (years)','STDs (number)','STDs: Number of diagnosis','STDs:HIV' ,'Biopsy']]"
   ]
  },
  {
   "cell_type": "code",
   "execution_count": 154,
   "metadata": {},
   "outputs": [],
   "source": [
    "x = data1[['Hormonal Contraceptives' , 'IUD' , 'STDs' , 'STDs:condylomatosis' , 'STDs:vulvo-perineal condylomatosis' ,\n",
    "          'Age', 'Number of sexual partners', 'First sexual intercourse',\n",
    "       'Num of pregnancies', 'Smokes', 'Smokes (years)', 'Smokes (packs/year)','Hormonal Contraceptives (years)',\n",
    "          'IUD (years)','STDs (number)','STDs: Number of diagnosis','STDs:HIV']]\n",
    "\n",
    "y = data1[['Biopsy']]"
   ]
  },
  {
   "cell_type": "code",
   "execution_count": 155,
   "metadata": {},
   "outputs": [],
   "source": [
    "clf = RandomForestClassifier(max_depth=5 , random_state=555)"
   ]
  },
  {
   "cell_type": "code",
   "execution_count": 156,
   "metadata": {},
   "outputs": [
    {
     "data": {
      "text/plain": [
       "RandomForestClassifier(bootstrap=True, class_weight=None, criterion='gini',\n",
       "            max_depth=5, max_features='auto', max_leaf_nodes=None,\n",
       "            min_impurity_decrease=0.0, min_impurity_split=None,\n",
       "            min_samples_leaf=1, min_samples_split=2,\n",
       "            min_weight_fraction_leaf=0.0, n_estimators=10, n_jobs=None,\n",
       "            oob_score=False, random_state=555, verbose=0, warm_start=False)"
      ]
     },
     "execution_count": 156,
     "metadata": {},
     "output_type": "execute_result"
    }
   ],
   "source": [
    "clf.fit(x , y)"
   ]
  },
  {
   "cell_type": "code",
   "execution_count": 157,
   "metadata": {},
   "outputs": [],
   "source": [
    "prob = clf.predict_proba(x)"
   ]
  },
  {
   "cell_type": "code",
   "execution_count": 158,
   "metadata": {},
   "outputs": [],
   "source": [
    "prob = pd.DataFrame(prob)"
   ]
  },
  {
   "cell_type": "code",
   "execution_count": 159,
   "metadata": {},
   "outputs": [],
   "source": [
    "prob.drop(1 , axis=1 , inplace=True)"
   ]
  },
  {
   "cell_type": "code",
   "execution_count": 160,
   "metadata": {},
   "outputs": [],
   "source": [
    "prob[prob[0]>0.8] = 0"
   ]
  },
  {
   "cell_type": "code",
   "execution_count": 161,
   "metadata": {},
   "outputs": [],
   "source": [
    "prob[(prob[0]<0.6) & (prob[0] != 0)] = 1"
   ]
  },
  {
   "cell_type": "code",
   "execution_count": 162,
   "metadata": {},
   "outputs": [],
   "source": [
    "prob[(prob[0] >= 0.6) & (prob[0] <= 0.8)] = 2"
   ]
  },
  {
   "cell_type": "code",
   "execution_count": 163,
   "metadata": {},
   "outputs": [
    {
     "data": {
      "text/plain": [
       "0.0    800\n",
       "2.0     30\n",
       "1.0      8\n",
       "Name: 0, dtype: int64"
      ]
     },
     "execution_count": 163,
     "metadata": {},
     "output_type": "execute_result"
    }
   ],
   "source": [
    "prob[0].value_counts()"
   ]
  },
  {
   "cell_type": "markdown",
   "metadata": {},
   "source": [
    "### LDA"
   ]
  },
  {
   "cell_type": "code",
   "execution_count": 164,
   "metadata": {},
   "outputs": [],
   "source": [
    "data1['prob_biopsy'] = prob"
   ]
  },
  {
   "cell_type": "code",
   "execution_count": 165,
   "metadata": {},
   "outputs": [
    {
     "data": {
      "text/plain": [
       "0.0    800\n",
       "2.0     30\n",
       "1.0      8\n",
       "Name: prob_biopsy, dtype: int64"
      ]
     },
     "execution_count": 165,
     "metadata": {},
     "output_type": "execute_result"
    }
   ],
   "source": [
    "data1.prob_biopsy.value_counts()"
   ]
  },
  {
   "cell_type": "code",
   "execution_count": 166,
   "metadata": {},
   "outputs": [],
   "source": [
    "x = data1[['Hormonal Contraceptives' , 'IUD' , 'STDs' , 'STDs:condylomatosis' , 'STDs:vulvo-perineal condylomatosis' ,\n",
    "          'Age', 'Number of sexual partners', 'First sexual intercourse',\n",
    "       'Num of pregnancies', 'Smokes', 'Smokes (years)', 'Smokes (packs/year)','Hormonal Contraceptives (years)',\n",
    "          'IUD (years)','STDs (number)','STDs: Number of diagnosis','STDs:HIV']]\n",
    "\n",
    "y = data1[['prob_biopsy']]"
   ]
  },
  {
   "cell_type": "code",
   "execution_count": 167,
   "metadata": {},
   "outputs": [],
   "source": [
    "x_train , x_test , y_train , y_test = train_test_split(x , y , test_size = 0.3 , random_state = 100)"
   ]
  },
  {
   "cell_type": "code",
   "execution_count": 168,
   "metadata": {},
   "outputs": [],
   "source": [
    "lda = LinearDiscriminantAnalysis()"
   ]
  },
  {
   "cell_type": "code",
   "execution_count": 169,
   "metadata": {},
   "outputs": [],
   "source": [
    "seed = 10"
   ]
  },
  {
   "cell_type": "code",
   "execution_count": 170,
   "metadata": {},
   "outputs": [],
   "source": [
    "kfold = model_selection.KFold(n_splits=10 , random_state=seed)\n",
    "model = LinearDiscriminantAnalysis()\n",
    "scoring = 'accuracy'"
   ]
  },
  {
   "cell_type": "code",
   "execution_count": 171,
   "metadata": {},
   "outputs": [
    {
     "name": "stdout",
     "output_type": "stream",
     "text": [
      "Accuracy : 0.922(0.031)\n"
     ]
    }
   ],
   "source": [
    "results = model_selection.cross_val_score(model , x_train , y_train , cv=kfold , scoring=scoring)\n",
    "print('Accuracy : %.3f(%.3f)' % (results.mean() , results.std()))"
   ]
  },
  {
   "cell_type": "code",
   "execution_count": 172,
   "metadata": {},
   "outputs": [
    {
     "name": "stdout",
     "output_type": "stream",
     "text": [
      "Accuracy : 0.9642857142857143\n",
      "\n",
      "\n",
      " Classfication Table :\n",
      "\n",
      "               precision    recall  f1-score   support\n",
      "\n",
      "         0.0       0.98      0.98      0.98       244\n",
      "         1.0       0.00      0.00      0.00         2\n",
      "         2.0       0.38      0.50      0.43         6\n",
      "\n",
      "   micro avg       0.96      0.96      0.96       252\n",
      "   macro avg       0.45      0.49      0.47       252\n",
      "weighted avg       0.96      0.96      0.96       252\n",
      "\n"
     ]
    }
   ],
   "source": [
    "lda.fit(x_train , y_train)\n",
    "prediction = lda.predict(x_test)\n",
    "print('Accuracy :' , metrics.accuracy_score(y_test, prediction))\n",
    "print('\\n\\n Classfication Table :\\n\\n' , metrics.classification_report(y_test , prediction))"
   ]
  },
  {
   "cell_type": "code",
   "execution_count": 1,
   "metadata": {},
   "outputs": [],
   "source": [
    "##There doesn't seem to exist an discriminant class"
   ]
  },
  {
   "cell_type": "markdown",
   "metadata": {},
   "source": [
    "## End-To-End "
   ]
  },
  {
   "cell_type": "code",
   "execution_count": 174,
   "metadata": {},
   "outputs": [],
   "source": [
    "x = data1[['Hormonal Contraceptives' , 'IUD' , 'STDs' , 'STDs:condylomatosis' , 'STDs:vulvo-perineal condylomatosis' ,\n",
    "          'Age', 'Number of sexual partners', 'First sexual intercourse',\n",
    "       'Num of pregnancies', 'Smokes', 'Smokes (years)', 'Smokes (packs/year)','Hormonal Contraceptives (years)',\n",
    "          'IUD (years)','STDs (number)','STDs: Number of diagnosis','STDs:HIV']]\n",
    "\n",
    "y = data1[['Biopsy']]"
   ]
  },
  {
   "cell_type": "code",
   "execution_count": 175,
   "metadata": {},
   "outputs": [],
   "source": [
    "x_train , x_test , y_train , y_test = train_test_split(x , y , test_size = 0.3 , random_state = 100)"
   ]
  },
  {
   "cell_type": "code",
   "execution_count": 176,
   "metadata": {},
   "outputs": [],
   "source": [
    "# Test options and evaluation metric\n",
    "num_folds = 10\n",
    "seed = 7\n",
    "scoring = 'accuracy'"
   ]
  },
  {
   "cell_type": "code",
   "execution_count": 177,
   "metadata": {},
   "outputs": [],
   "source": [
    "models = []\n",
    "models.append(('LR', LogisticRegression()))\n",
    "models.append(('KNN', KNeighborsClassifier()))\n",
    "models.append(('CART', DecisionTreeClassifier()))\n",
    "models.append(('NB' , GaussianNB()))"
   ]
  },
  {
   "cell_type": "code",
   "execution_count": 178,
   "metadata": {},
   "outputs": [
    {
     "name": "stdout",
     "output_type": "stream",
     "text": [
      "LR: 0.936879 (0.020187)\n",
      "KNN: 0.936879 (0.020187)\n",
      "CART: 0.875511 (0.042880)\n",
      "NB: 0.866891 (0.048730)\n"
     ]
    }
   ],
   "source": [
    "# evaluate each model in turn\n",
    "results = []\n",
    "names = []\n",
    "for name, model in models:\n",
    "    kfold = KFold(n_splits=num_folds, random_state=seed)\n",
    "    cv_results = cross_val_score(model, x_train, y_train, cv=kfold, scoring=scoring)\n",
    "    results.append(cv_results)\n",
    "    names.append(name)\n",
    "    msg = \"%s: %f (%f)\" % (name, cv_results.mean(), cv_results.std())\n",
    "    print(msg)"
   ]
  },
  {
   "cell_type": "markdown",
   "metadata": {},
   "source": [
    "## Standardising"
   ]
  },
  {
   "cell_type": "code",
   "execution_count": 179,
   "metadata": {},
   "outputs": [],
   "source": [
    "# Standardize the dataset\n",
    "pipelines = []\n",
    "pipelines.append(('ScaledLR', Pipeline([('Scaler', StandardScaler()), ('LR', LogisticRegression())])))\n",
    "pipelines.append(('ScaledKNN', Pipeline([('Scaler', StandardScaler()), ('KNN', KNeighborsClassifier())])))\n",
    "pipelines.append(('ScaledCART', Pipeline([('Scaler', StandardScaler()), ('CART', DecisionTreeClassifier())])))\n",
    "pipelines.append(('ScaledNB' , Pipeline([('Scaler' , StandardScaler()), ('NB', GaussianNB())])))"
   ]
  },
  {
   "cell_type": "code",
   "execution_count": 180,
   "metadata": {},
   "outputs": [
    {
     "name": "stdout",
     "output_type": "stream",
     "text": [
      "ScaledLR: 0.936879 (0.020187)\n",
      "ScaledKNN: 0.936879 (0.020187)\n",
      "ScaledCART: 0.866978 (0.042800)\n",
      "ScaledNB: 0.866891 (0.048730)\n"
     ]
    }
   ],
   "source": [
    "results = []\n",
    "names = []\n",
    "for name, model in pipelines:\n",
    "    kfold = KFold(n_splits=num_folds, random_state=seed)\n",
    "    cv_results = cross_val_score(model, x_train, y_train, cv=kfold, scoring=scoring)\n",
    "    results.append(cv_results)\n",
    "    names.append(name)\n",
    "    msg = \"%s: %f (%f)\" % (name, cv_results.mean(), cv_results.std())\n",
    "    print(msg)"
   ]
  },
  {
   "cell_type": "markdown",
   "metadata": {},
   "source": [
    "## Tuning KNN"
   ]
  },
  {
   "cell_type": "code",
   "execution_count": 181,
   "metadata": {},
   "outputs": [],
   "source": [
    "# KNN Algorithm tuning\n",
    "\n",
    "scaler = StandardScaler().fit(x_train)\n",
    "scaledX = scaler.transform(x_train)\n",
    "k_values = np.array([1,3,5,7,9,11,13,15,17,19,21])\n",
    "param_grid = dict(n_neighbors=k_values)\n",
    "model = KNeighborsClassifier()\n",
    "kfold = KFold(n_splits=num_folds, random_state=seed)\n",
    "grid = GridSearchCV(estimator=model, param_grid=param_grid, scoring=scoring, cv=kfold)\n",
    "grid_result = grid.fit(scaledX, y_train)"
   ]
  },
  {
   "cell_type": "code",
   "execution_count": 182,
   "metadata": {},
   "outputs": [
    {
     "name": "stdout",
     "output_type": "stream",
     "text": [
      "Best: 0.936860 using {'n_neighbors': 5}\n",
      "0.902730 (0.013365) with: {'n_neighbors': 1}\n",
      "0.926621 (0.018544) with: {'n_neighbors': 3}\n",
      "0.936860 (0.020192) with: {'n_neighbors': 5}\n",
      "0.936860 (0.020192) with: {'n_neighbors': 7}\n",
      "0.936860 (0.020192) with: {'n_neighbors': 9}\n",
      "0.936860 (0.020192) with: {'n_neighbors': 11}\n",
      "0.936860 (0.020192) with: {'n_neighbors': 13}\n",
      "0.936860 (0.020192) with: {'n_neighbors': 15}\n",
      "0.936860 (0.020192) with: {'n_neighbors': 17}\n",
      "0.936860 (0.020192) with: {'n_neighbors': 19}\n",
      "0.936860 (0.020192) with: {'n_neighbors': 21}\n"
     ]
    }
   ],
   "source": [
    "print(\"Best: %f using %s\" % (grid_result.best_score_, grid_result.best_params_))\n",
    "means = grid_result.cv_results_['mean_test_score']\n",
    "stds = grid_result.cv_results_['std_test_score']\n",
    "params = grid_result.cv_results_['params']\n",
    "for mean, stdev, param in zip(means, stds, params):\n",
    "    print(\"%f (%f) with: %r\" % (mean, stdev, param))"
   ]
  },
  {
   "cell_type": "markdown",
   "metadata": {},
   "source": [
    "##So the best result is from Logistics Regression and KNN which both gives same result"
   ]
  },
  {
   "cell_type": "markdown",
   "metadata": {},
   "source": [
    "## Ensemble Techniques"
   ]
  },
  {
   "cell_type": "code",
   "execution_count": 183,
   "metadata": {},
   "outputs": [],
   "source": [
    "# ensembles\n",
    "ensembles = []\n",
    "ensembles.append(('ScaledAB', Pipeline([('Scaler', StandardScaler()),('AB', AdaBoostClassifier())])))\n",
    "ensembles.append(('ScaledRF', Pipeline([('Scaler', StandardScaler()),('RF', RandomForestClassifier())])))\n",
    "ensembles.append(('ScaledBG', Pipeline([('Scaler' , StandardScaler()), ('BG', BaggingClassifier())])))\n",
    "ensembles.append(('ScaledGB', Pipeline([('Scaler', StandardScaler()), ('GB', GradientBoostingClassifier())])))"
   ]
  },
  {
   "cell_type": "code",
   "execution_count": 184,
   "metadata": {},
   "outputs": [
    {
     "name": "stdout",
     "output_type": "stream",
     "text": [
      "ScaledAB: 0.924956 (0.026550)\n",
      "ScaledRF: 0.931765 (0.017047)\n",
      "ScaledBG: 0.933518 (0.021956)\n",
      "ScaledGB: 0.926680 (0.027398)\n"
     ]
    }
   ],
   "source": [
    "results = []\n",
    "names = []\n",
    "for name, model in ensembles: \n",
    "    kfold = KFold(n_splits=num_folds, random_state=seed) \n",
    "    cv_results = cross_val_score(model, x_train, y_train, cv=kfold, scoring=scoring)\n",
    "    results.append(cv_results)\n",
    "    names.append(name)\n",
    "    msg = \"%s: %f (%f)\" % (name, cv_results.mean(), cv_results.std())\n",
    "    print(msg)"
   ]
  },
  {
   "cell_type": "markdown",
   "metadata": {},
   "source": [
    "## Changing base-estimator for AdaBoost and Bagging "
   ]
  },
  {
   "cell_type": "code",
   "execution_count": 185,
   "metadata": {},
   "outputs": [],
   "source": [
    "# Base as Logistic Regression\n",
    "\n",
    "ensembles = []\n",
    "ensembles.append(('ScaledAB', Pipeline([('Scaler', StandardScaler()),('AB', AdaBoostClassifier(base_estimator=LogisticRegression()))])))\n",
    "ensembles.append(('ScaledRF', Pipeline([('Scaler', StandardScaler()),('RF', RandomForestClassifier())])))\n",
    "ensembles.append(('ScaledBG', Pipeline([('Scaler' , StandardScaler()), ('BG', BaggingClassifier(base_estimator=LogisticRegression()))])))\n",
    "ensembles.append(('ScaledGB', Pipeline([('Scaler', StandardScaler()), ('GB', GradientBoostingClassifier())])))"
   ]
  },
  {
   "cell_type": "code",
   "execution_count": 186,
   "metadata": {},
   "outputs": [
    {
     "name": "stdout",
     "output_type": "stream",
     "text": [
      "ScaledAB: 0.936879 (0.020187)\n",
      "ScaledRF: 0.935184 (0.016639)\n",
      "ScaledBG: 0.935184 (0.019793)\n",
      "ScaledGB: 0.923261 (0.026537)\n"
     ]
    }
   ],
   "source": [
    "results = []\n",
    "names = []\n",
    "for name, model in ensembles: \n",
    "    kfold = KFold(n_splits=num_folds, random_state=seed) \n",
    "    cv_results = cross_val_score(model, x_train, y_train, cv=kfold, scoring=scoring)\n",
    "    results.append(cv_results)\n",
    "    names.append(name)\n",
    "    msg = \"%s: %f (%f)\" % (name, cv_results.mean(), cv_results.std())\n",
    "    print(msg)"
   ]
  },
  {
   "cell_type": "code",
   "execution_count": 187,
   "metadata": {},
   "outputs": [],
   "source": [
    "## Base as KNN for Bagging\n",
    "\n",
    "ensembles = []\n",
    "ensembles.append(('ScaledAB', Pipeline([('Scaler', StandardScaler()),('AB', AdaBoostClassifier(base_estimator=LogisticRegression()))])))\n",
    "ensembles.append(('ScaledRF', Pipeline([('Scaler', StandardScaler()),('RF', RandomForestClassifier())])))\n",
    "ensembles.append(('ScaledBG', Pipeline([('Scaler' , StandardScaler()), ('BG', BaggingClassifier(base_estimator=KNeighborsClassifier()))])))\n",
    "ensembles.append(('ScaledGB', Pipeline([('Scaler', StandardScaler()), ('GB', GradientBoostingClassifier())])))"
   ]
  },
  {
   "cell_type": "code",
   "execution_count": 188,
   "metadata": {},
   "outputs": [
    {
     "name": "stdout",
     "output_type": "stream",
     "text": [
      "ScaledAB: 0.936879 (0.020187)\n",
      "ScaledRF: 0.933518 (0.023228)\n",
      "ScaledBG: 0.933460 (0.022097)\n",
      "ScaledGB: 0.924985 (0.027528)\n"
     ]
    }
   ],
   "source": [
    "results = []\n",
    "names = []\n",
    "for name, model in ensembles: \n",
    "    kfold = KFold(n_splits=num_folds, random_state=seed) \n",
    "    cv_results = cross_val_score(model, x_train, y_train, cv=kfold, scoring=scoring)\n",
    "    results.append(cv_results)\n",
    "    names.append(name)\n",
    "    msg = \"%s: %f (%f)\" % (name, cv_results.mean(), cv_results.std())\n",
    "    print(msg)"
   ]
  },
  {
   "cell_type": "markdown",
   "metadata": {},
   "source": [
    "##So Ada-Boost with LogisticRegression as base-estimator performing slightly better than other ensemble.\n",
    "##Even lets try tuning parameters for top three performers from above"
   ]
  },
  {
   "cell_type": "code",
   "execution_count": 189,
   "metadata": {},
   "outputs": [],
   "source": [
    "##Parameters for RF\n",
    "\n",
    "param_grid = dict(n_estimators=np.array([10, 20, 30, 40, 50, 60, 70, 80, 90, 100]) , max_depth = np.array([1,3,5,7,9,10,13]))"
   ]
  },
  {
   "cell_type": "code",
   "execution_count": 190,
   "metadata": {},
   "outputs": [],
   "source": [
    "# Tune scaled Random Forest\n",
    "scaler = StandardScaler().fit(x_train)\n",
    "rescaledX = scaler.transform(x_train)\n",
    "model = RandomForestClassifier(random_state=seed)\n",
    "kfold = KFold(n_splits=num_folds, random_state=seed)\n",
    "grid = GridSearchCV(estimator=model, param_grid=param_grid, scoring=scoring, cv=kfold)\n",
    "grid_result = grid.fit(rescaledX, y_train)"
   ]
  },
  {
   "cell_type": "code",
   "execution_count": 191,
   "metadata": {},
   "outputs": [
    {
     "name": "stdout",
     "output_type": "stream",
     "text": [
      "Best: 0.938567 using {'max_depth': 10, 'n_estimators': 10}\n",
      "0.936860 (0.020192) with: {'max_depth': 1, 'n_estimators': 10}\n",
      "0.936860 (0.020192) with: {'max_depth': 1, 'n_estimators': 20}\n",
      "0.936860 (0.020192) with: {'max_depth': 1, 'n_estimators': 30}\n",
      "0.936860 (0.020192) with: {'max_depth': 1, 'n_estimators': 40}\n",
      "0.936860 (0.020192) with: {'max_depth': 1, 'n_estimators': 50}\n",
      "0.936860 (0.020192) with: {'max_depth': 1, 'n_estimators': 60}\n",
      "0.936860 (0.020192) with: {'max_depth': 1, 'n_estimators': 70}\n",
      "0.936860 (0.020192) with: {'max_depth': 1, 'n_estimators': 80}\n",
      "0.936860 (0.020192) with: {'max_depth': 1, 'n_estimators': 90}\n",
      "0.936860 (0.020192) with: {'max_depth': 1, 'n_estimators': 100}\n",
      "0.935154 (0.019881) with: {'max_depth': 3, 'n_estimators': 10}\n",
      "0.936860 (0.020192) with: {'max_depth': 3, 'n_estimators': 20}\n",
      "0.936860 (0.020192) with: {'max_depth': 3, 'n_estimators': 30}\n",
      "0.936860 (0.020192) with: {'max_depth': 3, 'n_estimators': 40}\n",
      "0.936860 (0.020192) with: {'max_depth': 3, 'n_estimators': 50}\n",
      "0.936860 (0.020192) with: {'max_depth': 3, 'n_estimators': 60}\n",
      "0.936860 (0.020192) with: {'max_depth': 3, 'n_estimators': 70}\n",
      "0.936860 (0.020192) with: {'max_depth': 3, 'n_estimators': 80}\n",
      "0.936860 (0.020192) with: {'max_depth': 3, 'n_estimators': 90}\n",
      "0.936860 (0.020192) with: {'max_depth': 3, 'n_estimators': 100}\n",
      "0.935154 (0.019793) with: {'max_depth': 5, 'n_estimators': 10}\n",
      "0.936860 (0.020192) with: {'max_depth': 5, 'n_estimators': 20}\n",
      "0.935154 (0.023776) with: {'max_depth': 5, 'n_estimators': 30}\n",
      "0.935154 (0.023776) with: {'max_depth': 5, 'n_estimators': 40}\n",
      "0.936860 (0.020192) with: {'max_depth': 5, 'n_estimators': 50}\n",
      "0.936860 (0.020192) with: {'max_depth': 5, 'n_estimators': 60}\n",
      "0.936860 (0.020192) with: {'max_depth': 5, 'n_estimators': 70}\n",
      "0.936860 (0.020192) with: {'max_depth': 5, 'n_estimators': 80}\n",
      "0.936860 (0.020192) with: {'max_depth': 5, 'n_estimators': 90}\n",
      "0.936860 (0.020192) with: {'max_depth': 5, 'n_estimators': 100}\n",
      "0.935154 (0.019793) with: {'max_depth': 7, 'n_estimators': 10}\n",
      "0.935154 (0.019793) with: {'max_depth': 7, 'n_estimators': 20}\n",
      "0.936860 (0.020192) with: {'max_depth': 7, 'n_estimators': 30}\n",
      "0.936860 (0.020192) with: {'max_depth': 7, 'n_estimators': 40}\n",
      "0.936860 (0.020192) with: {'max_depth': 7, 'n_estimators': 50}\n",
      "0.936860 (0.020192) with: {'max_depth': 7, 'n_estimators': 60}\n",
      "0.936860 (0.020192) with: {'max_depth': 7, 'n_estimators': 70}\n",
      "0.936860 (0.020192) with: {'max_depth': 7, 'n_estimators': 80}\n",
      "0.936860 (0.020192) with: {'max_depth': 7, 'n_estimators': 90}\n",
      "0.936860 (0.020192) with: {'max_depth': 7, 'n_estimators': 100}\n",
      "0.933447 (0.024432) with: {'max_depth': 9, 'n_estimators': 10}\n",
      "0.933447 (0.022039) with: {'max_depth': 9, 'n_estimators': 20}\n",
      "0.935154 (0.019793) with: {'max_depth': 9, 'n_estimators': 30}\n",
      "0.935154 (0.019793) with: {'max_depth': 9, 'n_estimators': 40}\n",
      "0.935154 (0.019793) with: {'max_depth': 9, 'n_estimators': 50}\n",
      "0.936860 (0.018585) with: {'max_depth': 9, 'n_estimators': 60}\n",
      "0.936860 (0.020192) with: {'max_depth': 9, 'n_estimators': 70}\n",
      "0.936860 (0.020192) with: {'max_depth': 9, 'n_estimators': 80}\n",
      "0.936860 (0.020192) with: {'max_depth': 9, 'n_estimators': 90}\n",
      "0.936860 (0.020192) with: {'max_depth': 9, 'n_estimators': 100}\n",
      "0.938567 (0.018855) with: {'max_depth': 10, 'n_estimators': 10}\n",
      "0.935154 (0.018246) with: {'max_depth': 10, 'n_estimators': 20}\n",
      "0.938567 (0.018855) with: {'max_depth': 10, 'n_estimators': 30}\n",
      "0.936860 (0.018585) with: {'max_depth': 10, 'n_estimators': 40}\n",
      "0.936860 (0.018585) with: {'max_depth': 10, 'n_estimators': 50}\n",
      "0.936860 (0.021473) with: {'max_depth': 10, 'n_estimators': 60}\n",
      "0.938567 (0.018855) with: {'max_depth': 10, 'n_estimators': 70}\n",
      "0.938567 (0.018855) with: {'max_depth': 10, 'n_estimators': 80}\n",
      "0.938567 (0.018855) with: {'max_depth': 10, 'n_estimators': 90}\n",
      "0.938567 (0.018855) with: {'max_depth': 10, 'n_estimators': 100}\n",
      "0.936860 (0.018490) with: {'max_depth': 13, 'n_estimators': 10}\n",
      "0.935154 (0.023703) with: {'max_depth': 13, 'n_estimators': 20}\n",
      "0.936860 (0.024037) with: {'max_depth': 13, 'n_estimators': 30}\n",
      "0.935154 (0.023703) with: {'max_depth': 13, 'n_estimators': 40}\n",
      "0.938567 (0.020356) with: {'max_depth': 13, 'n_estimators': 50}\n",
      "0.936860 (0.024037) with: {'max_depth': 13, 'n_estimators': 60}\n",
      "0.938567 (0.020356) with: {'max_depth': 13, 'n_estimators': 70}\n",
      "0.938567 (0.020356) with: {'max_depth': 13, 'n_estimators': 80}\n",
      "0.936860 (0.020192) with: {'max_depth': 13, 'n_estimators': 90}\n",
      "0.936860 (0.020192) with: {'max_depth': 13, 'n_estimators': 100}\n"
     ]
    }
   ],
   "source": [
    "print(\"Best: %f using %s\" % (grid_result.best_score_, grid_result.best_params_))\n",
    "means = grid_result.cv_results_['mean_test_score']\n",
    "stds = grid_result.cv_results_['std_test_score']\n",
    "params = grid_result.cv_results_['params']\n",
    "for mean, stdev, param in zip(means, stds, params): \n",
    "    print(\"%f (%f) with: %r\" % (mean, stdev, param))"
   ]
  },
  {
   "cell_type": "markdown",
   "metadata": {},
   "source": [
    "## Random forest Best: 0.938567 using {'max_depth': 10, 'n_estimators': 10}"
   ]
  },
  {
   "cell_type": "code",
   "execution_count": 192,
   "metadata": {},
   "outputs": [],
   "source": [
    "##Parameters for AdaBoost\n",
    "\n",
    "param_grid = dict(n_estimators=np.array([10, 20, 30, 40, 50, 60, 70, 80, 90, 100]))"
   ]
  },
  {
   "cell_type": "code",
   "execution_count": 193,
   "metadata": {},
   "outputs": [],
   "source": [
    "# Tune scaled Ada Boost\n",
    "scaler = StandardScaler().fit(x_train)\n",
    "rescaledX = scaler.transform(x_train)\n",
    "model = AdaBoostClassifier(base_estimator=LogisticRegression() , random_state=seed)\n",
    "kfold = KFold(n_splits=num_folds, random_state=seed)\n",
    "grid = GridSearchCV(estimator=model, param_grid=param_grid, scoring=scoring, cv=kfold)\n",
    "grid_result = grid.fit(rescaledX, y_train)"
   ]
  },
  {
   "cell_type": "code",
   "execution_count": 194,
   "metadata": {},
   "outputs": [
    {
     "name": "stdout",
     "output_type": "stream",
     "text": [
      "Best: 0.936860 using {'n_estimators': 10}\n",
      "0.936860 (0.020192) with: {'n_estimators': 10}\n",
      "0.936860 (0.020192) with: {'n_estimators': 20}\n",
      "0.936860 (0.020192) with: {'n_estimators': 30}\n",
      "0.936860 (0.020192) with: {'n_estimators': 40}\n",
      "0.936860 (0.020192) with: {'n_estimators': 50}\n",
      "0.936860 (0.020192) with: {'n_estimators': 60}\n",
      "0.936860 (0.020192) with: {'n_estimators': 70}\n",
      "0.936860 (0.020192) with: {'n_estimators': 80}\n",
      "0.936860 (0.020192) with: {'n_estimators': 90}\n",
      "0.936860 (0.020192) with: {'n_estimators': 100}\n"
     ]
    }
   ],
   "source": [
    "print(\"Best: %f using %s\" % (grid_result.best_score_, grid_result.best_params_))\n",
    "means = grid_result.cv_results_['mean_test_score']\n",
    "stds = grid_result.cv_results_['std_test_score']\n",
    "params = grid_result.cv_results_['params']\n",
    "for mean, stdev, param in zip(means, stds, params): \n",
    "    print(\"%f (%f) with: %r\" % (mean, stdev, param))"
   ]
  },
  {
   "cell_type": "markdown",
   "metadata": {},
   "source": [
    "## Ada-Boost Best: 0.936860 using {'n_estimators': 10}"
   ]
  },
  {
   "cell_type": "code",
   "execution_count": 195,
   "metadata": {},
   "outputs": [],
   "source": [
    "##Parameters for Bagging\n",
    "\n",
    "LR = LogisticRegression()\n",
    "KNN = KNeighborsClassifier()\n",
    "param_grid = dict(n_estimators=np.array([10, 20, 30, 40, 50, 60, 70, 80, 90, 100]) , base_estimator = [LR , KNN])"
   ]
  },
  {
   "cell_type": "code",
   "execution_count": 196,
   "metadata": {},
   "outputs": [],
   "source": [
    "# Tune scaled Bagging\n",
    "scaler = StandardScaler().fit(x_train)\n",
    "rescaledX = scaler.transform(x_train)\n",
    "model = BaggingClassifier(random_state=seed)\n",
    "kfold = KFold(n_splits=num_folds, random_state=seed)\n",
    "grid = GridSearchCV(estimator=model, param_grid=param_grid, scoring=scoring, cv=kfold)\n",
    "grid_result = grid.fit(rescaledX, y_train)"
   ]
  },
  {
   "cell_type": "code",
   "execution_count": 197,
   "metadata": {},
   "outputs": [
    {
     "name": "stdout",
     "output_type": "stream",
     "text": [
      "Best: 0.936860 using {'base_estimator': LogisticRegression(C=1.0, class_weight=None, dual=False, fit_intercept=True,\n",
      "          intercept_scaling=1, max_iter=100, multi_class='warn',\n",
      "          n_jobs=None, penalty='l2', random_state=None, solver='warn',\n",
      "          tol=0.0001, verbose=0, warm_start=False), 'n_estimators': 30}\n",
      "0.933447 (0.023527) with: {'base_estimator': LogisticRegression(C=1.0, class_weight=None, dual=False, fit_intercept=True,\n",
      "          intercept_scaling=1, max_iter=100, multi_class='warn',\n",
      "          n_jobs=None, penalty='l2', random_state=None, solver='warn',\n",
      "          tol=0.0001, verbose=0, warm_start=False), 'n_estimators': 10}\n",
      "0.935154 (0.021310) with: {'base_estimator': LogisticRegression(C=1.0, class_weight=None, dual=False, fit_intercept=True,\n",
      "          intercept_scaling=1, max_iter=100, multi_class='warn',\n",
      "          n_jobs=None, penalty='l2', random_state=None, solver='warn',\n",
      "          tol=0.0001, verbose=0, warm_start=False), 'n_estimators': 20}\n",
      "0.936860 (0.020192) with: {'base_estimator': LogisticRegression(C=1.0, class_weight=None, dual=False, fit_intercept=True,\n",
      "          intercept_scaling=1, max_iter=100, multi_class='warn',\n",
      "          n_jobs=None, penalty='l2', random_state=None, solver='warn',\n",
      "          tol=0.0001, verbose=0, warm_start=False), 'n_estimators': 30}\n",
      "0.936860 (0.020192) with: {'base_estimator': LogisticRegression(C=1.0, class_weight=None, dual=False, fit_intercept=True,\n",
      "          intercept_scaling=1, max_iter=100, multi_class='warn',\n",
      "          n_jobs=None, penalty='l2', random_state=None, solver='warn',\n",
      "          tol=0.0001, verbose=0, warm_start=False), 'n_estimators': 40}\n",
      "0.936860 (0.020192) with: {'base_estimator': LogisticRegression(C=1.0, class_weight=None, dual=False, fit_intercept=True,\n",
      "          intercept_scaling=1, max_iter=100, multi_class='warn',\n",
      "          n_jobs=None, penalty='l2', random_state=None, solver='warn',\n",
      "          tol=0.0001, verbose=0, warm_start=False), 'n_estimators': 50}\n",
      "0.936860 (0.020192) with: {'base_estimator': LogisticRegression(C=1.0, class_weight=None, dual=False, fit_intercept=True,\n",
      "          intercept_scaling=1, max_iter=100, multi_class='warn',\n",
      "          n_jobs=None, penalty='l2', random_state=None, solver='warn',\n",
      "          tol=0.0001, verbose=0, warm_start=False), 'n_estimators': 60}\n",
      "0.936860 (0.020192) with: {'base_estimator': LogisticRegression(C=1.0, class_weight=None, dual=False, fit_intercept=True,\n",
      "          intercept_scaling=1, max_iter=100, multi_class='warn',\n",
      "          n_jobs=None, penalty='l2', random_state=None, solver='warn',\n",
      "          tol=0.0001, verbose=0, warm_start=False), 'n_estimators': 70}\n",
      "0.936860 (0.020192) with: {'base_estimator': LogisticRegression(C=1.0, class_weight=None, dual=False, fit_intercept=True,\n",
      "          intercept_scaling=1, max_iter=100, multi_class='warn',\n",
      "          n_jobs=None, penalty='l2', random_state=None, solver='warn',\n",
      "          tol=0.0001, verbose=0, warm_start=False), 'n_estimators': 80}\n",
      "0.936860 (0.020192) with: {'base_estimator': LogisticRegression(C=1.0, class_weight=None, dual=False, fit_intercept=True,\n",
      "          intercept_scaling=1, max_iter=100, multi_class='warn',\n",
      "          n_jobs=None, penalty='l2', random_state=None, solver='warn',\n",
      "          tol=0.0001, verbose=0, warm_start=False), 'n_estimators': 90}\n",
      "0.936860 (0.020192) with: {'base_estimator': LogisticRegression(C=1.0, class_weight=None, dual=False, fit_intercept=True,\n",
      "          intercept_scaling=1, max_iter=100, multi_class='warn',\n",
      "          n_jobs=None, penalty='l2', random_state=None, solver='warn',\n",
      "          tol=0.0001, verbose=0, warm_start=False), 'n_estimators': 100}\n",
      "0.931741 (0.025202) with: {'base_estimator': KNeighborsClassifier(algorithm='auto', leaf_size=30, metric='minkowski',\n",
      "           metric_params=None, n_jobs=None, n_neighbors=5, p=2,\n",
      "           weights='uniform'), 'n_estimators': 10}\n",
      "0.933447 (0.022118) with: {'base_estimator': KNeighborsClassifier(algorithm='auto', leaf_size=30, metric='minkowski',\n",
      "           metric_params=None, n_jobs=None, n_neighbors=5, p=2,\n",
      "           weights='uniform'), 'n_estimators': 20}\n",
      "0.935154 (0.022527) with: {'base_estimator': KNeighborsClassifier(algorithm='auto', leaf_size=30, metric='minkowski',\n",
      "           metric_params=None, n_jobs=None, n_neighbors=5, p=2,\n",
      "           weights='uniform'), 'n_estimators': 30}\n",
      "0.935154 (0.022527) with: {'base_estimator': KNeighborsClassifier(algorithm='auto', leaf_size=30, metric='minkowski',\n",
      "           metric_params=None, n_jobs=None, n_neighbors=5, p=2,\n",
      "           weights='uniform'), 'n_estimators': 40}\n",
      "0.936860 (0.020192) with: {'base_estimator': KNeighborsClassifier(algorithm='auto', leaf_size=30, metric='minkowski',\n",
      "           metric_params=None, n_jobs=None, n_neighbors=5, p=2,\n",
      "           weights='uniform'), 'n_estimators': 50}\n",
      "0.936860 (0.020192) with: {'base_estimator': KNeighborsClassifier(algorithm='auto', leaf_size=30, metric='minkowski',\n",
      "           metric_params=None, n_jobs=None, n_neighbors=5, p=2,\n",
      "           weights='uniform'), 'n_estimators': 60}\n",
      "0.936860 (0.020192) with: {'base_estimator': KNeighborsClassifier(algorithm='auto', leaf_size=30, metric='minkowski',\n",
      "           metric_params=None, n_jobs=None, n_neighbors=5, p=2,\n",
      "           weights='uniform'), 'n_estimators': 70}\n",
      "0.936860 (0.020192) with: {'base_estimator': KNeighborsClassifier(algorithm='auto', leaf_size=30, metric='minkowski',\n",
      "           metric_params=None, n_jobs=None, n_neighbors=5, p=2,\n",
      "           weights='uniform'), 'n_estimators': 80}\n",
      "0.936860 (0.020192) with: {'base_estimator': KNeighborsClassifier(algorithm='auto', leaf_size=30, metric='minkowski',\n",
      "           metric_params=None, n_jobs=None, n_neighbors=5, p=2,\n",
      "           weights='uniform'), 'n_estimators': 90}\n",
      "0.936860 (0.020192) with: {'base_estimator': KNeighborsClassifier(algorithm='auto', leaf_size=30, metric='minkowski',\n",
      "           metric_params=None, n_jobs=None, n_neighbors=5, p=2,\n",
      "           weights='uniform'), 'n_estimators': 100}\n"
     ]
    }
   ],
   "source": [
    "print(\"Best: %f using %s\" % (grid_result.best_score_, grid_result.best_params_))\n",
    "means = grid_result.cv_results_['mean_test_score']\n",
    "stds = grid_result.cv_results_['std_test_score']\n",
    "params = grid_result.cv_results_['params']\n",
    "for mean, stdev, param in zip(means, stds, params): \n",
    "    print(\"%f (%f) with: %r\" % (mean, stdev, param))"
   ]
  },
  {
   "cell_type": "markdown",
   "metadata": {},
   "source": [
    "## Bagging Best: 0.936860 with Base as LogisticRegression and n-estimators as 30"
   ]
  },
  {
   "cell_type": "markdown",
   "metadata": {},
   "source": [
    "## Finalising the model"
   ]
  },
  {
   "cell_type": "code",
   "execution_count": 198,
   "metadata": {},
   "outputs": [
    {
     "data": {
      "text/plain": [
       "AdaBoostClassifier(algorithm='SAMME.R',\n",
       "          base_estimator=LogisticRegression(C=1.0, class_weight=None, dual=False, fit_intercept=True,\n",
       "          intercept_scaling=1, max_iter=100, multi_class='warn',\n",
       "          n_jobs=None, penalty='l2', random_state=None, solver='warn',\n",
       "          tol=0.0001, verbose=0, warm_start=False),\n",
       "          learning_rate=1.0, n_estimators=10, random_state=None)"
      ]
     },
     "execution_count": 198,
     "metadata": {},
     "output_type": "execute_result"
    }
   ],
   "source": [
    "# prepare the model\n",
    "\n",
    "scaler = StandardScaler().fit(x_train)\n",
    "rescaledX = scaler.transform(x_train)\n",
    "model = AdaBoostClassifier(base_estimator=LogisticRegression(),  n_estimators=10)\n",
    "model.fit(rescaledX, y_train)"
   ]
  },
  {
   "cell_type": "code",
   "execution_count": 199,
   "metadata": {},
   "outputs": [
    {
     "name": "stdout",
     "output_type": "stream",
     "text": [
      "Accuracy : 0.9285714285714286\n",
      "\n",
      "\n",
      " Classfication Table :\n",
      "\n",
      "               precision    recall  f1-score   support\n",
      "\n",
      "       False       0.93      1.00      0.96       234\n",
      "        True       0.00      0.00      0.00        18\n",
      "\n",
      "   micro avg       0.93      0.93      0.93       252\n",
      "   macro avg       0.46      0.50      0.48       252\n",
      "weighted avg       0.86      0.93      0.89       252\n",
      "\n"
     ]
    }
   ],
   "source": [
    "# Performation in the validation dataset\n",
    "\n",
    "rescaledValidationX = scaler.transform(x_test)\n",
    "predictions = model.predict(rescaledValidationX)\n",
    "print('Accuracy :' , metrics.accuracy_score(y_test, predictions))\n",
    "print('\\n\\n Classfication Table :\\n\\n' , metrics.classification_report(y_test , predictions))"
   ]
  },
  {
   "cell_type": "code",
   "execution_count": 200,
   "metadata": {},
   "outputs": [
    {
     "name": "stdout",
     "output_type": "stream",
     "text": [
      "<class 'pandas.core.frame.DataFrame'>\n",
      "Int64Index: 838 entries, 0 to 837\n",
      "Data columns (total 19 columns):\n",
      "Hormonal Contraceptives               838 non-null object\n",
      "IUD                                   838 non-null object\n",
      "STDs                                  838 non-null object\n",
      "STDs:condylomatosis                   838 non-null object\n",
      "STDs:vulvo-perineal condylomatosis    838 non-null object\n",
      "Age                                   838 non-null float64\n",
      "Number of sexual partners             838 non-null float64\n",
      "First sexual intercourse              838 non-null float64\n",
      "Num of pregnancies                    838 non-null float64\n",
      "Smokes                                838 non-null object\n",
      "Smokes (years)                        838 non-null float64\n",
      "Smokes (packs/year)                   838 non-null float64\n",
      "Hormonal Contraceptives (years)       838 non-null float64\n",
      "IUD (years)                           838 non-null float64\n",
      "STDs (number)                         838 non-null float64\n",
      "STDs: Number of diagnosis             838 non-null float64\n",
      "STDs:HIV                              838 non-null object\n",
      "Biopsy                                838 non-null bool\n",
      "prob_biopsy                           838 non-null float64\n",
      "dtypes: bool(1), float64(11), object(7)\n",
      "memory usage: 165.2+ KB\n"
     ]
    }
   ],
   "source": [
    "data1.info()"
   ]
  },
  {
   "cell_type": "code",
   "execution_count": 202,
   "metadata": {},
   "outputs": [],
   "source": [
    "data1.to_csv('Final.csv' , index=False)"
   ]
  },
  {
   "cell_type": "markdown",
   "metadata": {},
   "source": [
    "## Lets try Handling class imbalance SMOTE "
   ]
  },
  {
   "cell_type": "code",
   "execution_count": 173,
   "metadata": {},
   "outputs": [],
   "source": [
    "data = pd.read_csv('Final.csv')"
   ]
  },
  {
   "cell_type": "code",
   "execution_count": 174,
   "metadata": {},
   "outputs": [
    {
     "data": {
      "text/html": [
       "<div>\n",
       "<style scoped>\n",
       "    .dataframe tbody tr th:only-of-type {\n",
       "        vertical-align: middle;\n",
       "    }\n",
       "\n",
       "    .dataframe tbody tr th {\n",
       "        vertical-align: top;\n",
       "    }\n",
       "\n",
       "    .dataframe thead th {\n",
       "        text-align: right;\n",
       "    }\n",
       "</style>\n",
       "<table border=\"1\" class=\"dataframe\">\n",
       "  <thead>\n",
       "    <tr style=\"text-align: right;\">\n",
       "      <th></th>\n",
       "      <th>Hormonal Contraceptives</th>\n",
       "      <th>IUD</th>\n",
       "      <th>STDs</th>\n",
       "      <th>STDs:condylomatosis</th>\n",
       "      <th>STDs:vulvo-perineal condylomatosis</th>\n",
       "      <th>Age</th>\n",
       "      <th>Number of sexual partners</th>\n",
       "      <th>First sexual intercourse</th>\n",
       "      <th>Num of pregnancies</th>\n",
       "      <th>Smokes</th>\n",
       "      <th>Smokes (years)</th>\n",
       "      <th>Smokes (packs/year)</th>\n",
       "      <th>Hormonal Contraceptives (years)</th>\n",
       "      <th>IUD (years)</th>\n",
       "      <th>STDs (number)</th>\n",
       "      <th>STDs: Number of diagnosis</th>\n",
       "      <th>STDs:HIV</th>\n",
       "      <th>Biopsy</th>\n",
       "      <th>prob_biopsy</th>\n",
       "    </tr>\n",
       "  </thead>\n",
       "  <tbody>\n",
       "    <tr>\n",
       "      <th>0</th>\n",
       "      <td>0</td>\n",
       "      <td>0</td>\n",
       "      <td>0</td>\n",
       "      <td>0</td>\n",
       "      <td>0</td>\n",
       "      <td>1.817583</td>\n",
       "      <td>1.312884</td>\n",
       "      <td>15.0</td>\n",
       "      <td>0.662129</td>\n",
       "      <td>0</td>\n",
       "      <td>0.000000</td>\n",
       "      <td>0.000000</td>\n",
       "      <td>0.000000</td>\n",
       "      <td>0.0</td>\n",
       "      <td>0.0</td>\n",
       "      <td>0.0</td>\n",
       "      <td>0</td>\n",
       "      <td>False</td>\n",
       "      <td>0.0</td>\n",
       "    </tr>\n",
       "    <tr>\n",
       "      <th>1</th>\n",
       "      <td>0</td>\n",
       "      <td>0</td>\n",
       "      <td>0</td>\n",
       "      <td>0</td>\n",
       "      <td>0</td>\n",
       "      <td>1.749180</td>\n",
       "      <td>0.000000</td>\n",
       "      <td>14.0</td>\n",
       "      <td>0.662129</td>\n",
       "      <td>0</td>\n",
       "      <td>0.000000</td>\n",
       "      <td>0.000000</td>\n",
       "      <td>0.000000</td>\n",
       "      <td>0.0</td>\n",
       "      <td>0.0</td>\n",
       "      <td>0.0</td>\n",
       "      <td>0</td>\n",
       "      <td>False</td>\n",
       "      <td>0.0</td>\n",
       "    </tr>\n",
       "    <tr>\n",
       "      <th>2</th>\n",
       "      <td>0</td>\n",
       "      <td>0</td>\n",
       "      <td>0</td>\n",
       "      <td>0</td>\n",
       "      <td>0</td>\n",
       "      <td>2.024723</td>\n",
       "      <td>0.000000</td>\n",
       "      <td>17.0</td>\n",
       "      <td>0.662129</td>\n",
       "      <td>0</td>\n",
       "      <td>0.000000</td>\n",
       "      <td>0.000000</td>\n",
       "      <td>0.000000</td>\n",
       "      <td>0.0</td>\n",
       "      <td>0.0</td>\n",
       "      <td>0.0</td>\n",
       "      <td>0</td>\n",
       "      <td>False</td>\n",
       "      <td>0.0</td>\n",
       "    </tr>\n",
       "    <tr>\n",
       "      <th>3</th>\n",
       "      <td>1</td>\n",
       "      <td>0</td>\n",
       "      <td>0</td>\n",
       "      <td>0</td>\n",
       "      <td>0</td>\n",
       "      <td>2.139511</td>\n",
       "      <td>1.511063</td>\n",
       "      <td>16.0</td>\n",
       "      <td>1.448705</td>\n",
       "      <td>1</td>\n",
       "      <td>0.308927</td>\n",
       "      <td>0.169896</td>\n",
       "      <td>0.941379</td>\n",
       "      <td>0.0</td>\n",
       "      <td>0.0</td>\n",
       "      <td>0.0</td>\n",
       "      <td>0</td>\n",
       "      <td>False</td>\n",
       "      <td>2.0</td>\n",
       "    </tr>\n",
       "    <tr>\n",
       "      <th>4</th>\n",
       "      <td>1</td>\n",
       "      <td>0</td>\n",
       "      <td>0</td>\n",
       "      <td>0</td>\n",
       "      <td>0</td>\n",
       "      <td>2.108123</td>\n",
       "      <td>1.052163</td>\n",
       "      <td>21.0</td>\n",
       "      <td>1.448705</td>\n",
       "      <td>0</td>\n",
       "      <td>0.000000</td>\n",
       "      <td>0.000000</td>\n",
       "      <td>1.351310</td>\n",
       "      <td>0.0</td>\n",
       "      <td>0.0</td>\n",
       "      <td>0.0</td>\n",
       "      <td>0</td>\n",
       "      <td>False</td>\n",
       "      <td>0.0</td>\n",
       "    </tr>\n",
       "  </tbody>\n",
       "</table>\n",
       "</div>"
      ],
      "text/plain": [
       "   Hormonal Contraceptives  IUD  STDs  STDs:condylomatosis  \\\n",
       "0                        0    0     0                    0   \n",
       "1                        0    0     0                    0   \n",
       "2                        0    0     0                    0   \n",
       "3                        1    0     0                    0   \n",
       "4                        1    0     0                    0   \n",
       "\n",
       "   STDs:vulvo-perineal condylomatosis       Age  Number of sexual partners  \\\n",
       "0                                   0  1.817583                   1.312884   \n",
       "1                                   0  1.749180                   0.000000   \n",
       "2                                   0  2.024723                   0.000000   \n",
       "3                                   0  2.139511                   1.511063   \n",
       "4                                   0  2.108123                   1.052163   \n",
       "\n",
       "   First sexual intercourse  Num of pregnancies  Smokes  Smokes (years)  \\\n",
       "0                      15.0            0.662129       0        0.000000   \n",
       "1                      14.0            0.662129       0        0.000000   \n",
       "2                      17.0            0.662129       0        0.000000   \n",
       "3                      16.0            1.448705       1        0.308927   \n",
       "4                      21.0            1.448705       0        0.000000   \n",
       "\n",
       "   Smokes (packs/year)  Hormonal Contraceptives (years)  IUD (years)  \\\n",
       "0             0.000000                         0.000000          0.0   \n",
       "1             0.000000                         0.000000          0.0   \n",
       "2             0.000000                         0.000000          0.0   \n",
       "3             0.169896                         0.941379          0.0   \n",
       "4             0.000000                         1.351310          0.0   \n",
       "\n",
       "   STDs (number)  STDs: Number of diagnosis  STDs:HIV  Biopsy  prob_biopsy  \n",
       "0            0.0                        0.0         0   False          0.0  \n",
       "1            0.0                        0.0         0   False          0.0  \n",
       "2            0.0                        0.0         0   False          0.0  \n",
       "3            0.0                        0.0         0   False          2.0  \n",
       "4            0.0                        0.0         0   False          0.0  "
      ]
     },
     "execution_count": 174,
     "metadata": {},
     "output_type": "execute_result"
    }
   ],
   "source": [
    "data.head()"
   ]
  },
  {
   "cell_type": "code",
   "execution_count": 175,
   "metadata": {},
   "outputs": [],
   "source": [
    "data.drop('prob_biopsy' , axis=1 , inplace=True)"
   ]
  },
  {
   "cell_type": "code",
   "execution_count": 176,
   "metadata": {},
   "outputs": [
    {
     "data": {
      "text/html": [
       "<div>\n",
       "<style scoped>\n",
       "    .dataframe tbody tr th:only-of-type {\n",
       "        vertical-align: middle;\n",
       "    }\n",
       "\n",
       "    .dataframe tbody tr th {\n",
       "        vertical-align: top;\n",
       "    }\n",
       "\n",
       "    .dataframe thead th {\n",
       "        text-align: right;\n",
       "    }\n",
       "</style>\n",
       "<table border=\"1\" class=\"dataframe\">\n",
       "  <thead>\n",
       "    <tr style=\"text-align: right;\">\n",
       "      <th></th>\n",
       "      <th>Hormonal Contraceptives</th>\n",
       "      <th>IUD</th>\n",
       "      <th>STDs</th>\n",
       "      <th>STDs:condylomatosis</th>\n",
       "      <th>STDs:vulvo-perineal condylomatosis</th>\n",
       "      <th>Age</th>\n",
       "      <th>Number of sexual partners</th>\n",
       "      <th>First sexual intercourse</th>\n",
       "      <th>Num of pregnancies</th>\n",
       "      <th>Smokes</th>\n",
       "      <th>Smokes (years)</th>\n",
       "      <th>Smokes (packs/year)</th>\n",
       "      <th>Hormonal Contraceptives (years)</th>\n",
       "      <th>IUD (years)</th>\n",
       "      <th>STDs (number)</th>\n",
       "      <th>STDs: Number of diagnosis</th>\n",
       "      <th>STDs:HIV</th>\n",
       "      <th>Biopsy</th>\n",
       "    </tr>\n",
       "  </thead>\n",
       "  <tbody>\n",
       "    <tr>\n",
       "      <th>0</th>\n",
       "      <td>0</td>\n",
       "      <td>0</td>\n",
       "      <td>0</td>\n",
       "      <td>0</td>\n",
       "      <td>0</td>\n",
       "      <td>1.817583</td>\n",
       "      <td>1.312884</td>\n",
       "      <td>15.0</td>\n",
       "      <td>0.662129</td>\n",
       "      <td>0</td>\n",
       "      <td>0.000000</td>\n",
       "      <td>0.000000</td>\n",
       "      <td>0.000000</td>\n",
       "      <td>0.0</td>\n",
       "      <td>0.0</td>\n",
       "      <td>0.0</td>\n",
       "      <td>0</td>\n",
       "      <td>False</td>\n",
       "    </tr>\n",
       "    <tr>\n",
       "      <th>1</th>\n",
       "      <td>0</td>\n",
       "      <td>0</td>\n",
       "      <td>0</td>\n",
       "      <td>0</td>\n",
       "      <td>0</td>\n",
       "      <td>1.749180</td>\n",
       "      <td>0.000000</td>\n",
       "      <td>14.0</td>\n",
       "      <td>0.662129</td>\n",
       "      <td>0</td>\n",
       "      <td>0.000000</td>\n",
       "      <td>0.000000</td>\n",
       "      <td>0.000000</td>\n",
       "      <td>0.0</td>\n",
       "      <td>0.0</td>\n",
       "      <td>0.0</td>\n",
       "      <td>0</td>\n",
       "      <td>False</td>\n",
       "    </tr>\n",
       "    <tr>\n",
       "      <th>2</th>\n",
       "      <td>0</td>\n",
       "      <td>0</td>\n",
       "      <td>0</td>\n",
       "      <td>0</td>\n",
       "      <td>0</td>\n",
       "      <td>2.024723</td>\n",
       "      <td>0.000000</td>\n",
       "      <td>17.0</td>\n",
       "      <td>0.662129</td>\n",
       "      <td>0</td>\n",
       "      <td>0.000000</td>\n",
       "      <td>0.000000</td>\n",
       "      <td>0.000000</td>\n",
       "      <td>0.0</td>\n",
       "      <td>0.0</td>\n",
       "      <td>0.0</td>\n",
       "      <td>0</td>\n",
       "      <td>False</td>\n",
       "    </tr>\n",
       "    <tr>\n",
       "      <th>3</th>\n",
       "      <td>1</td>\n",
       "      <td>0</td>\n",
       "      <td>0</td>\n",
       "      <td>0</td>\n",
       "      <td>0</td>\n",
       "      <td>2.139511</td>\n",
       "      <td>1.511063</td>\n",
       "      <td>16.0</td>\n",
       "      <td>1.448705</td>\n",
       "      <td>1</td>\n",
       "      <td>0.308927</td>\n",
       "      <td>0.169896</td>\n",
       "      <td>0.941379</td>\n",
       "      <td>0.0</td>\n",
       "      <td>0.0</td>\n",
       "      <td>0.0</td>\n",
       "      <td>0</td>\n",
       "      <td>False</td>\n",
       "    </tr>\n",
       "    <tr>\n",
       "      <th>4</th>\n",
       "      <td>1</td>\n",
       "      <td>0</td>\n",
       "      <td>0</td>\n",
       "      <td>0</td>\n",
       "      <td>0</td>\n",
       "      <td>2.108123</td>\n",
       "      <td>1.052163</td>\n",
       "      <td>21.0</td>\n",
       "      <td>1.448705</td>\n",
       "      <td>0</td>\n",
       "      <td>0.000000</td>\n",
       "      <td>0.000000</td>\n",
       "      <td>1.351310</td>\n",
       "      <td>0.0</td>\n",
       "      <td>0.0</td>\n",
       "      <td>0.0</td>\n",
       "      <td>0</td>\n",
       "      <td>False</td>\n",
       "    </tr>\n",
       "  </tbody>\n",
       "</table>\n",
       "</div>"
      ],
      "text/plain": [
       "   Hormonal Contraceptives  IUD  STDs  STDs:condylomatosis  \\\n",
       "0                        0    0     0                    0   \n",
       "1                        0    0     0                    0   \n",
       "2                        0    0     0                    0   \n",
       "3                        1    0     0                    0   \n",
       "4                        1    0     0                    0   \n",
       "\n",
       "   STDs:vulvo-perineal condylomatosis       Age  Number of sexual partners  \\\n",
       "0                                   0  1.817583                   1.312884   \n",
       "1                                   0  1.749180                   0.000000   \n",
       "2                                   0  2.024723                   0.000000   \n",
       "3                                   0  2.139511                   1.511063   \n",
       "4                                   0  2.108123                   1.052163   \n",
       "\n",
       "   First sexual intercourse  Num of pregnancies  Smokes  Smokes (years)  \\\n",
       "0                      15.0            0.662129       0        0.000000   \n",
       "1                      14.0            0.662129       0        0.000000   \n",
       "2                      17.0            0.662129       0        0.000000   \n",
       "3                      16.0            1.448705       1        0.308927   \n",
       "4                      21.0            1.448705       0        0.000000   \n",
       "\n",
       "   Smokes (packs/year)  Hormonal Contraceptives (years)  IUD (years)  \\\n",
       "0             0.000000                         0.000000          0.0   \n",
       "1             0.000000                         0.000000          0.0   \n",
       "2             0.000000                         0.000000          0.0   \n",
       "3             0.169896                         0.941379          0.0   \n",
       "4             0.000000                         1.351310          0.0   \n",
       "\n",
       "   STDs (number)  STDs: Number of diagnosis  STDs:HIV  Biopsy  \n",
       "0            0.0                        0.0         0   False  \n",
       "1            0.0                        0.0         0   False  \n",
       "2            0.0                        0.0         0   False  \n",
       "3            0.0                        0.0         0   False  \n",
       "4            0.0                        0.0         0   False  "
      ]
     },
     "execution_count": 176,
     "metadata": {},
     "output_type": "execute_result"
    }
   ],
   "source": [
    "data.head()"
   ]
  },
  {
   "cell_type": "code",
   "execution_count": 177,
   "metadata": {},
   "outputs": [
    {
     "data": {
      "text/plain": [
       "False    783\n",
       "True      55\n",
       "Name: Biopsy, dtype: int64"
      ]
     },
     "execution_count": 177,
     "metadata": {},
     "output_type": "execute_result"
    }
   ],
   "source": [
    "data.Biopsy.value_counts()"
   ]
  },
  {
   "cell_type": "code",
   "execution_count": 178,
   "metadata": {},
   "outputs": [
    {
     "data": {
      "text/plain": [
       "Index(['Hormonal Contraceptives', 'IUD', 'STDs', 'STDs:condylomatosis',\n",
       "       'STDs:vulvo-perineal condylomatosis', 'Age',\n",
       "       'Number of sexual partners', 'First sexual intercourse',\n",
       "       'Num of pregnancies', 'Smokes', 'Smokes (years)', 'Smokes (packs/year)',\n",
       "       'Hormonal Contraceptives (years)', 'IUD (years)', 'STDs (number)',\n",
       "       'STDs: Number of diagnosis', 'STDs:HIV', 'Biopsy'],\n",
       "      dtype='object')"
      ]
     },
     "execution_count": 178,
     "metadata": {},
     "output_type": "execute_result"
    }
   ],
   "source": [
    "data.columns"
   ]
  },
  {
   "cell_type": "code",
   "execution_count": 179,
   "metadata": {},
   "outputs": [],
   "source": [
    "x = data[['Hormonal Contraceptives', 'IUD', 'STDs', 'STDs:condylomatosis',\n",
    "       'STDs:vulvo-perineal condylomatosis', 'Age',\n",
    "       'Number of sexual partners', 'First sexual intercourse',\n",
    "       'Num of pregnancies', 'Smokes', 'Smokes (years)', 'Smokes (packs/year)',\n",
    "       'Hormonal Contraceptives (years)', 'IUD (years)', 'STDs (number)',\n",
    "       'STDs: Number of diagnosis', 'STDs:HIV']]\n",
    "\n",
    "y = data[['Biopsy']]"
   ]
  },
  {
   "cell_type": "code",
   "execution_count": 180,
   "metadata": {},
   "outputs": [],
   "source": [
    "validation_size = 0.20\n",
    "seed = 7\n",
    "x_train, x_validation, y_train, y_validation = train_test_split(x, y, test_size=validation_size, random_state=seed)"
   ]
  },
  {
   "cell_type": "code",
   "execution_count": 181,
   "metadata": {},
   "outputs": [
    {
     "name": "stdout",
     "output_type": "stream",
     "text": [
      "Train Ratio:\n",
      " False    622\n",
      "True      48\n",
      "Name: Biopsy, dtype: int64\n",
      "Test Ratio :\n",
      " False    161\n",
      "True       7\n",
      "Name: Biopsy, dtype: int64\n"
     ]
    }
   ],
   "source": [
    "##Proportion of 0's and 1's in train and validation\n",
    "\n",
    "train_ratio = pd.DataFrame(y_train)\n",
    "print('Train Ratio:\\n' ,train_ratio.Biopsy.value_counts())\n",
    "\n",
    "validation_ratio = pd.DataFrame(y_validation)\n",
    "print('Test Ratio :\\n' ,validation_ratio.Biopsy.value_counts())"
   ]
  },
  {
   "cell_type": "code",
   "execution_count": 182,
   "metadata": {},
   "outputs": [],
   "source": [
    "sm = SMOTE(ratio=0.3,random_state=2)\n",
    "\n",
    "x,y = sm.fit_sample(x_train,y_train)"
   ]
  },
  {
   "cell_type": "code",
   "execution_count": 183,
   "metadata": {},
   "outputs": [],
   "source": [
    "data1=pd.DataFrame(x,columns=['Hormonal Contraceptives', 'IUD', 'STDs', 'STDs:condylomatosis',\n",
    "       'STDs:vulvo-perineal condylomatosis', 'Age',\n",
    "       'Number of sexual partners', 'First sexual intercourse',\n",
    "       'Num of pregnancies', 'Smokes', 'Smokes (years)', 'Smokes (packs/year)',\n",
    "       'Hormonal Contraceptives (years)', 'IUD (years)', 'STDs (number)',\n",
    "       'STDs: Number of diagnosis', 'STDs:HIV'])"
   ]
  },
  {
   "cell_type": "code",
   "execution_count": 184,
   "metadata": {},
   "outputs": [
    {
     "data": {
      "text/html": [
       "<div>\n",
       "<style scoped>\n",
       "    .dataframe tbody tr th:only-of-type {\n",
       "        vertical-align: middle;\n",
       "    }\n",
       "\n",
       "    .dataframe tbody tr th {\n",
       "        vertical-align: top;\n",
       "    }\n",
       "\n",
       "    .dataframe thead th {\n",
       "        text-align: right;\n",
       "    }\n",
       "</style>\n",
       "<table border=\"1\" class=\"dataframe\">\n",
       "  <thead>\n",
       "    <tr style=\"text-align: right;\">\n",
       "      <th></th>\n",
       "      <th>Hormonal Contraceptives</th>\n",
       "      <th>IUD</th>\n",
       "      <th>STDs</th>\n",
       "      <th>STDs:condylomatosis</th>\n",
       "      <th>STDs:vulvo-perineal condylomatosis</th>\n",
       "      <th>Age</th>\n",
       "      <th>Number of sexual partners</th>\n",
       "      <th>First sexual intercourse</th>\n",
       "      <th>Num of pregnancies</th>\n",
       "      <th>Smokes</th>\n",
       "      <th>Smokes (years)</th>\n",
       "      <th>Smokes (packs/year)</th>\n",
       "      <th>Hormonal Contraceptives (years)</th>\n",
       "      <th>IUD (years)</th>\n",
       "      <th>STDs (number)</th>\n",
       "      <th>STDs: Number of diagnosis</th>\n",
       "      <th>STDs:HIV</th>\n",
       "    </tr>\n",
       "  </thead>\n",
       "  <tbody>\n",
       "    <tr>\n",
       "      <th>0</th>\n",
       "      <td>1.0</td>\n",
       "      <td>0.0</td>\n",
       "      <td>0.0</td>\n",
       "      <td>0.0</td>\n",
       "      <td>0.0</td>\n",
       "      <td>1.987521</td>\n",
       "      <td>0.674460</td>\n",
       "      <td>18.0</td>\n",
       "      <td>0.000000</td>\n",
       "      <td>0.0</td>\n",
       "      <td>0.000000</td>\n",
       "      <td>0.000000</td>\n",
       "      <td>0.567132</td>\n",
       "      <td>0.00000</td>\n",
       "      <td>0.0</td>\n",
       "      <td>0.0</td>\n",
       "      <td>0.0</td>\n",
       "    </tr>\n",
       "    <tr>\n",
       "      <th>1</th>\n",
       "      <td>1.0</td>\n",
       "      <td>0.0</td>\n",
       "      <td>0.0</td>\n",
       "      <td>0.0</td>\n",
       "      <td>0.0</td>\n",
       "      <td>1.887988</td>\n",
       "      <td>0.674460</td>\n",
       "      <td>15.0</td>\n",
       "      <td>1.022053</td>\n",
       "      <td>1.0</td>\n",
       "      <td>0.307994</td>\n",
       "      <td>0.168460</td>\n",
       "      <td>1.148392</td>\n",
       "      <td>0.00000</td>\n",
       "      <td>0.0</td>\n",
       "      <td>0.0</td>\n",
       "      <td>0.0</td>\n",
       "    </tr>\n",
       "    <tr>\n",
       "      <th>2</th>\n",
       "      <td>0.0</td>\n",
       "      <td>0.0</td>\n",
       "      <td>0.0</td>\n",
       "      <td>0.0</td>\n",
       "      <td>0.0</td>\n",
       "      <td>1.872104</td>\n",
       "      <td>1.052163</td>\n",
       "      <td>17.0</td>\n",
       "      <td>0.000000</td>\n",
       "      <td>0.0</td>\n",
       "      <td>0.000000</td>\n",
       "      <td>0.000000</td>\n",
       "      <td>0.000000</td>\n",
       "      <td>0.00000</td>\n",
       "      <td>0.0</td>\n",
       "      <td>0.0</td>\n",
       "      <td>0.0</td>\n",
       "    </tr>\n",
       "    <tr>\n",
       "      <th>3</th>\n",
       "      <td>0.0</td>\n",
       "      <td>1.0</td>\n",
       "      <td>0.0</td>\n",
       "      <td>0.0</td>\n",
       "      <td>0.0</td>\n",
       "      <td>2.090273</td>\n",
       "      <td>1.312884</td>\n",
       "      <td>16.0</td>\n",
       "      <td>1.265894</td>\n",
       "      <td>1.0</td>\n",
       "      <td>0.308923</td>\n",
       "      <td>0.169895</td>\n",
       "      <td>0.000000</td>\n",
       "      <td>0.24103</td>\n",
       "      <td>0.0</td>\n",
       "      <td>0.0</td>\n",
       "      <td>0.0</td>\n",
       "    </tr>\n",
       "    <tr>\n",
       "      <th>4</th>\n",
       "      <td>1.0</td>\n",
       "      <td>0.0</td>\n",
       "      <td>0.0</td>\n",
       "      <td>0.0</td>\n",
       "      <td>0.0</td>\n",
       "      <td>1.942939</td>\n",
       "      <td>1.052163</td>\n",
       "      <td>17.0</td>\n",
       "      <td>1.265894</td>\n",
       "      <td>0.0</td>\n",
       "      <td>0.000000</td>\n",
       "      <td>0.000000</td>\n",
       "      <td>0.316241</td>\n",
       "      <td>0.00000</td>\n",
       "      <td>0.0</td>\n",
       "      <td>0.0</td>\n",
       "      <td>0.0</td>\n",
       "    </tr>\n",
       "  </tbody>\n",
       "</table>\n",
       "</div>"
      ],
      "text/plain": [
       "   Hormonal Contraceptives  IUD  STDs  STDs:condylomatosis  \\\n",
       "0                      1.0  0.0   0.0                  0.0   \n",
       "1                      1.0  0.0   0.0                  0.0   \n",
       "2                      0.0  0.0   0.0                  0.0   \n",
       "3                      0.0  1.0   0.0                  0.0   \n",
       "4                      1.0  0.0   0.0                  0.0   \n",
       "\n",
       "   STDs:vulvo-perineal condylomatosis       Age  Number of sexual partners  \\\n",
       "0                                 0.0  1.987521                   0.674460   \n",
       "1                                 0.0  1.887988                   0.674460   \n",
       "2                                 0.0  1.872104                   1.052163   \n",
       "3                                 0.0  2.090273                   1.312884   \n",
       "4                                 0.0  1.942939                   1.052163   \n",
       "\n",
       "   First sexual intercourse  Num of pregnancies  Smokes  Smokes (years)  \\\n",
       "0                      18.0            0.000000     0.0        0.000000   \n",
       "1                      15.0            1.022053     1.0        0.307994   \n",
       "2                      17.0            0.000000     0.0        0.000000   \n",
       "3                      16.0            1.265894     1.0        0.308923   \n",
       "4                      17.0            1.265894     0.0        0.000000   \n",
       "\n",
       "   Smokes (packs/year)  Hormonal Contraceptives (years)  IUD (years)  \\\n",
       "0             0.000000                         0.567132      0.00000   \n",
       "1             0.168460                         1.148392      0.00000   \n",
       "2             0.000000                         0.000000      0.00000   \n",
       "3             0.169895                         0.000000      0.24103   \n",
       "4             0.000000                         0.316241      0.00000   \n",
       "\n",
       "   STDs (number)  STDs: Number of diagnosis  STDs:HIV  \n",
       "0            0.0                        0.0       0.0  \n",
       "1            0.0                        0.0       0.0  \n",
       "2            0.0                        0.0       0.0  \n",
       "3            0.0                        0.0       0.0  \n",
       "4            0.0                        0.0       0.0  "
      ]
     },
     "execution_count": 184,
     "metadata": {},
     "output_type": "execute_result"
    }
   ],
   "source": [
    "data1.head()"
   ]
  },
  {
   "cell_type": "code",
   "execution_count": 185,
   "metadata": {},
   "outputs": [],
   "source": [
    "data1['Biopsy'] = y"
   ]
  },
  {
   "cell_type": "code",
   "execution_count": 186,
   "metadata": {},
   "outputs": [
    {
     "data": {
      "text/html": [
       "<div>\n",
       "<style scoped>\n",
       "    .dataframe tbody tr th:only-of-type {\n",
       "        vertical-align: middle;\n",
       "    }\n",
       "\n",
       "    .dataframe tbody tr th {\n",
       "        vertical-align: top;\n",
       "    }\n",
       "\n",
       "    .dataframe thead th {\n",
       "        text-align: right;\n",
       "    }\n",
       "</style>\n",
       "<table border=\"1\" class=\"dataframe\">\n",
       "  <thead>\n",
       "    <tr style=\"text-align: right;\">\n",
       "      <th></th>\n",
       "      <th>Hormonal Contraceptives</th>\n",
       "      <th>IUD</th>\n",
       "      <th>STDs</th>\n",
       "      <th>STDs:condylomatosis</th>\n",
       "      <th>STDs:vulvo-perineal condylomatosis</th>\n",
       "      <th>Age</th>\n",
       "      <th>Number of sexual partners</th>\n",
       "      <th>First sexual intercourse</th>\n",
       "      <th>Num of pregnancies</th>\n",
       "      <th>Smokes</th>\n",
       "      <th>Smokes (years)</th>\n",
       "      <th>Smokes (packs/year)</th>\n",
       "      <th>Hormonal Contraceptives (years)</th>\n",
       "      <th>IUD (years)</th>\n",
       "      <th>STDs (number)</th>\n",
       "      <th>STDs: Number of diagnosis</th>\n",
       "      <th>STDs:HIV</th>\n",
       "      <th>Biopsy</th>\n",
       "    </tr>\n",
       "  </thead>\n",
       "  <tbody>\n",
       "    <tr>\n",
       "      <th>0</th>\n",
       "      <td>1.0</td>\n",
       "      <td>0.0</td>\n",
       "      <td>0.0</td>\n",
       "      <td>0.0</td>\n",
       "      <td>0.0</td>\n",
       "      <td>1.987521</td>\n",
       "      <td>0.674460</td>\n",
       "      <td>18.0</td>\n",
       "      <td>0.000000</td>\n",
       "      <td>0.0</td>\n",
       "      <td>0.000000</td>\n",
       "      <td>0.000000</td>\n",
       "      <td>0.567132</td>\n",
       "      <td>0.00000</td>\n",
       "      <td>0.0</td>\n",
       "      <td>0.0</td>\n",
       "      <td>0.0</td>\n",
       "      <td>False</td>\n",
       "    </tr>\n",
       "    <tr>\n",
       "      <th>1</th>\n",
       "      <td>1.0</td>\n",
       "      <td>0.0</td>\n",
       "      <td>0.0</td>\n",
       "      <td>0.0</td>\n",
       "      <td>0.0</td>\n",
       "      <td>1.887988</td>\n",
       "      <td>0.674460</td>\n",
       "      <td>15.0</td>\n",
       "      <td>1.022053</td>\n",
       "      <td>1.0</td>\n",
       "      <td>0.307994</td>\n",
       "      <td>0.168460</td>\n",
       "      <td>1.148392</td>\n",
       "      <td>0.00000</td>\n",
       "      <td>0.0</td>\n",
       "      <td>0.0</td>\n",
       "      <td>0.0</td>\n",
       "      <td>True</td>\n",
       "    </tr>\n",
       "    <tr>\n",
       "      <th>2</th>\n",
       "      <td>0.0</td>\n",
       "      <td>0.0</td>\n",
       "      <td>0.0</td>\n",
       "      <td>0.0</td>\n",
       "      <td>0.0</td>\n",
       "      <td>1.872104</td>\n",
       "      <td>1.052163</td>\n",
       "      <td>17.0</td>\n",
       "      <td>0.000000</td>\n",
       "      <td>0.0</td>\n",
       "      <td>0.000000</td>\n",
       "      <td>0.000000</td>\n",
       "      <td>0.000000</td>\n",
       "      <td>0.00000</td>\n",
       "      <td>0.0</td>\n",
       "      <td>0.0</td>\n",
       "      <td>0.0</td>\n",
       "      <td>True</td>\n",
       "    </tr>\n",
       "    <tr>\n",
       "      <th>3</th>\n",
       "      <td>0.0</td>\n",
       "      <td>1.0</td>\n",
       "      <td>0.0</td>\n",
       "      <td>0.0</td>\n",
       "      <td>0.0</td>\n",
       "      <td>2.090273</td>\n",
       "      <td>1.312884</td>\n",
       "      <td>16.0</td>\n",
       "      <td>1.265894</td>\n",
       "      <td>1.0</td>\n",
       "      <td>0.308923</td>\n",
       "      <td>0.169895</td>\n",
       "      <td>0.000000</td>\n",
       "      <td>0.24103</td>\n",
       "      <td>0.0</td>\n",
       "      <td>0.0</td>\n",
       "      <td>0.0</td>\n",
       "      <td>False</td>\n",
       "    </tr>\n",
       "    <tr>\n",
       "      <th>4</th>\n",
       "      <td>1.0</td>\n",
       "      <td>0.0</td>\n",
       "      <td>0.0</td>\n",
       "      <td>0.0</td>\n",
       "      <td>0.0</td>\n",
       "      <td>1.942939</td>\n",
       "      <td>1.052163</td>\n",
       "      <td>17.0</td>\n",
       "      <td>1.265894</td>\n",
       "      <td>0.0</td>\n",
       "      <td>0.000000</td>\n",
       "      <td>0.000000</td>\n",
       "      <td>0.316241</td>\n",
       "      <td>0.00000</td>\n",
       "      <td>0.0</td>\n",
       "      <td>0.0</td>\n",
       "      <td>0.0</td>\n",
       "      <td>False</td>\n",
       "    </tr>\n",
       "  </tbody>\n",
       "</table>\n",
       "</div>"
      ],
      "text/plain": [
       "   Hormonal Contraceptives  IUD  STDs  STDs:condylomatosis  \\\n",
       "0                      1.0  0.0   0.0                  0.0   \n",
       "1                      1.0  0.0   0.0                  0.0   \n",
       "2                      0.0  0.0   0.0                  0.0   \n",
       "3                      0.0  1.0   0.0                  0.0   \n",
       "4                      1.0  0.0   0.0                  0.0   \n",
       "\n",
       "   STDs:vulvo-perineal condylomatosis       Age  Number of sexual partners  \\\n",
       "0                                 0.0  1.987521                   0.674460   \n",
       "1                                 0.0  1.887988                   0.674460   \n",
       "2                                 0.0  1.872104                   1.052163   \n",
       "3                                 0.0  2.090273                   1.312884   \n",
       "4                                 0.0  1.942939                   1.052163   \n",
       "\n",
       "   First sexual intercourse  Num of pregnancies  Smokes  Smokes (years)  \\\n",
       "0                      18.0            0.000000     0.0        0.000000   \n",
       "1                      15.0            1.022053     1.0        0.307994   \n",
       "2                      17.0            0.000000     0.0        0.000000   \n",
       "3                      16.0            1.265894     1.0        0.308923   \n",
       "4                      17.0            1.265894     0.0        0.000000   \n",
       "\n",
       "   Smokes (packs/year)  Hormonal Contraceptives (years)  IUD (years)  \\\n",
       "0             0.000000                         0.567132      0.00000   \n",
       "1             0.168460                         1.148392      0.00000   \n",
       "2             0.000000                         0.000000      0.00000   \n",
       "3             0.169895                         0.000000      0.24103   \n",
       "4             0.000000                         0.316241      0.00000   \n",
       "\n",
       "   STDs (number)  STDs: Number of diagnosis  STDs:HIV  Biopsy  \n",
       "0            0.0                        0.0       0.0   False  \n",
       "1            0.0                        0.0       0.0    True  \n",
       "2            0.0                        0.0       0.0    True  \n",
       "3            0.0                        0.0       0.0   False  \n",
       "4            0.0                        0.0       0.0   False  "
      ]
     },
     "execution_count": 186,
     "metadata": {},
     "output_type": "execute_result"
    }
   ],
   "source": [
    "data1.head()"
   ]
  },
  {
   "cell_type": "code",
   "execution_count": 187,
   "metadata": {},
   "outputs": [
    {
     "data": {
      "text/plain": [
       "False    622\n",
       "True     186\n",
       "Name: Biopsy, dtype: int64"
      ]
     },
     "execution_count": 187,
     "metadata": {},
     "output_type": "execute_result"
    }
   ],
   "source": [
    "data1['Biopsy'].value_counts()"
   ]
  },
  {
   "cell_type": "markdown",
   "metadata": {},
   "source": [
    "## Getting probabilities for target class to split it into 3 class"
   ]
  },
  {
   "cell_type": "code",
   "execution_count": 188,
   "metadata": {},
   "outputs": [],
   "source": [
    "x = data1[['Hormonal Contraceptives' , 'IUD' , 'STDs' , 'STDs:condylomatosis' , 'STDs:vulvo-perineal condylomatosis' ,\n",
    "          'Age', 'Number of sexual partners', 'First sexual intercourse',\n",
    "       'Num of pregnancies', 'Smokes', 'Smokes (years)', 'Smokes (packs/year)','Hormonal Contraceptives (years)',\n",
    "          'IUD (years)','STDs (number)','STDs: Number of diagnosis','STDs:HIV']]\n",
    "\n",
    "y = data1[['Biopsy']]"
   ]
  },
  {
   "cell_type": "code",
   "execution_count": 189,
   "metadata": {},
   "outputs": [],
   "source": [
    "clf = RandomForestClassifier(max_depth=5 , random_state=555)"
   ]
  },
  {
   "cell_type": "code",
   "execution_count": 190,
   "metadata": {},
   "outputs": [
    {
     "data": {
      "text/plain": [
       "RandomForestClassifier(bootstrap=True, class_weight=None, criterion='gini',\n",
       "            max_depth=5, max_features='auto', max_leaf_nodes=None,\n",
       "            min_impurity_decrease=0.0, min_impurity_split=None,\n",
       "            min_samples_leaf=1, min_samples_split=2,\n",
       "            min_weight_fraction_leaf=0.0, n_estimators=10, n_jobs=None,\n",
       "            oob_score=False, random_state=555, verbose=0, warm_start=False)"
      ]
     },
     "execution_count": 190,
     "metadata": {},
     "output_type": "execute_result"
    }
   ],
   "source": [
    "clf.fit(x , y)"
   ]
  },
  {
   "cell_type": "code",
   "execution_count": 191,
   "metadata": {},
   "outputs": [
    {
     "data": {
      "text/html": [
       "<div>\n",
       "<style scoped>\n",
       "    .dataframe tbody tr th:only-of-type {\n",
       "        vertical-align: middle;\n",
       "    }\n",
       "\n",
       "    .dataframe tbody tr th {\n",
       "        vertical-align: top;\n",
       "    }\n",
       "\n",
       "    .dataframe thead th {\n",
       "        text-align: right;\n",
       "    }\n",
       "</style>\n",
       "<table border=\"1\" class=\"dataframe\">\n",
       "  <thead>\n",
       "    <tr style=\"text-align: right;\">\n",
       "      <th></th>\n",
       "      <th>0</th>\n",
       "    </tr>\n",
       "  </thead>\n",
       "  <tbody>\n",
       "    <tr>\n",
       "      <th>0</th>\n",
       "      <td>0.884316</td>\n",
       "    </tr>\n",
       "    <tr>\n",
       "      <th>1</th>\n",
       "      <td>0.732050</td>\n",
       "    </tr>\n",
       "    <tr>\n",
       "      <th>2</th>\n",
       "      <td>0.825658</td>\n",
       "    </tr>\n",
       "    <tr>\n",
       "      <th>3</th>\n",
       "      <td>0.797687</td>\n",
       "    </tr>\n",
       "    <tr>\n",
       "      <th>4</th>\n",
       "      <td>0.756857</td>\n",
       "    </tr>\n",
       "  </tbody>\n",
       "</table>\n",
       "</div>"
      ],
      "text/plain": [
       "          0\n",
       "0  0.884316\n",
       "1  0.732050\n",
       "2  0.825658\n",
       "3  0.797687\n",
       "4  0.756857"
      ]
     },
     "execution_count": 191,
     "metadata": {},
     "output_type": "execute_result"
    }
   ],
   "source": [
    "prob = clf.predict_proba(x)\n",
    "\n",
    "prob = pd.DataFrame(prob)\n",
    "\n",
    "prob.drop(1 , axis=1 , inplace=True)\n",
    "\n",
    "prob.head()"
   ]
  },
  {
   "cell_type": "code",
   "execution_count": 192,
   "metadata": {},
   "outputs": [
    {
     "data": {
      "text/plain": [
       "0.0    477\n",
       "2.0    231\n",
       "1.0    100\n",
       "Name: 0, dtype: int64"
      ]
     },
     "execution_count": 192,
     "metadata": {},
     "output_type": "execute_result"
    }
   ],
   "source": [
    "prob[prob[0]>0.8] = 0\n",
    "\n",
    "prob[(prob[0]<0.6) & (prob[0] != 0)] = 1\n",
    "\n",
    "prob[(prob[0] >= 0.6) & (prob[0] <= 0.8)] = 2\n",
    "\n",
    "prob[0].value_counts()"
   ]
  },
  {
   "cell_type": "markdown",
   "metadata": {},
   "source": [
    "### LDA After SMOTE"
   ]
  },
  {
   "cell_type": "code",
   "execution_count": 193,
   "metadata": {},
   "outputs": [],
   "source": [
    "data1['prob_biopsy'] = prob"
   ]
  },
  {
   "cell_type": "code",
   "execution_count": 194,
   "metadata": {},
   "outputs": [
    {
     "data": {
      "text/plain": [
       "0.0    477\n",
       "2.0    231\n",
       "1.0    100\n",
       "Name: prob_biopsy, dtype: int64"
      ]
     },
     "execution_count": 194,
     "metadata": {},
     "output_type": "execute_result"
    }
   ],
   "source": [
    "data1.prob_biopsy.value_counts()"
   ]
  },
  {
   "cell_type": "code",
   "execution_count": 195,
   "metadata": {},
   "outputs": [],
   "source": [
    "x = data1[['Hormonal Contraceptives' , 'IUD' , 'STDs' , 'STDs:condylomatosis' , 'STDs:vulvo-perineal condylomatosis' ,\n",
    "          'Age', 'Number of sexual partners', 'First sexual intercourse',\n",
    "       'Num of pregnancies', 'Smokes', 'Smokes (years)', 'Smokes (packs/year)','Hormonal Contraceptives (years)',\n",
    "          'IUD (years)','STDs (number)','STDs: Number of diagnosis','STDs:HIV']]\n",
    "\n",
    "y = data1[['prob_biopsy']]\n",
    "\n",
    "x_train , x_test , y_train , y_test = train_test_split(x , y , test_size = 0.3 , random_state = 100)"
   ]
  },
  {
   "cell_type": "code",
   "execution_count": 196,
   "metadata": {},
   "outputs": [],
   "source": [
    "lda = LinearDiscriminantAnalysis()\n",
    "\n",
    "seed = 10"
   ]
  },
  {
   "cell_type": "code",
   "execution_count": 197,
   "metadata": {},
   "outputs": [],
   "source": [
    "kfold = model_selection.KFold(n_splits=10 , random_state=seed)\n",
    "model = LinearDiscriminantAnalysis()\n",
    "scoring = 'accuracy'"
   ]
  },
  {
   "cell_type": "code",
   "execution_count": 198,
   "metadata": {},
   "outputs": [
    {
     "name": "stdout",
     "output_type": "stream",
     "text": [
      "Accuracy : 0.669(0.055)\n"
     ]
    }
   ],
   "source": [
    "results = model_selection.cross_val_score(model , x_train , y_train , cv=kfold , scoring=scoring)\n",
    "print('Accuracy : %.3f(%.3f)' % (results.mean() , results.std()))"
   ]
  },
  {
   "cell_type": "code",
   "execution_count": 199,
   "metadata": {},
   "outputs": [
    {
     "name": "stdout",
     "output_type": "stream",
     "text": [
      "\n",
      "\tResult of LDA for TEST Data with Target column having 3 class - Splitted the Probabilities of original column into 3\n",
      "\n",
      "\n",
      "Accuracy : 0.6831275720164609\n",
      "\n",
      "\n",
      "Classfication Table :\n",
      "\n",
      "               precision    recall  f1-score   support\n",
      "\n",
      "         0.0       0.77      0.76      0.77       156\n",
      "         1.0       0.62      0.57      0.59        23\n",
      "         2.0       0.50      0.53      0.52        64\n",
      "\n",
      "   micro avg       0.68      0.68      0.68       243\n",
      "   macro avg       0.63      0.62      0.62       243\n",
      "weighted avg       0.69      0.68      0.68       243\n",
      "\n"
     ]
    }
   ],
   "source": [
    "lda.fit(x_train , y_train)\n",
    "prediction = lda.predict(x_test)\n",
    "print('\\n\\tResult of LDA for TEST Data with Target column having 3 class - Splitted the Probabilities of original column into 3')\n",
    "print('\\n\\nAccuracy :' , metrics.accuracy_score(y_test, prediction))\n",
    "print('\\n\\nClassfication Table :\\n\\n' , metrics.classification_report(y_test , prediction))"
   ]
  },
  {
   "cell_type": "markdown",
   "metadata": {},
   "source": [
    "## End-To-End After Using SMOTE"
   ]
  },
  {
   "cell_type": "code",
   "execution_count": 200,
   "metadata": {},
   "outputs": [],
   "source": [
    "x = data1[['Hormonal Contraceptives' , 'IUD' , 'STDs' , 'STDs:condylomatosis' , 'STDs:vulvo-perineal condylomatosis' ,\n",
    "          'Age', 'Number of sexual partners', 'First sexual intercourse',\n",
    "       'Num of pregnancies', 'Smokes', 'Smokes (years)', 'Smokes (packs/year)','Hormonal Contraceptives (years)',\n",
    "          'IUD (years)','STDs (number)','STDs: Number of diagnosis','STDs:HIV']]\n",
    "\n",
    "y = data1[['Biopsy']]\n",
    "\n",
    "x_train , x_test , y_train , y_test = train_test_split(x , y , test_size = 0.3 , random_state = 100)"
   ]
  },
  {
   "cell_type": "code",
   "execution_count": 201,
   "metadata": {},
   "outputs": [],
   "source": [
    "# Test options and evaluation metric\n",
    "num_folds = 10\n",
    "seed = 7\n",
    "scoring = 'accuracy'"
   ]
  },
  {
   "cell_type": "code",
   "execution_count": 202,
   "metadata": {},
   "outputs": [],
   "source": [
    "models = []\n",
    "models.append(('LR', LogisticRegression()))\n",
    "models.append(('KNN', KNeighborsClassifier()))\n",
    "models.append(('CART', DecisionTreeClassifier()))\n",
    "models.append(('NB' , GaussianNB()))"
   ]
  },
  {
   "cell_type": "code",
   "execution_count": 203,
   "metadata": {},
   "outputs": [
    {
     "name": "stdout",
     "output_type": "stream",
     "text": [
      "LR: 0.762939 (0.068190)\n",
      "KNN: 0.826535 (0.045339)\n",
      "CART: 0.837437 (0.058384)\n",
      "NB: 0.745050 (0.041790)\n"
     ]
    }
   ],
   "source": [
    "# evaluate each model in turn\n",
    "results = []\n",
    "names = []\n",
    "for name, model in models:\n",
    "    kfold = KFold(n_splits=num_folds, random_state=seed)\n",
    "    cv_results = cross_val_score(model, x_train, y_train, cv=kfold, scoring=scoring)\n",
    "    results.append(cv_results)\n",
    "    names.append(name)\n",
    "    msg = \"%s: %f (%f)\" % (name, cv_results.mean(), cv_results.std())\n",
    "    print(msg)"
   ]
  },
  {
   "cell_type": "markdown",
   "metadata": {},
   "source": [
    "## Standardizing"
   ]
  },
  {
   "cell_type": "code",
   "execution_count": 204,
   "metadata": {},
   "outputs": [],
   "source": [
    "# Standardize the dataset\n",
    "\n",
    "pipelines = []\n",
    "pipelines.append(('ScaledLR', Pipeline([('Scaler', StandardScaler()), ('LR', LogisticRegression())])))\n",
    "pipelines.append(('ScaledKNN', Pipeline([('Scaler', StandardScaler()), ('KNN', KNeighborsClassifier())])))\n",
    "pipelines.append(('ScaledCART', Pipeline([('Scaler', StandardScaler()), ('CART', DecisionTreeClassifier())])))\n",
    "pipelines.append(('ScaledNB' , Pipeline([('Scaler' , StandardScaler()), ('NB', GaussianNB())])))"
   ]
  },
  {
   "cell_type": "code",
   "execution_count": 205,
   "metadata": {},
   "outputs": [
    {
     "name": "stdout",
     "output_type": "stream",
     "text": [
      "ScaledLR: 0.761153 (0.062451)\n",
      "ScaledKNN: 0.803509 (0.033430)\n",
      "ScaledCART: 0.856861 (0.047170)\n",
      "ScaledNB: 0.745050 (0.041790)\n"
     ]
    }
   ],
   "source": [
    "results = []\n",
    "names = []\n",
    "for name, model in pipelines:\n",
    "    kfold = KFold(n_splits=num_folds, random_state=seed)\n",
    "    cv_results = cross_val_score(model, x_train, y_train, cv=kfold, scoring=scoring)\n",
    "    results.append(cv_results)\n",
    "    names.append(name)\n",
    "    msg = \"%s: %f (%f)\" % (name, cv_results.mean(), cv_results.std())\n",
    "    print(msg)"
   ]
  },
  {
   "cell_type": "markdown",
   "metadata": {},
   "source": [
    "##Standardizing doesn't improve performance of any Algorithm\n",
    "\n",
    "##Decision tree performing best"
   ]
  },
  {
   "cell_type": "markdown",
   "metadata": {},
   "source": [
    "## Ensemble Techniques"
   ]
  },
  {
   "cell_type": "code",
   "execution_count": 375,
   "metadata": {},
   "outputs": [],
   "source": [
    "# ensembles\n",
    "ensembles = []\n",
    "ensembles.append(('ScaledAB', Pipeline([('Scaler', StandardScaler()),('AB', AdaBoostClassifier())])))\n",
    "ensembles.append(('ScaledRF', Pipeline([('Scaler', StandardScaler()),('RF', RandomForestClassifier())])))\n",
    "ensembles.append(('ScaledBG', Pipeline([('Scaler' , StandardScaler()), ('BG', BaggingClassifier())])))\n",
    "ensembles.append(('ScaledGB', Pipeline([('Scaler', StandardScaler()), ('GB', GradientBoostingClassifier())])))"
   ]
  },
  {
   "cell_type": "code",
   "execution_count": 376,
   "metadata": {},
   "outputs": [
    {
     "name": "stdout",
     "output_type": "stream",
     "text": [
      "ScaledAB: 0.872588 (0.039216)\n",
      "ScaledRF: 0.895645 (0.045383)\n",
      "ScaledBG: 0.886905 (0.057824)\n",
      "ScaledGB: 0.900877 (0.031787)\n"
     ]
    }
   ],
   "source": [
    "results = []\n",
    "names = []\n",
    "for name, model in ensembles: \n",
    "    kfold = KFold(n_splits=num_folds, random_state=seed) \n",
    "    cv_results = cross_val_score(model, x_train, y_train, cv=kfold, scoring=scoring)\n",
    "    results.append(cv_results)\n",
    "    names.append(name)\n",
    "    msg = \"%s: %f (%f)\" % (name, cv_results.mean(), cv_results.std())\n",
    "    print(msg)"
   ]
  },
  {
   "cell_type": "markdown",
   "metadata": {},
   "source": [
    "##Gradient-Boosting performs best follow by Random Forest and Bagging"
   ]
  },
  {
   "cell_type": "markdown",
   "metadata": {},
   "source": [
    "## Changing Parameters for Ensemble"
   ]
  },
  {
   "cell_type": "markdown",
   "metadata": {},
   "source": [
    "##Changing base estimator as Decision-Tree for Adaboost and bagging"
   ]
  },
  {
   "cell_type": "code",
   "execution_count": 379,
   "metadata": {},
   "outputs": [],
   "source": [
    "# ensembles\n",
    "ensembles = []\n",
    "ensembles.append(('ScaledAB', Pipeline([('Scaler', StandardScaler()),('AB', AdaBoostClassifier(base_estimator=DecisionTreeClassifier()))])))\n",
    "ensembles.append(('ScaledRF', Pipeline([('Scaler', StandardScaler()),('RF', RandomForestClassifier())])))\n",
    "ensembles.append(('ScaledBG', Pipeline([('Scaler' , StandardScaler()), ('BG', BaggingClassifier(base_estimator=DecisionTreeClassifier()))])))\n",
    "ensembles.append(('ScaledGB', Pipeline([('Scaler', StandardScaler()), ('GB', GradientBoostingClassifier())])))"
   ]
  },
  {
   "cell_type": "code",
   "execution_count": 380,
   "metadata": {},
   "outputs": [
    {
     "name": "stdout",
     "output_type": "stream",
     "text": [
      "ScaledAB: 0.863816 (0.040056)\n",
      "ScaledRF: 0.869204 (0.048226)\n",
      "ScaledBG: 0.890257 (0.050918)\n",
      "ScaledGB: 0.897306 (0.032480)\n"
     ]
    }
   ],
   "source": [
    "results = []\n",
    "names = []\n",
    "for name, model in ensembles: \n",
    "    kfold = KFold(n_splits=num_folds, random_state=seed) \n",
    "    cv_results = cross_val_score(model, x_train, y_train, cv=kfold, scoring=scoring)\n",
    "    results.append(cv_results)\n",
    "    names.append(name)\n",
    "    msg = \"%s: %f (%f)\" % (name, cv_results.mean(), cv_results.std())\n",
    "    print(msg)"
   ]
  },
  {
   "cell_type": "markdown",
   "metadata": {},
   "source": [
    "##However Gradient-Boosting performance Tops"
   ]
  },
  {
   "cell_type": "markdown",
   "metadata": {},
   "source": [
    "## Finalizing the model with Gradient-Boosting"
   ]
  },
  {
   "cell_type": "code",
   "execution_count": 381,
   "metadata": {},
   "outputs": [
    {
     "data": {
      "text/plain": [
       "GradientBoostingClassifier(criterion='friedman_mse', init=None,\n",
       "              learning_rate=0.1, loss='deviance', max_depth=3,\n",
       "              max_features=None, max_leaf_nodes=None,\n",
       "              min_impurity_decrease=0.0, min_impurity_split=None,\n",
       "              min_samples_leaf=1, min_samples_split=2,\n",
       "              min_weight_fraction_leaf=0.0, n_estimators=100,\n",
       "              n_iter_no_change=None, presort='auto', random_state=None,\n",
       "              subsample=1.0, tol=0.0001, validation_fraction=0.1,\n",
       "              verbose=0, warm_start=False)"
      ]
     },
     "execution_count": 381,
     "metadata": {},
     "output_type": "execute_result"
    }
   ],
   "source": [
    "# Model Preparation\n",
    "\n",
    "scaler = StandardScaler().fit(x_train)\n",
    "rescaledX = scaler.transform(x_train)\n",
    "model = GradientBoostingClassifier()\n",
    "model.fit(rescaledX, y_train)"
   ]
  },
  {
   "cell_type": "code",
   "execution_count": 382,
   "metadata": {},
   "outputs": [
    {
     "name": "stdout",
     "output_type": "stream",
     "text": [
      "\n",
      "\t\t\t\t\tResult of Gradient-Boosting for TEST Data\n",
      "\n",
      "\n",
      "Accuracy : 0.8888888888888888\n",
      "\n",
      "\n",
      "Classfication Table :\n",
      "\n",
      "               precision    recall  f1-score   support\n",
      "\n",
      "       False       0.88      0.99      0.93       193\n",
      "        True       0.96      0.48      0.64        50\n",
      "\n",
      "   micro avg       0.89      0.89      0.89       243\n",
      "   macro avg       0.92      0.74      0.79       243\n",
      "weighted avg       0.90      0.89      0.87       243\n",
      "\n"
     ]
    }
   ],
   "source": [
    "# Transforming and fitting the Test data\n",
    "\n",
    "rescaledValidationX = scaler.transform(x_test)\n",
    "predictions = model.predict(rescaledValidationX)\n",
    "print('\\n\\t\\t\\t\\t\\tResult of Gradient-Boosting for TEST Data')\n",
    "print('\\n\\nAccuracy :' , metrics.accuracy_score(y_test, predictions))\n",
    "print('\\n\\nClassfication Table :\\n\\n' , metrics.classification_report(y_test , predictions))"
   ]
  },
  {
   "cell_type": "code",
   "execution_count": 384,
   "metadata": {},
   "outputs": [
    {
     "name": "stdout",
     "output_type": "stream",
     "text": [
      "\n",
      "\t\t\t\t\tResult of Gradient-Boosting for Validation Data\n",
      "\n",
      "Accuracy : 0.9523809523809523\n",
      "\n",
      "\n",
      "Classfication Table :\n",
      "\n",
      "               precision    recall  f1-score   support\n",
      "\n",
      "       False       0.96      0.99      0.98       161\n",
      "        True       0.00      0.00      0.00         7\n",
      "\n",
      "   micro avg       0.95      0.95      0.95       168\n",
      "   macro avg       0.48      0.50      0.49       168\n",
      "weighted avg       0.92      0.95      0.93       168\n",
      "\n"
     ]
    }
   ],
   "source": [
    "## Transforming and fitting the Validation data\n",
    "\n",
    "rescaledValidationX = scaler.transform(x_validation)\n",
    "predictions = model.predict(rescaledValidationX)\n",
    "print('\\n\\t\\t\\t\\t\\tResult of Gradient-Boosting for Validation Data')\n",
    "print('\\nAccuracy :' , metrics.accuracy_score(y_validation, predictions))\n",
    "print('\\n\\nClassfication Table :\\n\\n' , metrics.classification_report(y_validation , predictions))"
   ]
  },
  {
   "cell_type": "markdown",
   "metadata": {},
   "source": [
    "## Trying LDA with original target variable which has two class"
   ]
  },
  {
   "cell_type": "code",
   "execution_count": 385,
   "metadata": {},
   "outputs": [
    {
     "data": {
      "text/plain": [
       "Index(['Hormonal Contraceptives', 'IUD', 'STDs', 'STDs:condylomatosis',\n",
       "       'STDs:vulvo-perineal condylomatosis', 'Age',\n",
       "       'Number of sexual partners', 'First sexual intercourse',\n",
       "       'Num of pregnancies', 'Smokes', 'Smokes (years)', 'Smokes (packs/year)',\n",
       "       'Hormonal Contraceptives (years)', 'IUD (years)', 'STDs (number)',\n",
       "       'STDs: Number of diagnosis', 'STDs:HIV', 'Biopsy', 'prob_biopsy'],\n",
       "      dtype='object')"
      ]
     },
     "execution_count": 385,
     "metadata": {},
     "output_type": "execute_result"
    }
   ],
   "source": [
    "data1.columns"
   ]
  },
  {
   "cell_type": "code",
   "execution_count": 393,
   "metadata": {},
   "outputs": [],
   "source": [
    "x = data1[['Hormonal Contraceptives' , 'IUD' , 'STDs' , 'STDs:condylomatosis' , 'STDs:vulvo-perineal condylomatosis' ,\n",
    "          'Age', 'Number of sexual partners', 'First sexual intercourse',\n",
    "       'Num of pregnancies', 'Smokes', 'Smokes (years)', 'Smokes (packs/year)','Hormonal Contraceptives (years)',\n",
    "          'IUD (years)','STDs (number)','STDs: Number of diagnosis','STDs:HIV']]\n",
    "\n",
    "y = data1[['Biopsy']]\n",
    "\n",
    "x_train , x_test , y_train , y_test = train_test_split(x , y , test_size = 0.3 , random_state = 100)"
   ]
  },
  {
   "cell_type": "code",
   "execution_count": 394,
   "metadata": {},
   "outputs": [],
   "source": [
    "lda = LinearDiscriminantAnalysis()\n",
    "\n",
    "seed = 10"
   ]
  },
  {
   "cell_type": "code",
   "execution_count": 395,
   "metadata": {},
   "outputs": [],
   "source": [
    "kfold = model_selection.KFold(n_splits=10 , random_state=seed)\n",
    "model = LinearDiscriminantAnalysis()\n",
    "scoring = 'accuracy'"
   ]
  },
  {
   "cell_type": "code",
   "execution_count": 396,
   "metadata": {},
   "outputs": [
    {
     "name": "stdout",
     "output_type": "stream",
     "text": [
      "Accuracy : 0.759(0.062)\n"
     ]
    }
   ],
   "source": [
    "results = model_selection.cross_val_score(model , x_train , y_train , cv=kfold , scoring=scoring)\n",
    "print('Accuracy : %.3f(%.3f)' % (results.mean() , results.std()))"
   ]
  },
  {
   "cell_type": "code",
   "execution_count": 398,
   "metadata": {},
   "outputs": [
    {
     "name": "stdout",
     "output_type": "stream",
     "text": [
      "\n",
      "\t\t\tResult of LDA for TEST Data with original Target columns with two class\n",
      "\n",
      "\n",
      "Accuracy : 0.8106995884773662\n",
      "\n",
      "\n",
      "Classfication Table :\n",
      "\n",
      "               precision    recall  f1-score   support\n",
      "\n",
      "       False       0.82      0.98      0.89       193\n",
      "        True       0.67      0.16      0.26        50\n",
      "\n",
      "   micro avg       0.81      0.81      0.81       243\n",
      "   macro avg       0.74      0.57      0.57       243\n",
      "weighted avg       0.79      0.81      0.76       243\n",
      "\n"
     ]
    }
   ],
   "source": [
    "lda.fit(x_train , y_train)\n",
    "prediction = lda.predict(x_test)\n",
    "print('\\n\\t\\t\\tResult of LDA for TEST Data with original Target columns with two class')\n",
    "print('\\n\\nAccuracy :' , metrics.accuracy_score(y_test, prediction))\n",
    "print('\\n\\nClassfication Table :\\n\\n' , metrics.classification_report(y_test , prediction))"
   ]
  },
  {
   "cell_type": "code",
   "execution_count": 400,
   "metadata": {},
   "outputs": [
    {
     "name": "stdout",
     "output_type": "stream",
     "text": [
      "\n",
      "\t\t\tResult of LDA for Validation Data with original Target columns with two class\n",
      "\n",
      "\n",
      "Accuracy : 0.9345238095238095\n",
      "\n",
      "\n",
      "Classfication Table :\n",
      "\n",
      "               precision    recall  f1-score   support\n",
      "\n",
      "       False       0.96      0.98      0.97       161\n",
      "        True       0.00      0.00      0.00         7\n",
      "\n",
      "   micro avg       0.93      0.93      0.93       168\n",
      "   macro avg       0.48      0.49      0.48       168\n",
      "weighted avg       0.92      0.93      0.93       168\n",
      "\n"
     ]
    }
   ],
   "source": [
    "## Lets check for Validation data\n",
    "\n",
    "prediction = lda.predict(x_validation)\n",
    "print('\\n\\t\\t\\tResult of LDA for Validation Data with original Target columns with two class')\n",
    "print('\\n\\nAccuracy :' , metrics.accuracy_score(y_validation, prediction))\n",
    "print('\\n\\nClassfication Table :\\n\\n' , metrics.classification_report(y_validation , prediction))"
   ]
  },
  {
   "cell_type": "code",
   "execution_count": null,
   "metadata": {},
   "outputs": [],
   "source": []
  }
 ],
 "metadata": {
  "kernelspec": {
   "display_name": "Python 3",
   "language": "python",
   "name": "python3"
  },
  "language_info": {
   "codemirror_mode": {
    "name": "ipython",
    "version": 3
   },
   "file_extension": ".py",
   "mimetype": "text/x-python",
   "name": "python",
   "nbconvert_exporter": "python",
   "pygments_lexer": "ipython3",
   "version": "3.6.5"
  }
 },
 "nbformat": 4,
 "nbformat_minor": 2
}
